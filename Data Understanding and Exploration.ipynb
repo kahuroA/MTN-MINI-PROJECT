{
 "cells": [
  {
   "cell_type": "markdown",
   "id": "9e223dc6",
   "metadata": {},
   "source": [
    " "
   ]
  },
  {
   "cell_type": "markdown",
   "id": "41ed8271",
   "metadata": {},
   "source": [
    "## BUSINESS UNDERSTANDING "
   ]
  },
  {
   "cell_type": "raw",
   "id": "87ee1431",
   "metadata": {},
   "source": [
    "MTN Cote D’Ivoire is a leading tele-communication company which is a subsidiary of South Africa- based MTN Group. Its main services are the post-paid and prepaid GSM services including fixed line, mobile and internet services. As data analysts, our main objective for this project is to determine how MTN will go about upgrading its technology infrastructure for its mobile users in Ivory Coast putting into consideration the demographic distribution focusing mainly on Abidjan and Interieur cities and in the long run generate more profits for MTN. We will use the provided data sets (cells_geo.csv, CDR 20120508, CDR 20120508, CDR 20120509) to mine and clean data useful for our project. The success of our project will be based on MTN being able to effectively upgrade its infrastructure for all its mobile users of the given cities in Ivory Coast and see to it that this upgrade causes very little downtimes and any glitches are severely restricted. With over 11 million subscribers, our requirements are that we ensure that the data we use is representative. We believe that the data required can be found from MTN user records. The potential risk of this project is that our customers could face outages. However, we will ensure that this is minimized when taking into account when to complete the upgrade. Our main data mining goal will be to predict the number of mobile users who will efficiently use the upgraded technology infrastructure in the various cities. This will help us understand where our mobiles users in the Ivory Coast are, when the network is the busiest, which mode of communication/ product is the busiest at certain times of the day and the best time MTN can upgrade its infrastructure. To achieve our goal, we will analyze data of the products MTN offers and their distribution in the cities and admin regions within Ivory Coast. "
   ]
  },
  {
   "cell_type": "markdown",
   "id": "64d7227b",
   "metadata": {},
   "source": [
    "## DATA UNDERSTANDING "
   ]
  },
  {
   "cell_type": "markdown",
   "id": "4271bb76",
   "metadata": {},
   "source": [
    "## TELCOM DATASET UNDERSTANDING\n"
   ]
  },
  {
   "cell_type": "markdown",
   "id": "68faf173",
   "metadata": {},
   "source": [
    "### a. INITIAL DATA SOURCE\n",
    "The data was sourced from:\n",
    "\n",
    "1. CDR_description.xlsx [Link]\n",
    "\n",
    "2. CDR 20120507 [https://bit.ly/Telcom_dataset1]\n",
    "\n",
    "3. CDR 20120508 [https://bit.ly/Telcom_dataset2]\n",
    "\n",
    "4. CDR 20120509 [https://bit.ly/Telcom_dataset3]"
   ]
  },
  {
   "cell_type": "markdown",
   "id": "cfddb9e6",
   "metadata": {},
   "source": [
    "### b. DESCRIPTION\n",
    "The Telcom dataset was in csv format. Below is a description of the columns in this data set"
   ]
  },
  {
   "cell_type": "code",
   "execution_count": 8,
   "id": "9ffdc06f",
   "metadata": {},
   "outputs": [],
   "source": [
    "import pandas as pd "
   ]
  },
  {
   "cell_type": "code",
   "execution_count": 6,
   "id": "11a8cb1f",
   "metadata": {},
   "outputs": [],
   "source": [
    "Telcom_descr=pd.read_excel('./Data/CDR_description.xlsx')"
   ]
  },
  {
   "cell_type": "code",
   "execution_count": 7,
   "id": "a3a9bc2e",
   "metadata": {},
   "outputs": [
    {
     "data": {
      "text/html": [
       "<div>\n",
       "<style scoped>\n",
       "    .dataframe tbody tr th:only-of-type {\n",
       "        vertical-align: middle;\n",
       "    }\n",
       "\n",
       "    .dataframe tbody tr th {\n",
       "        vertical-align: top;\n",
       "    }\n",
       "\n",
       "    .dataframe thead th {\n",
       "        text-align: right;\n",
       "    }\n",
       "</style>\n",
       "<table border=\"1\" class=\"dataframe\">\n",
       "  <thead>\n",
       "    <tr style=\"text-align: right;\">\n",
       "      <th></th>\n",
       "      <th>Column name</th>\n",
       "      <th>Description</th>\n",
       "      <th>Format</th>\n",
       "    </tr>\n",
       "  </thead>\n",
       "  <tbody>\n",
       "    <tr>\n",
       "      <th>0</th>\n",
       "      <td>PRODUCT</td>\n",
       "      <td>Voice or SMS</td>\n",
       "      <td>String</td>\n",
       "    </tr>\n",
       "    <tr>\n",
       "      <th>1</th>\n",
       "      <td>VALUE</td>\n",
       "      <td>Billing price</td>\n",
       "      <td>Integer</td>\n",
       "    </tr>\n",
       "    <tr>\n",
       "      <th>2</th>\n",
       "      <td>DATE_TIME</td>\n",
       "      <td>Time in format yyyy-MM-dd hh:mm:ss.0</td>\n",
       "      <td>String</td>\n",
       "    </tr>\n",
       "    <tr>\n",
       "      <th>3</th>\n",
       "      <td>CELL_ON_SITE</td>\n",
       "      <td>Which cell in the site was used (not needed here)</td>\n",
       "      <td>Integer</td>\n",
       "    </tr>\n",
       "    <tr>\n",
       "      <th>4</th>\n",
       "      <td>DW_A_NUMBER_INT</td>\n",
       "      <td>Anonymized phone number of the person for whic...</td>\n",
       "      <td>String</td>\n",
       "    </tr>\n",
       "    <tr>\n",
       "      <th>5</th>\n",
       "      <td>DW_B_NUMBER_INT</td>\n",
       "      <td>Anonymized phone number of the counterparty</td>\n",
       "      <td>String</td>\n",
       "    </tr>\n",
       "    <tr>\n",
       "      <th>6</th>\n",
       "      <td>COUNTRY_A</td>\n",
       "      <td>Country of party A (useless here)</td>\n",
       "      <td>String</td>\n",
       "    </tr>\n",
       "    <tr>\n",
       "      <th>7</th>\n",
       "      <td>COUNTRY_B</td>\n",
       "      <td>Country of party B (useless here)</td>\n",
       "      <td>String</td>\n",
       "    </tr>\n",
       "    <tr>\n",
       "      <th>8</th>\n",
       "      <td>CELL_ID</td>\n",
       "      <td>ID of the cell</td>\n",
       "      <td>String</td>\n",
       "    </tr>\n",
       "    <tr>\n",
       "      <th>9</th>\n",
       "      <td>SITE_ID</td>\n",
       "      <td>ID of the SITE</td>\n",
       "      <td>String</td>\n",
       "    </tr>\n",
       "  </tbody>\n",
       "</table>\n",
       "</div>"
      ],
      "text/plain": [
       "       Column name                                        Description   Format\n",
       "0          PRODUCT                                       Voice or SMS   String\n",
       "1            VALUE                                      Billing price  Integer\n",
       "2        DATE_TIME               Time in format yyyy-MM-dd hh:mm:ss.0   String\n",
       "3     CELL_ON_SITE  Which cell in the site was used (not needed here)  Integer\n",
       "4  DW_A_NUMBER_INT  Anonymized phone number of the person for whic...   String\n",
       "5  DW_B_NUMBER_INT        Anonymized phone number of the counterparty   String\n",
       "6        COUNTRY_A                  Country of party A (useless here)   String\n",
       "7        COUNTRY_B                  Country of party B (useless here)   String\n",
       "8          CELL_ID                                     ID of the cell   String\n",
       "9          SITE_ID                                     ID of the SITE   String"
      ]
     },
     "execution_count": 7,
     "metadata": {},
     "output_type": "execute_result"
    }
   ],
   "source": [
    "Telcom_descr"
   ]
  },
  {
   "cell_type": "code",
   "execution_count": null,
   "id": "0d985dcd",
   "metadata": {},
   "outputs": [],
   "source": []
  },
  {
   "cell_type": "markdown",
   "id": "01c40518",
   "metadata": {},
   "source": [
    "### c. TELCOM DATA EXPLORATION AND QUALITY VERIFICATION"
   ]
  },
  {
   "cell_type": "markdown",
   "id": "5048dea9",
   "metadata": {},
   "source": [
    "#### Loading the three data sets"
   ]
  },
  {
   "cell_type": "code",
   "execution_count": 33,
   "id": "ccb1672c",
   "metadata": {},
   "outputs": [
    {
     "data": {
      "text/html": [
       "<div>\n",
       "<style scoped>\n",
       "    .dataframe tbody tr th:only-of-type {\n",
       "        vertical-align: middle;\n",
       "    }\n",
       "\n",
       "    .dataframe tbody tr th {\n",
       "        vertical-align: top;\n",
       "    }\n",
       "\n",
       "    .dataframe thead th {\n",
       "        text-align: right;\n",
       "    }\n",
       "</style>\n",
       "<table border=\"1\" class=\"dataframe\">\n",
       "  <thead>\n",
       "    <tr style=\"text-align: right;\">\n",
       "      <th></th>\n",
       "      <th>PRODUTC</th>\n",
       "      <th>VALUE</th>\n",
       "      <th>DATETIME</th>\n",
       "      <th>CELL_ON_SITE</th>\n",
       "      <th>DW_A_NUMBER_INT</th>\n",
       "      <th>DW_B_NUMBER_INT</th>\n",
       "      <th>COUNTRY_A</th>\n",
       "      <th>COUNTRY_B</th>\n",
       "      <th>CELL_ID</th>\n",
       "      <th>SITE_ID</th>\n",
       "    </tr>\n",
       "  </thead>\n",
       "  <tbody>\n",
       "    <tr>\n",
       "      <th>0</th>\n",
       "      <td>Voice</td>\n",
       "      <td>0</td>\n",
       "      <td>04:37.0</td>\n",
       "      <td>1</td>\n",
       "      <td>49fae048b547780</td>\n",
       "      <td>1a49f8b0ded9de6</td>\n",
       "      <td>19e2e</td>\n",
       "      <td>19e2e</td>\n",
       "      <td>/TJNe+Mmtu</td>\n",
       "      <td>/TJNe+Mmtu</td>\n",
       "    </tr>\n",
       "    <tr>\n",
       "      <th>1</th>\n",
       "      <td>sms</td>\n",
       "      <td>0</td>\n",
       "      <td>05:25.0</td>\n",
       "      <td>0</td>\n",
       "      <td>7a54a6eaee19e65</td>\n",
       "      <td>93343ba6e41af95</td>\n",
       "      <td>19e2e</td>\n",
       "      <td>19e2e</td>\n",
       "      <td>/+cKZKIp41</td>\n",
       "      <td>/+cKZKIp41</td>\n",
       "    </tr>\n",
       "    <tr>\n",
       "      <th>2</th>\n",
       "      <td>sms</td>\n",
       "      <td>25</td>\n",
       "      <td>05:41.0</td>\n",
       "      <td>0</td>\n",
       "      <td>6008887b0207d82</td>\n",
       "      <td>7aacc9709ce0a20</td>\n",
       "      <td>19e2e</td>\n",
       "      <td>19e2e</td>\n",
       "      <td>/u0FSD+ahi</td>\n",
       "      <td>/u0FSD+ahi</td>\n",
       "    </tr>\n",
       "    <tr>\n",
       "      <th>3</th>\n",
       "      <td>Voice</td>\n",
       "      <td>56</td>\n",
       "      <td>05:42.0</td>\n",
       "      <td>1</td>\n",
       "      <td>7370032e20f4e96</td>\n",
       "      <td>6af4a60e74c91d3</td>\n",
       "      <td>19e2e</td>\n",
       "      <td>19e2e</td>\n",
       "      <td>#NAME?</td>\n",
       "      <td>#NAME?</td>\n",
       "    </tr>\n",
       "    <tr>\n",
       "      <th>4</th>\n",
       "      <td>Voice</td>\n",
       "      <td>14</td>\n",
       "      <td>06:29.0</td>\n",
       "      <td>1</td>\n",
       "      <td>966ba4656e38e62</td>\n",
       "      <td>02aa736ee555d5c</td>\n",
       "      <td>19e2e</td>\n",
       "      <td>19e2e</td>\n",
       "      <td>051KhYDCpv</td>\n",
       "      <td>051KhYDCpv</td>\n",
       "    </tr>\n",
       "  </tbody>\n",
       "</table>\n",
       "</div>"
      ],
      "text/plain": [
       "  PRODUTC  VALUE DATETIME CELL_ON_SITE  DW_A_NUMBER_INT  DW_B_NUMBER_INT  \\\n",
       "0   Voice      0  04:37.0            1  49fae048b547780  1a49f8b0ded9de6   \n",
       "1     sms      0  05:25.0            0  7a54a6eaee19e65  93343ba6e41af95   \n",
       "2     sms     25  05:41.0            0  6008887b0207d82  7aacc9709ce0a20   \n",
       "3   Voice     56  05:42.0            1  7370032e20f4e96  6af4a60e74c91d3   \n",
       "4   Voice     14  06:29.0            1  966ba4656e38e62  02aa736ee555d5c   \n",
       "\n",
       "  COUNTRY_A COUNTRY_B     CELL_ID     SITE_ID  \n",
       "0     19e2e     19e2e  /TJNe+Mmtu  /TJNe+Mmtu  \n",
       "1     19e2e     19e2e  /+cKZKIp41  /+cKZKIp41  \n",
       "2     19e2e     19e2e  /u0FSD+ahi  /u0FSD+ahi  \n",
       "3     19e2e     19e2e      #NAME?      #NAME?  \n",
       "4     19e2e     19e2e  051KhYDCpv  051KhYDCpv  "
      ]
     },
     "execution_count": 33,
     "metadata": {},
     "output_type": "execute_result"
    }
   ],
   "source": [
    "df = pd.read_csv('./Data/Telcom_dataset.csv')\n",
    "df.head(5)"
   ]
  },
  {
   "cell_type": "code",
   "execution_count": 34,
   "id": "bed62c25",
   "metadata": {},
   "outputs": [
    {
     "data": {
      "text/html": [
       "<div>\n",
       "<style scoped>\n",
       "    .dataframe tbody tr th:only-of-type {\n",
       "        vertical-align: middle;\n",
       "    }\n",
       "\n",
       "    .dataframe tbody tr th {\n",
       "        vertical-align: top;\n",
       "    }\n",
       "\n",
       "    .dataframe thead th {\n",
       "        text-align: right;\n",
       "    }\n",
       "</style>\n",
       "<table border=\"1\" class=\"dataframe\">\n",
       "  <thead>\n",
       "    <tr style=\"text-align: right;\">\n",
       "      <th></th>\n",
       "      <th>PRODUCT</th>\n",
       "      <th>VALUE</th>\n",
       "      <th>DATE_TIME</th>\n",
       "      <th>CELL_ON_SITE</th>\n",
       "      <th>DW_A_NUMBER</th>\n",
       "      <th>DW_B_NUMBER</th>\n",
       "      <th>COUNTRY_A</th>\n",
       "      <th>COUNTRY_B</th>\n",
       "      <th>CELL_ID</th>\n",
       "      <th>SITE_ID</th>\n",
       "    </tr>\n",
       "  </thead>\n",
       "  <tbody>\n",
       "    <tr>\n",
       "      <th>0</th>\n",
       "      <td>sms</td>\n",
       "      <td>0</td>\n",
       "      <td>2012-05-07 23:02:06.0</td>\n",
       "      <td>2</td>\n",
       "      <td>32255675c3b6fe3</td>\n",
       "      <td>1aa7ae01386e9fb</td>\n",
       "      <td>19e2e</td>\n",
       "      <td>19e2e</td>\n",
       "      <td>+854AcBQT2</td>\n",
       "      <td>+854AcBQT2</td>\n",
       "    </tr>\n",
       "    <tr>\n",
       "      <th>1</th>\n",
       "      <td>Voice</td>\n",
       "      <td>0</td>\n",
       "      <td>2012-05-07 23:03:44.0</td>\n",
       "      <td>1</td>\n",
       "      <td>ff16d6ac74c1c64</td>\n",
       "      <td>87d87309c15a8c9</td>\n",
       "      <td>19e2e</td>\n",
       "      <td>19e2e</td>\n",
       "      <td>+854AcBQT2</td>\n",
       "      <td>+854AcBQT2</td>\n",
       "    </tr>\n",
       "    <tr>\n",
       "      <th>2</th>\n",
       "      <td>sms</td>\n",
       "      <td>0</td>\n",
       "      <td>2012-05-07 23:04:06.0</td>\n",
       "      <td>0</td>\n",
       "      <td>98d9f2fb5ff624b</td>\n",
       "      <td>93343ba6e41af95</td>\n",
       "      <td>19e2e</td>\n",
       "      <td>19e2e</td>\n",
       "      <td>+laSrk7g6q</td>\n",
       "      <td>+laSrk7g6q</td>\n",
       "    </tr>\n",
       "    <tr>\n",
       "      <th>3</th>\n",
       "      <td>Voice</td>\n",
       "      <td>37</td>\n",
       "      <td>2012-05-07 23:04:48.0</td>\n",
       "      <td>1</td>\n",
       "      <td>3f9c8a33ec7be1f</td>\n",
       "      <td>7d05a38f89c49d8</td>\n",
       "      <td>19e2e</td>\n",
       "      <td>19e2e</td>\n",
       "      <td>/xvRrCVKoQ</td>\n",
       "      <td>/xvRrCVKoQ</td>\n",
       "    </tr>\n",
       "    <tr>\n",
       "      <th>4</th>\n",
       "      <td>sms</td>\n",
       "      <td>25</td>\n",
       "      <td>2012-05-07 23:04:58.0</td>\n",
       "      <td>1</td>\n",
       "      <td>7bcccc03adf3864</td>\n",
       "      <td>56a5d5430d2fa86</td>\n",
       "      <td>19e2e</td>\n",
       "      <td>19e2e</td>\n",
       "      <td>+bO+qkSonO</td>\n",
       "      <td>+bO+qkSonO</td>\n",
       "    </tr>\n",
       "  </tbody>\n",
       "</table>\n",
       "</div>"
      ],
      "text/plain": [
       "  PRODUCT  VALUE              DATE_TIME CELL_ON_SITE      DW_A_NUMBER  \\\n",
       "0     sms      0  2012-05-07 23:02:06.0            2  32255675c3b6fe3   \n",
       "1   Voice      0  2012-05-07 23:03:44.0            1  ff16d6ac74c1c64   \n",
       "2     sms      0  2012-05-07 23:04:06.0            0  98d9f2fb5ff624b   \n",
       "3   Voice     37  2012-05-07 23:04:48.0            1  3f9c8a33ec7be1f   \n",
       "4     sms     25  2012-05-07 23:04:58.0            1  7bcccc03adf3864   \n",
       "\n",
       "       DW_B_NUMBER COUNTRY_A COUNTRY_B     CELL_ID     SITE_ID  \n",
       "0  1aa7ae01386e9fb     19e2e     19e2e  +854AcBQT2  +854AcBQT2  \n",
       "1  87d87309c15a8c9     19e2e     19e2e  +854AcBQT2  +854AcBQT2  \n",
       "2  93343ba6e41af95     19e2e     19e2e  +laSrk7g6q  +laSrk7g6q  \n",
       "3  7d05a38f89c49d8     19e2e     19e2e  /xvRrCVKoQ  /xvRrCVKoQ  \n",
       "4  56a5d5430d2fa86     19e2e     19e2e  +bO+qkSonO  +bO+qkSonO  "
      ]
     },
     "execution_count": 34,
     "metadata": {},
     "output_type": "execute_result"
    }
   ],
   "source": [
    "df2 = pd.read_csv('./Data/Telcom_dataset2.csv')\n",
    "df2.head()"
   ]
  },
  {
   "cell_type": "code",
   "execution_count": 32,
   "id": "49b88445",
   "metadata": {},
   "outputs": [
    {
     "data": {
      "text/html": [
       "<div>\n",
       "<style scoped>\n",
       "    .dataframe tbody tr th:only-of-type {\n",
       "        vertical-align: middle;\n",
       "    }\n",
       "\n",
       "    .dataframe tbody tr th {\n",
       "        vertical-align: top;\n",
       "    }\n",
       "\n",
       "    .dataframe thead th {\n",
       "        text-align: right;\n",
       "    }\n",
       "</style>\n",
       "<table border=\"1\" class=\"dataframe\">\n",
       "  <thead>\n",
       "    <tr style=\"text-align: right;\">\n",
       "      <th></th>\n",
       "      <th>PRODUCT</th>\n",
       "      <th>VALUE</th>\n",
       "      <th>DATE_TIME</th>\n",
       "      <th>CELL_ON_SITE</th>\n",
       "      <th>DW_A_NUMBER_INT</th>\n",
       "      <th>DW_B_NUMBER_INT</th>\n",
       "      <th>COUNTRY_A</th>\n",
       "      <th>COUNTRY_B</th>\n",
       "      <th>CELLID</th>\n",
       "      <th>SIET_ID</th>\n",
       "    </tr>\n",
       "  </thead>\n",
       "  <tbody>\n",
       "    <tr>\n",
       "      <th>0</th>\n",
       "      <td>Voice</td>\n",
       "      <td>61</td>\n",
       "      <td>2012-05-08 23:01:28.0</td>\n",
       "      <td>2</td>\n",
       "      <td>966f68353622feb</td>\n",
       "      <td>ffd53a3bb2db6f1</td>\n",
       "      <td>19e2e</td>\n",
       "      <td>19e2e</td>\n",
       "      <td>+38u2u/rfx</td>\n",
       "      <td>+38u2u/rfx</td>\n",
       "    </tr>\n",
       "    <tr>\n",
       "      <th>1</th>\n",
       "      <td>sms</td>\n",
       "      <td>0</td>\n",
       "      <td>2012-05-08 23:01:31.0</td>\n",
       "      <td>1</td>\n",
       "      <td>a0a597384c612d7</td>\n",
       "      <td>cf3b218f1dde792</td>\n",
       "      <td>19e2e</td>\n",
       "      <td>19e2e</td>\n",
       "      <td>+Fs4mTvdKx</td>\n",
       "      <td>+Fs4mTvdKx</td>\n",
       "    </tr>\n",
       "    <tr>\n",
       "      <th>2</th>\n",
       "      <td>Voice</td>\n",
       "      <td>10</td>\n",
       "      <td>2012-05-08 23:02:59.0</td>\n",
       "      <td>1</td>\n",
       "      <td>5441a9a58c97132</td>\n",
       "      <td>52f8b299515b9b7</td>\n",
       "      <td>19e2e</td>\n",
       "      <td>19e2e</td>\n",
       "      <td>+ZaaZozy/+</td>\n",
       "      <td>+ZaaZozy/+</td>\n",
       "    </tr>\n",
       "    <tr>\n",
       "      <th>3</th>\n",
       "      <td>sms</td>\n",
       "      <td>0</td>\n",
       "      <td>2012-05-08 23:03:04.0</td>\n",
       "      <td>0</td>\n",
       "      <td>8ab8b9ed6989f61</td>\n",
       "      <td>e09e736e46c5c3d</td>\n",
       "      <td>19e2e</td>\n",
       "      <td>19e2e</td>\n",
       "      <td>+cNeJzsTp3</td>\n",
       "      <td>+cNeJzsTp3</td>\n",
       "    </tr>\n",
       "    <tr>\n",
       "      <th>4</th>\n",
       "      <td>Voice</td>\n",
       "      <td>22</td>\n",
       "      <td>2012-05-08 23:03:16.0</td>\n",
       "      <td>4</td>\n",
       "      <td>52662a62b199334</td>\n",
       "      <td>2186273faab4602</td>\n",
       "      <td>19e2e</td>\n",
       "      <td>19e2e</td>\n",
       "      <td>/eeMklgyJA</td>\n",
       "      <td>/eeMklgyJA</td>\n",
       "    </tr>\n",
       "  </tbody>\n",
       "</table>\n",
       "</div>"
      ],
      "text/plain": [
       "  PRODUCT  VALUE              DATE_TIME CELL_ON_SITE  DW_A_NUMBER_INT  \\\n",
       "0   Voice     61  2012-05-08 23:01:28.0            2  966f68353622feb   \n",
       "1     sms      0  2012-05-08 23:01:31.0            1  a0a597384c612d7   \n",
       "2   Voice     10  2012-05-08 23:02:59.0            1  5441a9a58c97132   \n",
       "3     sms      0  2012-05-08 23:03:04.0            0  8ab8b9ed6989f61   \n",
       "4   Voice     22  2012-05-08 23:03:16.0            4  52662a62b199334   \n",
       "\n",
       "   DW_B_NUMBER_INT COUNTRY_A COUNTRY_B      CELLID     SIET_ID  \n",
       "0  ffd53a3bb2db6f1     19e2e     19e2e  +38u2u/rfx  +38u2u/rfx  \n",
       "1  cf3b218f1dde792     19e2e     19e2e  +Fs4mTvdKx  +Fs4mTvdKx  \n",
       "2  52f8b299515b9b7     19e2e     19e2e  +ZaaZozy/+  +ZaaZozy/+  \n",
       "3  e09e736e46c5c3d     19e2e     19e2e  +cNeJzsTp3  +cNeJzsTp3  \n",
       "4  2186273faab4602     19e2e     19e2e  /eeMklgyJA  /eeMklgyJA  "
      ]
     },
     "execution_count": 32,
     "metadata": {},
     "output_type": "execute_result"
    }
   ],
   "source": [
    "df3 = pd.read_csv('./Data/Telcom_dataset3.csv')\n",
    "df3.head()"
   ]
  },
  {
   "cell_type": "markdown",
   "id": "75ba04e8",
   "metadata": {},
   "source": [
    "#### Dimensions of Datasets"
   ]
  },
  {
   "cell_type": "code",
   "execution_count": 37,
   "id": "a1133c06",
   "metadata": {},
   "outputs": [
    {
     "name": "stdout",
     "output_type": "stream",
     "text": [
      "The first Telcom dataset is of  2  dimension.\n",
      "\n",
      "The second Telcom dataset is of  2  dimension.\n",
      "\n",
      "The Third Telcom dataset is of  2  dimension.\n"
     ]
    }
   ],
   "source": [
    "print(\"The first Telcom dataset is of \", df.ndim, \" dimension.\\n\")\n",
    "\n",
    "print(\"The second Telcom dataset is of \", df2.ndim, \" dimension.\\n\")\n",
    "\n",
    "print(\"The Third Telcom dataset is of \", df3.ndim, \" dimension.\")"
   ]
  },
  {
   "cell_type": "markdown",
   "id": "b6732905",
   "metadata": {},
   "source": [
    "#### Rows and column of datasets"
   ]
  },
  {
   "cell_type": "code",
   "execution_count": 38,
   "id": "6c663f1b",
   "metadata": {},
   "outputs": [
    {
     "name": "stdout",
     "output_type": "stream",
     "text": [
      "(5001, 10)\n",
      "(5001, 10)\n",
      "(5001, 10)\n"
     ]
    }
   ],
   "source": [
    "#check shape of the three data sets\n",
    "print(df.shape)\n",
    "print(df2.shape)\n",
    "print(df3.shape)"
   ]
  },
  {
   "cell_type": "code",
   "execution_count": 40,
   "id": "ac1b68e5",
   "metadata": {},
   "outputs": [
    {
     "name": "stdout",
     "output_type": "stream",
     "text": [
      "The three datasets have  5001  rows. \n",
      "The three datasets have  10  columns.\n"
     ]
    }
   ],
   "source": [
    "print(\"The three datasets have \", df.shape[0], \" rows.\",\"\\nThe three datasets have \", df.shape[1], \" columns.\")"
   ]
  },
  {
   "cell_type": "markdown",
   "id": "290a5b76",
   "metadata": {},
   "source": [
    "#### Knowing the data types of the columns "
   ]
  },
  {
   "cell_type": "code",
   "execution_count": 42,
   "id": "142e4c18",
   "metadata": {},
   "outputs": [
    {
     "name": "stdout",
     "output_type": "stream",
     "text": [
      "Data Types of first data set df:\n",
      " \n",
      "PRODUTC            object\n",
      "VALUE               int64\n",
      "DATETIME           object\n",
      "CELL_ON_SITE       object\n",
      "DW_A_NUMBER_INT    object\n",
      "DW_B_NUMBER_INT    object\n",
      "COUNTRY_A          object\n",
      "COUNTRY_B          object\n",
      "CELL_ID            object\n",
      "SITE_ID            object\n",
      "dtype: object\n"
     ]
    }
   ],
   "source": [
    "print(\"Data Types of first data set df:\\n \")\n",
    "print(df. dtypes)"
   ]
  },
  {
   "cell_type": "code",
   "execution_count": 43,
   "id": "ba0110c4",
   "metadata": {},
   "outputs": [
    {
     "name": "stdout",
     "output_type": "stream",
     "text": [
      "Data Types of second data set df2:\n",
      " \n",
      "PRODUCT         object\n",
      "VALUE            int64\n",
      "DATE_TIME       object\n",
      "CELL_ON_SITE    object\n",
      "DW_A_NUMBER     object\n",
      "DW_B_NUMBER     object\n",
      "COUNTRY_A       object\n",
      "COUNTRY_B       object\n",
      "CELL_ID         object\n",
      "SITE_ID         object\n",
      "dtype: object\n"
     ]
    }
   ],
   "source": [
    "print(\"Data Types of second data set df2:\\n \")\n",
    "print(df2. dtypes)"
   ]
  },
  {
   "cell_type": "code",
   "execution_count": 45,
   "id": "f82ce731",
   "metadata": {},
   "outputs": [
    {
     "name": "stdout",
     "output_type": "stream",
     "text": [
      "Data Types of third data set df3:\n",
      " \n",
      "PRODUCT            object\n",
      "VALUE               int64\n",
      "DATE_TIME          object\n",
      "CELL_ON_SITE       object\n",
      "DW_A_NUMBER_INT    object\n",
      "DW_B_NUMBER_INT    object\n",
      "COUNTRY_A          object\n",
      "COUNTRY_B          object\n",
      "CELLID             object\n",
      "SIET_ID            object\n",
      "dtype: object\n"
     ]
    }
   ],
   "source": [
    "print(\"Data Types of third data set df3:\\n \")\n",
    "print(df3. dtypes)"
   ]
  },
  {
   "cell_type": "markdown",
   "id": "52dc4bc3",
   "metadata": {},
   "source": [
    "#### Missing Values "
   ]
  },
  {
   "cell_type": "code",
   "execution_count": 46,
   "id": "f5a7e0b7",
   "metadata": {},
   "outputs": [
    {
     "name": "stdout",
     "output_type": "stream",
     "text": [
      "Are there missing values in the first data frame?\n",
      "\n"
     ]
    },
    {
     "data": {
      "text/html": [
       "<div>\n",
       "<style scoped>\n",
       "    .dataframe tbody tr th:only-of-type {\n",
       "        vertical-align: middle;\n",
       "    }\n",
       "\n",
       "    .dataframe tbody tr th {\n",
       "        vertical-align: top;\n",
       "    }\n",
       "\n",
       "    .dataframe thead th {\n",
       "        text-align: right;\n",
       "    }\n",
       "</style>\n",
       "<table border=\"1\" class=\"dataframe\">\n",
       "  <thead>\n",
       "    <tr style=\"text-align: right;\">\n",
       "      <th></th>\n",
       "      <th>PRODUTC</th>\n",
       "      <th>VALUE</th>\n",
       "      <th>DATETIME</th>\n",
       "      <th>CELL_ON_SITE</th>\n",
       "      <th>DW_A_NUMBER_INT</th>\n",
       "      <th>DW_B_NUMBER_INT</th>\n",
       "      <th>COUNTRY_A</th>\n",
       "      <th>COUNTRY_B</th>\n",
       "      <th>CELL_ID</th>\n",
       "      <th>SITE_ID</th>\n",
       "    </tr>\n",
       "  </thead>\n",
       "  <tbody>\n",
       "    <tr>\n",
       "      <th>0</th>\n",
       "      <td>False</td>\n",
       "      <td>False</td>\n",
       "      <td>False</td>\n",
       "      <td>False</td>\n",
       "      <td>False</td>\n",
       "      <td>False</td>\n",
       "      <td>False</td>\n",
       "      <td>False</td>\n",
       "      <td>False</td>\n",
       "      <td>False</td>\n",
       "    </tr>\n",
       "    <tr>\n",
       "      <th>1</th>\n",
       "      <td>False</td>\n",
       "      <td>False</td>\n",
       "      <td>False</td>\n",
       "      <td>False</td>\n",
       "      <td>False</td>\n",
       "      <td>False</td>\n",
       "      <td>False</td>\n",
       "      <td>False</td>\n",
       "      <td>False</td>\n",
       "      <td>False</td>\n",
       "    </tr>\n",
       "    <tr>\n",
       "      <th>2</th>\n",
       "      <td>False</td>\n",
       "      <td>False</td>\n",
       "      <td>False</td>\n",
       "      <td>False</td>\n",
       "      <td>False</td>\n",
       "      <td>False</td>\n",
       "      <td>False</td>\n",
       "      <td>False</td>\n",
       "      <td>False</td>\n",
       "      <td>False</td>\n",
       "    </tr>\n",
       "    <tr>\n",
       "      <th>3</th>\n",
       "      <td>False</td>\n",
       "      <td>False</td>\n",
       "      <td>False</td>\n",
       "      <td>False</td>\n",
       "      <td>False</td>\n",
       "      <td>False</td>\n",
       "      <td>False</td>\n",
       "      <td>False</td>\n",
       "      <td>False</td>\n",
       "      <td>False</td>\n",
       "    </tr>\n",
       "    <tr>\n",
       "      <th>4</th>\n",
       "      <td>False</td>\n",
       "      <td>False</td>\n",
       "      <td>False</td>\n",
       "      <td>False</td>\n",
       "      <td>False</td>\n",
       "      <td>False</td>\n",
       "      <td>False</td>\n",
       "      <td>False</td>\n",
       "      <td>False</td>\n",
       "      <td>False</td>\n",
       "    </tr>\n",
       "    <tr>\n",
       "      <th>...</th>\n",
       "      <td>...</td>\n",
       "      <td>...</td>\n",
       "      <td>...</td>\n",
       "      <td>...</td>\n",
       "      <td>...</td>\n",
       "      <td>...</td>\n",
       "      <td>...</td>\n",
       "      <td>...</td>\n",
       "      <td>...</td>\n",
       "      <td>...</td>\n",
       "    </tr>\n",
       "    <tr>\n",
       "      <th>4996</th>\n",
       "      <td>False</td>\n",
       "      <td>False</td>\n",
       "      <td>False</td>\n",
       "      <td>False</td>\n",
       "      <td>False</td>\n",
       "      <td>False</td>\n",
       "      <td>False</td>\n",
       "      <td>False</td>\n",
       "      <td>False</td>\n",
       "      <td>False</td>\n",
       "    </tr>\n",
       "    <tr>\n",
       "      <th>4997</th>\n",
       "      <td>False</td>\n",
       "      <td>False</td>\n",
       "      <td>False</td>\n",
       "      <td>False</td>\n",
       "      <td>False</td>\n",
       "      <td>False</td>\n",
       "      <td>False</td>\n",
       "      <td>False</td>\n",
       "      <td>False</td>\n",
       "      <td>False</td>\n",
       "    </tr>\n",
       "    <tr>\n",
       "      <th>4998</th>\n",
       "      <td>False</td>\n",
       "      <td>False</td>\n",
       "      <td>False</td>\n",
       "      <td>False</td>\n",
       "      <td>False</td>\n",
       "      <td>False</td>\n",
       "      <td>False</td>\n",
       "      <td>False</td>\n",
       "      <td>False</td>\n",
       "      <td>False</td>\n",
       "    </tr>\n",
       "    <tr>\n",
       "      <th>4999</th>\n",
       "      <td>False</td>\n",
       "      <td>False</td>\n",
       "      <td>False</td>\n",
       "      <td>False</td>\n",
       "      <td>False</td>\n",
       "      <td>False</td>\n",
       "      <td>False</td>\n",
       "      <td>False</td>\n",
       "      <td>False</td>\n",
       "      <td>False</td>\n",
       "    </tr>\n",
       "    <tr>\n",
       "      <th>5000</th>\n",
       "      <td>False</td>\n",
       "      <td>False</td>\n",
       "      <td>False</td>\n",
       "      <td>False</td>\n",
       "      <td>False</td>\n",
       "      <td>False</td>\n",
       "      <td>False</td>\n",
       "      <td>False</td>\n",
       "      <td>False</td>\n",
       "      <td>False</td>\n",
       "    </tr>\n",
       "  </tbody>\n",
       "</table>\n",
       "<p>5001 rows × 10 columns</p>\n",
       "</div>"
      ],
      "text/plain": [
       "      PRODUTC  VALUE  DATETIME  CELL_ON_SITE  DW_A_NUMBER_INT  \\\n",
       "0       False  False     False         False            False   \n",
       "1       False  False     False         False            False   \n",
       "2       False  False     False         False            False   \n",
       "3       False  False     False         False            False   \n",
       "4       False  False     False         False            False   \n",
       "...       ...    ...       ...           ...              ...   \n",
       "4996    False  False     False         False            False   \n",
       "4997    False  False     False         False            False   \n",
       "4998    False  False     False         False            False   \n",
       "4999    False  False     False         False            False   \n",
       "5000    False  False     False         False            False   \n",
       "\n",
       "      DW_B_NUMBER_INT  COUNTRY_A  COUNTRY_B  CELL_ID  SITE_ID  \n",
       "0               False      False      False    False    False  \n",
       "1               False      False      False    False    False  \n",
       "2               False      False      False    False    False  \n",
       "3               False      False      False    False    False  \n",
       "4               False      False      False    False    False  \n",
       "...               ...        ...        ...      ...      ...  \n",
       "4996            False      False      False    False    False  \n",
       "4997            False      False      False    False    False  \n",
       "4998            False      False      False    False    False  \n",
       "4999            False      False      False    False    False  \n",
       "5000            False      False      False    False    False  \n",
       "\n",
       "[5001 rows x 10 columns]"
      ]
     },
     "execution_count": 46,
     "metadata": {},
     "output_type": "execute_result"
    }
   ],
   "source": [
    "print(\"Are there missing values in the first data frame?\\n\")\n",
    "df.isnull()\n"
   ]
  },
  {
   "cell_type": "markdown",
   "id": "5a867faa",
   "metadata": {},
   "source": [
    "###### Checking to see any missing value in the columns of the firts data set df "
   ]
  },
  {
   "cell_type": "code",
   "execution_count": 47,
   "id": "d097ccd9",
   "metadata": {},
   "outputs": [
    {
     "data": {
      "text/plain": [
       "PRODUTC              0\n",
       "VALUE                0\n",
       "DATETIME             0\n",
       "CELL_ON_SITE         0\n",
       "DW_A_NUMBER_INT      0\n",
       "DW_B_NUMBER_INT      0\n",
       "COUNTRY_A            0\n",
       "COUNTRY_B            0\n",
       "CELL_ID              0\n",
       "SITE_ID            716\n",
       "dtype: int64"
      ]
     },
     "execution_count": 47,
     "metadata": {},
     "output_type": "execute_result"
    }
   ],
   "source": [
    "df.isnull().sum()"
   ]
  },
  {
   "cell_type": "code",
   "execution_count": 48,
   "id": "2bdacbf4",
   "metadata": {},
   "outputs": [
    {
     "data": {
      "text/plain": [
       "716"
      ]
     },
     "execution_count": 48,
     "metadata": {},
     "output_type": "execute_result"
    }
   ],
   "source": [
    "df.isnull().sum().sum()"
   ]
  },
  {
   "cell_type": "markdown",
   "id": "af7616f5",
   "metadata": {},
   "source": [
    "###### The total count of misssing value were 716 on SITE_ID "
   ]
  },
  {
   "cell_type": "code",
   "execution_count": 49,
   "id": "22c51326",
   "metadata": {},
   "outputs": [
    {
     "name": "stdout",
     "output_type": "stream",
     "text": [
      "Are there missing values in the second data frame?\n",
      "\n"
     ]
    },
    {
     "data": {
      "text/html": [
       "<div>\n",
       "<style scoped>\n",
       "    .dataframe tbody tr th:only-of-type {\n",
       "        vertical-align: middle;\n",
       "    }\n",
       "\n",
       "    .dataframe tbody tr th {\n",
       "        vertical-align: top;\n",
       "    }\n",
       "\n",
       "    .dataframe thead th {\n",
       "        text-align: right;\n",
       "    }\n",
       "</style>\n",
       "<table border=\"1\" class=\"dataframe\">\n",
       "  <thead>\n",
       "    <tr style=\"text-align: right;\">\n",
       "      <th></th>\n",
       "      <th>PRODUCT</th>\n",
       "      <th>VALUE</th>\n",
       "      <th>DATE_TIME</th>\n",
       "      <th>CELL_ON_SITE</th>\n",
       "      <th>DW_A_NUMBER</th>\n",
       "      <th>DW_B_NUMBER</th>\n",
       "      <th>COUNTRY_A</th>\n",
       "      <th>COUNTRY_B</th>\n",
       "      <th>CELL_ID</th>\n",
       "      <th>SITE_ID</th>\n",
       "    </tr>\n",
       "  </thead>\n",
       "  <tbody>\n",
       "    <tr>\n",
       "      <th>0</th>\n",
       "      <td>False</td>\n",
       "      <td>False</td>\n",
       "      <td>False</td>\n",
       "      <td>False</td>\n",
       "      <td>False</td>\n",
       "      <td>False</td>\n",
       "      <td>False</td>\n",
       "      <td>False</td>\n",
       "      <td>False</td>\n",
       "      <td>False</td>\n",
       "    </tr>\n",
       "    <tr>\n",
       "      <th>1</th>\n",
       "      <td>False</td>\n",
       "      <td>False</td>\n",
       "      <td>False</td>\n",
       "      <td>False</td>\n",
       "      <td>False</td>\n",
       "      <td>False</td>\n",
       "      <td>False</td>\n",
       "      <td>False</td>\n",
       "      <td>False</td>\n",
       "      <td>False</td>\n",
       "    </tr>\n",
       "    <tr>\n",
       "      <th>2</th>\n",
       "      <td>False</td>\n",
       "      <td>False</td>\n",
       "      <td>False</td>\n",
       "      <td>False</td>\n",
       "      <td>False</td>\n",
       "      <td>False</td>\n",
       "      <td>False</td>\n",
       "      <td>False</td>\n",
       "      <td>False</td>\n",
       "      <td>False</td>\n",
       "    </tr>\n",
       "    <tr>\n",
       "      <th>3</th>\n",
       "      <td>False</td>\n",
       "      <td>False</td>\n",
       "      <td>False</td>\n",
       "      <td>False</td>\n",
       "      <td>False</td>\n",
       "      <td>False</td>\n",
       "      <td>False</td>\n",
       "      <td>False</td>\n",
       "      <td>False</td>\n",
       "      <td>False</td>\n",
       "    </tr>\n",
       "    <tr>\n",
       "      <th>4</th>\n",
       "      <td>False</td>\n",
       "      <td>False</td>\n",
       "      <td>False</td>\n",
       "      <td>False</td>\n",
       "      <td>False</td>\n",
       "      <td>False</td>\n",
       "      <td>False</td>\n",
       "      <td>False</td>\n",
       "      <td>False</td>\n",
       "      <td>False</td>\n",
       "    </tr>\n",
       "    <tr>\n",
       "      <th>...</th>\n",
       "      <td>...</td>\n",
       "      <td>...</td>\n",
       "      <td>...</td>\n",
       "      <td>...</td>\n",
       "      <td>...</td>\n",
       "      <td>...</td>\n",
       "      <td>...</td>\n",
       "      <td>...</td>\n",
       "      <td>...</td>\n",
       "      <td>...</td>\n",
       "    </tr>\n",
       "    <tr>\n",
       "      <th>4996</th>\n",
       "      <td>False</td>\n",
       "      <td>False</td>\n",
       "      <td>False</td>\n",
       "      <td>False</td>\n",
       "      <td>False</td>\n",
       "      <td>False</td>\n",
       "      <td>False</td>\n",
       "      <td>False</td>\n",
       "      <td>False</td>\n",
       "      <td>False</td>\n",
       "    </tr>\n",
       "    <tr>\n",
       "      <th>4997</th>\n",
       "      <td>False</td>\n",
       "      <td>False</td>\n",
       "      <td>False</td>\n",
       "      <td>False</td>\n",
       "      <td>False</td>\n",
       "      <td>False</td>\n",
       "      <td>False</td>\n",
       "      <td>False</td>\n",
       "      <td>False</td>\n",
       "      <td>False</td>\n",
       "    </tr>\n",
       "    <tr>\n",
       "      <th>4998</th>\n",
       "      <td>False</td>\n",
       "      <td>False</td>\n",
       "      <td>False</td>\n",
       "      <td>False</td>\n",
       "      <td>False</td>\n",
       "      <td>False</td>\n",
       "      <td>False</td>\n",
       "      <td>False</td>\n",
       "      <td>False</td>\n",
       "      <td>False</td>\n",
       "    </tr>\n",
       "    <tr>\n",
       "      <th>4999</th>\n",
       "      <td>False</td>\n",
       "      <td>False</td>\n",
       "      <td>False</td>\n",
       "      <td>False</td>\n",
       "      <td>False</td>\n",
       "      <td>False</td>\n",
       "      <td>False</td>\n",
       "      <td>False</td>\n",
       "      <td>False</td>\n",
       "      <td>True</td>\n",
       "    </tr>\n",
       "    <tr>\n",
       "      <th>5000</th>\n",
       "      <td>False</td>\n",
       "      <td>False</td>\n",
       "      <td>False</td>\n",
       "      <td>False</td>\n",
       "      <td>False</td>\n",
       "      <td>False</td>\n",
       "      <td>False</td>\n",
       "      <td>False</td>\n",
       "      <td>False</td>\n",
       "      <td>False</td>\n",
       "    </tr>\n",
       "  </tbody>\n",
       "</table>\n",
       "<p>5001 rows × 10 columns</p>\n",
       "</div>"
      ],
      "text/plain": [
       "      PRODUCT  VALUE  DATE_TIME  CELL_ON_SITE  DW_A_NUMBER  DW_B_NUMBER  \\\n",
       "0       False  False      False         False        False        False   \n",
       "1       False  False      False         False        False        False   \n",
       "2       False  False      False         False        False        False   \n",
       "3       False  False      False         False        False        False   \n",
       "4       False  False      False         False        False        False   \n",
       "...       ...    ...        ...           ...          ...          ...   \n",
       "4996    False  False      False         False        False        False   \n",
       "4997    False  False      False         False        False        False   \n",
       "4998    False  False      False         False        False        False   \n",
       "4999    False  False      False         False        False        False   \n",
       "5000    False  False      False         False        False        False   \n",
       "\n",
       "      COUNTRY_A  COUNTRY_B  CELL_ID  SITE_ID  \n",
       "0         False      False    False    False  \n",
       "1         False      False    False    False  \n",
       "2         False      False    False    False  \n",
       "3         False      False    False    False  \n",
       "4         False      False    False    False  \n",
       "...         ...        ...      ...      ...  \n",
       "4996      False      False    False    False  \n",
       "4997      False      False    False    False  \n",
       "4998      False      False    False    False  \n",
       "4999      False      False    False     True  \n",
       "5000      False      False    False    False  \n",
       "\n",
       "[5001 rows x 10 columns]"
      ]
     },
     "execution_count": 49,
     "metadata": {},
     "output_type": "execute_result"
    }
   ],
   "source": [
    "print(\"Are there missing values in the second data frame?\\n\")\n",
    "df2.isnull()\n"
   ]
  },
  {
   "cell_type": "markdown",
   "id": "89b77794",
   "metadata": {},
   "source": [
    "###### Checking to see any missing value in the columns of the second data set df "
   ]
  },
  {
   "cell_type": "code",
   "execution_count": 50,
   "id": "1f0c2b5d",
   "metadata": {},
   "outputs": [
    {
     "data": {
      "text/plain": [
       "PRODUCT           0\n",
       "VALUE             0\n",
       "DATE_TIME         0\n",
       "CELL_ON_SITE      0\n",
       "DW_A_NUMBER       0\n",
       "DW_B_NUMBER       0\n",
       "COUNTRY_A         0\n",
       "COUNTRY_B         0\n",
       "CELL_ID           0\n",
       "SITE_ID         676\n",
       "dtype: int64"
      ]
     },
     "execution_count": 50,
     "metadata": {},
     "output_type": "execute_result"
    }
   ],
   "source": [
    "df2.isnull().sum()"
   ]
  },
  {
   "cell_type": "code",
   "execution_count": 55,
   "id": "bb0aadd8",
   "metadata": {},
   "outputs": [
    {
     "data": {
      "text/plain": [
       "676"
      ]
     },
     "execution_count": 55,
     "metadata": {},
     "output_type": "execute_result"
    }
   ],
   "source": [
    "df2.isnull().sum().sum()"
   ]
  },
  {
   "cell_type": "markdown",
   "id": "98eceea2",
   "metadata": {},
   "source": [
    "###### The total count of misssing value were 676 on SITE_ID "
   ]
  },
  {
   "cell_type": "code",
   "execution_count": 52,
   "id": "507200de",
   "metadata": {},
   "outputs": [
    {
     "name": "stdout",
     "output_type": "stream",
     "text": [
      "Are there missing values in the third data frame?\n",
      "\n"
     ]
    },
    {
     "data": {
      "text/html": [
       "<div>\n",
       "<style scoped>\n",
       "    .dataframe tbody tr th:only-of-type {\n",
       "        vertical-align: middle;\n",
       "    }\n",
       "\n",
       "    .dataframe tbody tr th {\n",
       "        vertical-align: top;\n",
       "    }\n",
       "\n",
       "    .dataframe thead th {\n",
       "        text-align: right;\n",
       "    }\n",
       "</style>\n",
       "<table border=\"1\" class=\"dataframe\">\n",
       "  <thead>\n",
       "    <tr style=\"text-align: right;\">\n",
       "      <th></th>\n",
       "      <th>PRODUCT</th>\n",
       "      <th>VALUE</th>\n",
       "      <th>DATE_TIME</th>\n",
       "      <th>CELL_ON_SITE</th>\n",
       "      <th>DW_A_NUMBER_INT</th>\n",
       "      <th>DW_B_NUMBER_INT</th>\n",
       "      <th>COUNTRY_A</th>\n",
       "      <th>COUNTRY_B</th>\n",
       "      <th>CELLID</th>\n",
       "      <th>SIET_ID</th>\n",
       "    </tr>\n",
       "  </thead>\n",
       "  <tbody>\n",
       "    <tr>\n",
       "      <th>0</th>\n",
       "      <td>False</td>\n",
       "      <td>False</td>\n",
       "      <td>False</td>\n",
       "      <td>False</td>\n",
       "      <td>False</td>\n",
       "      <td>False</td>\n",
       "      <td>False</td>\n",
       "      <td>False</td>\n",
       "      <td>False</td>\n",
       "      <td>False</td>\n",
       "    </tr>\n",
       "    <tr>\n",
       "      <th>1</th>\n",
       "      <td>False</td>\n",
       "      <td>False</td>\n",
       "      <td>False</td>\n",
       "      <td>False</td>\n",
       "      <td>False</td>\n",
       "      <td>False</td>\n",
       "      <td>False</td>\n",
       "      <td>False</td>\n",
       "      <td>False</td>\n",
       "      <td>False</td>\n",
       "    </tr>\n",
       "    <tr>\n",
       "      <th>2</th>\n",
       "      <td>False</td>\n",
       "      <td>False</td>\n",
       "      <td>False</td>\n",
       "      <td>False</td>\n",
       "      <td>False</td>\n",
       "      <td>False</td>\n",
       "      <td>False</td>\n",
       "      <td>False</td>\n",
       "      <td>False</td>\n",
       "      <td>False</td>\n",
       "    </tr>\n",
       "    <tr>\n",
       "      <th>3</th>\n",
       "      <td>False</td>\n",
       "      <td>False</td>\n",
       "      <td>False</td>\n",
       "      <td>False</td>\n",
       "      <td>False</td>\n",
       "      <td>False</td>\n",
       "      <td>False</td>\n",
       "      <td>False</td>\n",
       "      <td>False</td>\n",
       "      <td>False</td>\n",
       "    </tr>\n",
       "    <tr>\n",
       "      <th>4</th>\n",
       "      <td>False</td>\n",
       "      <td>False</td>\n",
       "      <td>False</td>\n",
       "      <td>False</td>\n",
       "      <td>False</td>\n",
       "      <td>False</td>\n",
       "      <td>False</td>\n",
       "      <td>False</td>\n",
       "      <td>False</td>\n",
       "      <td>False</td>\n",
       "    </tr>\n",
       "    <tr>\n",
       "      <th>...</th>\n",
       "      <td>...</td>\n",
       "      <td>...</td>\n",
       "      <td>...</td>\n",
       "      <td>...</td>\n",
       "      <td>...</td>\n",
       "      <td>...</td>\n",
       "      <td>...</td>\n",
       "      <td>...</td>\n",
       "      <td>...</td>\n",
       "      <td>...</td>\n",
       "    </tr>\n",
       "    <tr>\n",
       "      <th>4996</th>\n",
       "      <td>False</td>\n",
       "      <td>False</td>\n",
       "      <td>False</td>\n",
       "      <td>False</td>\n",
       "      <td>False</td>\n",
       "      <td>False</td>\n",
       "      <td>False</td>\n",
       "      <td>False</td>\n",
       "      <td>False</td>\n",
       "      <td>False</td>\n",
       "    </tr>\n",
       "    <tr>\n",
       "      <th>4997</th>\n",
       "      <td>False</td>\n",
       "      <td>False</td>\n",
       "      <td>False</td>\n",
       "      <td>False</td>\n",
       "      <td>False</td>\n",
       "      <td>False</td>\n",
       "      <td>False</td>\n",
       "      <td>False</td>\n",
       "      <td>False</td>\n",
       "      <td>False</td>\n",
       "    </tr>\n",
       "    <tr>\n",
       "      <th>4998</th>\n",
       "      <td>False</td>\n",
       "      <td>False</td>\n",
       "      <td>False</td>\n",
       "      <td>False</td>\n",
       "      <td>False</td>\n",
       "      <td>False</td>\n",
       "      <td>False</td>\n",
       "      <td>False</td>\n",
       "      <td>False</td>\n",
       "      <td>False</td>\n",
       "    </tr>\n",
       "    <tr>\n",
       "      <th>4999</th>\n",
       "      <td>False</td>\n",
       "      <td>False</td>\n",
       "      <td>False</td>\n",
       "      <td>False</td>\n",
       "      <td>False</td>\n",
       "      <td>False</td>\n",
       "      <td>False</td>\n",
       "      <td>False</td>\n",
       "      <td>False</td>\n",
       "      <td>False</td>\n",
       "    </tr>\n",
       "    <tr>\n",
       "      <th>5000</th>\n",
       "      <td>False</td>\n",
       "      <td>False</td>\n",
       "      <td>False</td>\n",
       "      <td>False</td>\n",
       "      <td>False</td>\n",
       "      <td>False</td>\n",
       "      <td>False</td>\n",
       "      <td>False</td>\n",
       "      <td>False</td>\n",
       "      <td>False</td>\n",
       "    </tr>\n",
       "  </tbody>\n",
       "</table>\n",
       "<p>5001 rows × 10 columns</p>\n",
       "</div>"
      ],
      "text/plain": [
       "      PRODUCT  VALUE  DATE_TIME  CELL_ON_SITE  DW_A_NUMBER_INT  \\\n",
       "0       False  False      False         False            False   \n",
       "1       False  False      False         False            False   \n",
       "2       False  False      False         False            False   \n",
       "3       False  False      False         False            False   \n",
       "4       False  False      False         False            False   \n",
       "...       ...    ...        ...           ...              ...   \n",
       "4996    False  False      False         False            False   \n",
       "4997    False  False      False         False            False   \n",
       "4998    False  False      False         False            False   \n",
       "4999    False  False      False         False            False   \n",
       "5000    False  False      False         False            False   \n",
       "\n",
       "      DW_B_NUMBER_INT  COUNTRY_A  COUNTRY_B  CELLID  SIET_ID  \n",
       "0               False      False      False   False    False  \n",
       "1               False      False      False   False    False  \n",
       "2               False      False      False   False    False  \n",
       "3               False      False      False   False    False  \n",
       "4               False      False      False   False    False  \n",
       "...               ...        ...        ...     ...      ...  \n",
       "4996            False      False      False   False    False  \n",
       "4997            False      False      False   False    False  \n",
       "4998            False      False      False   False    False  \n",
       "4999            False      False      False   False    False  \n",
       "5000            False      False      False   False    False  \n",
       "\n",
       "[5001 rows x 10 columns]"
      ]
     },
     "execution_count": 52,
     "metadata": {},
     "output_type": "execute_result"
    }
   ],
   "source": [
    "print(\"Are there missing values in the third data frame?\\n\")\n",
    "df3.isnull()"
   ]
  },
  {
   "cell_type": "markdown",
   "id": "cdbe5023",
   "metadata": {},
   "source": [
    "###### Checking to see any missing value in the columns of the third data set df "
   ]
  },
  {
   "cell_type": "code",
   "execution_count": 53,
   "id": "721c03ac",
   "metadata": {},
   "outputs": [
    {
     "data": {
      "text/plain": [
       "PRODUCT              0\n",
       "VALUE                0\n",
       "DATE_TIME            0\n",
       "CELL_ON_SITE         0\n",
       "DW_A_NUMBER_INT      0\n",
       "DW_B_NUMBER_INT      0\n",
       "COUNTRY_A            0\n",
       "COUNTRY_B            0\n",
       "CELLID               0\n",
       "SIET_ID            605\n",
       "dtype: int64"
      ]
     },
     "execution_count": 53,
     "metadata": {},
     "output_type": "execute_result"
    }
   ],
   "source": [
    "df3.isnull().sum()"
   ]
  },
  {
   "cell_type": "code",
   "execution_count": 54,
   "id": "6df3f51d",
   "metadata": {},
   "outputs": [
    {
     "data": {
      "text/plain": [
       "605"
      ]
     },
     "execution_count": 54,
     "metadata": {},
     "output_type": "execute_result"
    }
   ],
   "source": [
    "df3.isnull().sum().sum()"
   ]
  },
  {
   "cell_type": "markdown",
   "id": "aa013b38",
   "metadata": {},
   "source": [
    "###### The total count of misssing value were 605 on SIET_ID "
   ]
  },
  {
   "cell_type": "code",
   "execution_count": null,
   "id": "1315d4be",
   "metadata": {},
   "outputs": [],
   "source": []
  },
  {
   "cell_type": "markdown",
   "id": "cfa884e6",
   "metadata": {},
   "source": [
    "#### Duplicates"
   ]
  },
  {
   "cell_type": "code",
   "execution_count": 56,
   "id": "8c168c67",
   "metadata": {},
   "outputs": [
    {
     "data": {
      "text/plain": [
       "0       False\n",
       "1       False\n",
       "2       False\n",
       "3       False\n",
       "4       False\n",
       "        ...  \n",
       "4996    False\n",
       "4997    False\n",
       "4998    False\n",
       "4999    False\n",
       "5000    False\n",
       "Length: 5001, dtype: bool"
      ]
     },
     "execution_count": 56,
     "metadata": {},
     "output_type": "execute_result"
    }
   ],
   "source": [
    "#check duplicates in the first dataframe df\n",
    "df.duplicated()"
   ]
  },
  {
   "cell_type": "code",
   "execution_count": 57,
   "id": "54b953c6",
   "metadata": {},
   "outputs": [
    {
     "data": {
      "text/plain": [
       "82"
      ]
     },
     "execution_count": 57,
     "metadata": {},
     "output_type": "execute_result"
    }
   ],
   "source": [
    "#get the total number of rows which are duplicated\n",
    "df.duplicated().sum()"
   ]
  },
  {
   "cell_type": "markdown",
   "id": "9505475f",
   "metadata": {},
   "source": [
    "###### The total number of duplicated rows in the first data set df  is 82."
   ]
  },
  {
   "cell_type": "code",
   "execution_count": 58,
   "id": "01ee0486",
   "metadata": {},
   "outputs": [
    {
     "data": {
      "text/plain": [
       "0       False\n",
       "1       False\n",
       "2       False\n",
       "3       False\n",
       "4       False\n",
       "        ...  \n",
       "4996    False\n",
       "4997    False\n",
       "4998    False\n",
       "4999    False\n",
       "5000     True\n",
       "Length: 5001, dtype: bool"
      ]
     },
     "execution_count": 58,
     "metadata": {},
     "output_type": "execute_result"
    }
   ],
   "source": [
    "#check duplicates in the second dataframe\n",
    "df2.duplicated()"
   ]
  },
  {
   "cell_type": "code",
   "execution_count": 59,
   "id": "e9b757cd",
   "metadata": {},
   "outputs": [
    {
     "data": {
      "text/plain": [
       "78"
      ]
     },
     "execution_count": 59,
     "metadata": {},
     "output_type": "execute_result"
    }
   ],
   "source": [
    "#get the total number of duplicates \n",
    "df2.duplicated().sum()"
   ]
  },
  {
   "cell_type": "markdown",
   "id": "a073fa18",
   "metadata": {},
   "source": [
    "###### The total number of duplicated rows in the second data set df2  is 78."
   ]
  },
  {
   "cell_type": "code",
   "execution_count": 60,
   "id": "e12d871b",
   "metadata": {},
   "outputs": [
    {
     "data": {
      "text/plain": [
       "0       False\n",
       "1       False\n",
       "2       False\n",
       "3       False\n",
       "4       False\n",
       "        ...  \n",
       "4996    False\n",
       "4997    False\n",
       "4998     True\n",
       "4999    False\n",
       "5000    False\n",
       "Length: 5001, dtype: bool"
      ]
     },
     "execution_count": 60,
     "metadata": {},
     "output_type": "execute_result"
    }
   ],
   "source": [
    "#check duplicates in the third dataframe\n",
    "df3.duplicated()"
   ]
  },
  {
   "cell_type": "code",
   "execution_count": null,
   "id": "ef1bb0ae",
   "metadata": {},
   "outputs": [],
   "source": []
  },
  {
   "cell_type": "code",
   "execution_count": 61,
   "id": "bfa1ea77",
   "metadata": {},
   "outputs": [
    {
     "data": {
      "text/plain": [
       "93"
      ]
     },
     "execution_count": 61,
     "metadata": {},
     "output_type": "execute_result"
    }
   ],
   "source": [
    "#get the total number of duplicates \n",
    "df3.duplicated().sum()"
   ]
  },
  {
   "cell_type": "markdown",
   "id": "8c20a024",
   "metadata": {},
   "source": [
    "###### The total number of duplicated rows in the third data set df3  is 93."
   ]
  },
  {
   "cell_type": "markdown",
   "id": "7241e5ab",
   "metadata": {},
   "source": [
    "#### DESCRIBING DATASET SUMMARY STATISTICS"
   ]
  },
  {
   "cell_type": "code",
   "execution_count": 85,
   "id": "2b77144b",
   "metadata": {},
   "outputs": [
    {
     "data": {
      "text/html": [
       "<div>\n",
       "<style scoped>\n",
       "    .dataframe tbody tr th:only-of-type {\n",
       "        vertical-align: middle;\n",
       "    }\n",
       "\n",
       "    .dataframe tbody tr th {\n",
       "        vertical-align: top;\n",
       "    }\n",
       "\n",
       "    .dataframe thead th {\n",
       "        text-align: right;\n",
       "    }\n",
       "</style>\n",
       "<table border=\"1\" class=\"dataframe\">\n",
       "  <thead>\n",
       "    <tr style=\"text-align: right;\">\n",
       "      <th></th>\n",
       "      <th>VALUE</th>\n",
       "    </tr>\n",
       "  </thead>\n",
       "  <tbody>\n",
       "    <tr>\n",
       "      <th>count</th>\n",
       "      <td>5001.000000</td>\n",
       "    </tr>\n",
       "    <tr>\n",
       "      <th>mean</th>\n",
       "      <td>25.869626</td>\n",
       "    </tr>\n",
       "    <tr>\n",
       "      <th>std</th>\n",
       "      <td>101.934502</td>\n",
       "    </tr>\n",
       "    <tr>\n",
       "      <th>min</th>\n",
       "      <td>0.000000</td>\n",
       "    </tr>\n",
       "    <tr>\n",
       "      <th>25%</th>\n",
       "      <td>0.000000</td>\n",
       "    </tr>\n",
       "    <tr>\n",
       "      <th>50%</th>\n",
       "      <td>0.000000</td>\n",
       "    </tr>\n",
       "    <tr>\n",
       "      <th>75%</th>\n",
       "      <td>25.000000</td>\n",
       "    </tr>\n",
       "    <tr>\n",
       "      <th>max</th>\n",
       "      <td>4440.000000</td>\n",
       "    </tr>\n",
       "  </tbody>\n",
       "</table>\n",
       "</div>"
      ],
      "text/plain": [
       "             VALUE\n",
       "count  5001.000000\n",
       "mean     25.869626\n",
       "std     101.934502\n",
       "min       0.000000\n",
       "25%       0.000000\n",
       "50%       0.000000\n",
       "75%      25.000000\n",
       "max    4440.000000"
      ]
     },
     "execution_count": 85,
     "metadata": {},
     "output_type": "execute_result"
    }
   ],
   "source": [
    "#first data set\n",
    "df.describe()"
   ]
  },
  {
   "cell_type": "code",
   "execution_count": 65,
   "id": "fc39410a",
   "metadata": {},
   "outputs": [
    {
     "data": {
      "text/html": [
       "<div>\n",
       "<style scoped>\n",
       "    .dataframe tbody tr th:only-of-type {\n",
       "        vertical-align: middle;\n",
       "    }\n",
       "\n",
       "    .dataframe tbody tr th {\n",
       "        vertical-align: top;\n",
       "    }\n",
       "\n",
       "    .dataframe thead th {\n",
       "        text-align: right;\n",
       "    }\n",
       "</style>\n",
       "<table border=\"1\" class=\"dataframe\">\n",
       "  <thead>\n",
       "    <tr style=\"text-align: right;\">\n",
       "      <th></th>\n",
       "      <th>VALUE</th>\n",
       "    </tr>\n",
       "  </thead>\n",
       "  <tbody>\n",
       "    <tr>\n",
       "      <th>count</th>\n",
       "      <td>5001.000000</td>\n",
       "    </tr>\n",
       "    <tr>\n",
       "      <th>mean</th>\n",
       "      <td>24.334933</td>\n",
       "    </tr>\n",
       "    <tr>\n",
       "      <th>std</th>\n",
       "      <td>97.471586</td>\n",
       "    </tr>\n",
       "    <tr>\n",
       "      <th>min</th>\n",
       "      <td>0.000000</td>\n",
       "    </tr>\n",
       "    <tr>\n",
       "      <th>25%</th>\n",
       "      <td>0.000000</td>\n",
       "    </tr>\n",
       "    <tr>\n",
       "      <th>50%</th>\n",
       "      <td>0.000000</td>\n",
       "    </tr>\n",
       "    <tr>\n",
       "      <th>75%</th>\n",
       "      <td>25.000000</td>\n",
       "    </tr>\n",
       "    <tr>\n",
       "      <th>max</th>\n",
       "      <td>3380.000000</td>\n",
       "    </tr>\n",
       "  </tbody>\n",
       "</table>\n",
       "</div>"
      ],
      "text/plain": [
       "             VALUE\n",
       "count  5001.000000\n",
       "mean     24.334933\n",
       "std      97.471586\n",
       "min       0.000000\n",
       "25%       0.000000\n",
       "50%       0.000000\n",
       "75%      25.000000\n",
       "max    3380.000000"
      ]
     },
     "execution_count": 65,
     "metadata": {},
     "output_type": "execute_result"
    }
   ],
   "source": [
    "#second data set\n",
    "df2.describe()"
   ]
  },
  {
   "cell_type": "code",
   "execution_count": 66,
   "id": "0c9c9450",
   "metadata": {},
   "outputs": [
    {
     "data": {
      "text/html": [
       "<div>\n",
       "<style scoped>\n",
       "    .dataframe tbody tr th:only-of-type {\n",
       "        vertical-align: middle;\n",
       "    }\n",
       "\n",
       "    .dataframe tbody tr th {\n",
       "        vertical-align: top;\n",
       "    }\n",
       "\n",
       "    .dataframe thead th {\n",
       "        text-align: right;\n",
       "    }\n",
       "</style>\n",
       "<table border=\"1\" class=\"dataframe\">\n",
       "  <thead>\n",
       "    <tr style=\"text-align: right;\">\n",
       "      <th></th>\n",
       "      <th>VALUE</th>\n",
       "    </tr>\n",
       "  </thead>\n",
       "  <tbody>\n",
       "    <tr>\n",
       "      <th>count</th>\n",
       "      <td>5001.000000</td>\n",
       "    </tr>\n",
       "    <tr>\n",
       "      <th>mean</th>\n",
       "      <td>26.441512</td>\n",
       "    </tr>\n",
       "    <tr>\n",
       "      <th>std</th>\n",
       "      <td>224.200217</td>\n",
       "    </tr>\n",
       "    <tr>\n",
       "      <th>min</th>\n",
       "      <td>0.000000</td>\n",
       "    </tr>\n",
       "    <tr>\n",
       "      <th>25%</th>\n",
       "      <td>0.000000</td>\n",
       "    </tr>\n",
       "    <tr>\n",
       "      <th>50%</th>\n",
       "      <td>0.000000</td>\n",
       "    </tr>\n",
       "    <tr>\n",
       "      <th>75%</th>\n",
       "      <td>25.000000</td>\n",
       "    </tr>\n",
       "    <tr>\n",
       "      <th>max</th>\n",
       "      <td>12900.000000</td>\n",
       "    </tr>\n",
       "  </tbody>\n",
       "</table>\n",
       "</div>"
      ],
      "text/plain": [
       "              VALUE\n",
       "count   5001.000000\n",
       "mean      26.441512\n",
       "std      224.200217\n",
       "min        0.000000\n",
       "25%        0.000000\n",
       "50%        0.000000\n",
       "75%       25.000000\n",
       "max    12900.000000"
      ]
     },
     "execution_count": 66,
     "metadata": {},
     "output_type": "execute_result"
    }
   ],
   "source": [
    "#third data set\n",
    "df3.describe()"
   ]
  },
  {
   "cell_type": "code",
   "execution_count": 19,
   "id": "b62ebaad",
   "metadata": {},
   "outputs": [
    {
     "data": {
      "text/plain": [
       "Voice    2219\n",
       "sms      1975\n",
       "data      807\n",
       "Name: PRODUTC, dtype: int64"
      ]
     },
     "execution_count": 19,
     "metadata": {},
     "output_type": "execute_result"
    }
   ],
   "source": [
    "df.PRODUTC.value_counts()"
   ]
  },
  {
   "cell_type": "code",
   "execution_count": 67,
   "id": "f2c0a1f7",
   "metadata": {},
   "outputs": [
    {
     "data": {
      "text/plain": [
       "sms      2329\n",
       "Voice    1906\n",
       "data      766\n",
       "Name: PRODUCT, dtype: int64"
      ]
     },
     "execution_count": 67,
     "metadata": {},
     "output_type": "execute_result"
    }
   ],
   "source": [
    "df2.PRODUCT.value_counts()"
   ]
  },
  {
   "cell_type": "code",
   "execution_count": 68,
   "id": "6bccdd68",
   "metadata": {},
   "outputs": [
    {
     "data": {
      "text/plain": [
       "sms      2767\n",
       "Voice    1541\n",
       "data      693\n",
       "Name: PRODUCT, dtype: int64"
      ]
     },
     "execution_count": 68,
     "metadata": {},
     "output_type": "execute_result"
    }
   ],
   "source": [
    "df3.PRODUCT.value_counts()"
   ]
  },
  {
   "cell_type": "markdown",
   "id": "8e9d5cde",
   "metadata": {},
   "source": [
    "###### A brief description of datasets statistics "
   ]
  },
  {
   "cell_type": "markdown",
   "id": "a7cb45b6",
   "metadata": {},
   "source": [
    "#### RELATING PRODUCT TO VALUE USING A LINE PLOT"
   ]
  },
  {
   "cell_type": "code",
   "execution_count": 87,
   "id": "3db0e3e2",
   "metadata": {},
   "outputs": [
    {
     "data": {
      "text/plain": [
       "<AxesSubplot:xlabel='PRODUTC', ylabel='VALUE'>"
      ]
     },
     "execution_count": 87,
     "metadata": {},
     "output_type": "execute_result"
    },
    {
     "data": {
      "image/png": "[encoded data removed]",
      "text/plain": [
       "<Figure size 432x288 with 1 Axes>"
      ]
     },
     "metadata": {
      "needs_background": "light"
     },
     "output_type": "display_data"
    }
   ],
   "source": [
    "df.plot(x=\"PRODUTC\", y=\"VALUE\", kind='scatter')"
   ]
  },
  {
   "cell_type": "code",
   "execution_count": 69,
   "id": "e4c4672d",
   "metadata": {},
   "outputs": [
    {
     "data": {
      "text/plain": [
       "<AxesSubplot:xlabel='PRODUCT', ylabel='VALUE'>"
      ]
     },
     "execution_count": 69,
     "metadata": {},
     "output_type": "execute_result"
    },
    {
     "data": {
      "image/png": "[encoded data removed]",
      "text/plain": [
       "<Figure size 432x288 with 1 Axes>"
      ]
     },
     "metadata": {
      "needs_background": "light"
     },
     "output_type": "display_data"
    }
   ],
   "source": [
    "df2.plot(x=\"PRODUCT\", y=\"VALUE\", kind='scatter')"
   ]
  },
  {
   "cell_type": "code",
   "execution_count": 70,
   "id": "edce97c8",
   "metadata": {},
   "outputs": [
    {
     "data": {
      "text/plain": [
       "<AxesSubplot:xlabel='PRODUCT', ylabel='VALUE'>"
      ]
     },
     "execution_count": 70,
     "metadata": {},
     "output_type": "execute_result"
    },
    {
     "data": {
      "image/png": "[encoded data removed]",
      "text/plain": [
       "<Figure size 432x288 with 1 Axes>"
      ]
     },
     "metadata": {
      "needs_background": "light"
     },
     "output_type": "display_data"
    }
   ],
   "source": [
    "df3.plot(x=\"PRODUCT\", y=\"VALUE\", kind='scatter')"
   ]
  },
  {
   "cell_type": "markdown",
   "id": "d7fe51d8",
   "metadata": {},
   "source": [
    "###### comparing MTN products (voice and data)"
   ]
  },
  {
   "cell_type": "markdown",
   "id": "f66ef1ff",
   "metadata": {},
   "source": [
    "Voice product is the most consumed while sms product was least consumed on 2012-05-06"
   ]
  },
  {
   "cell_type": "markdown",
   "id": "d9a307d4",
   "metadata": {},
   "source": [
    "Sms product is the most consumed while data product was least consumed on 2012-05-07"
   ]
  },
  {
   "cell_type": "markdown",
   "id": "afd4ce29",
   "metadata": {},
   "source": [
    "Sms product is the most consumed while data product was least consumed on 2012-05-08"
   ]
  },
  {
   "cell_type": "markdown",
   "id": "322f9746",
   "metadata": {},
   "source": [
    "#### Are the column names of the three data sets similar??"
   ]
  },
  {
   "cell_type": "code",
   "execution_count": 72,
   "id": "c50df7de",
   "metadata": {},
   "outputs": [
    {
     "ename": "AssertionError",
     "evalue": "",
     "output_type": "error",
     "traceback": [
      "\u001b[1;31m---------------------------------------------------------------------------\u001b[0m",
      "\u001b[1;31mAssertionError\u001b[0m                            Traceback (most recent call last)",
      "\u001b[1;32m<ipython-input-72-2560bb0f8b36>\u001b[0m in \u001b[0;36m<module>\u001b[1;34m\u001b[0m\n\u001b[1;32m----> 1\u001b[1;33m \u001b[1;32massert\u001b[0m \u001b[0mdf\u001b[0m\u001b[1;33m.\u001b[0m\u001b[0mcolumns\u001b[0m\u001b[1;33m.\u001b[0m\u001b[0mtolist\u001b[0m\u001b[1;33m(\u001b[0m\u001b[1;33m)\u001b[0m\u001b[1;33m==\u001b[0m\u001b[0mdf2\u001b[0m\u001b[1;33m.\u001b[0m\u001b[0mcolumns\u001b[0m\u001b[1;33m.\u001b[0m\u001b[0mtolist\u001b[0m\u001b[1;33m(\u001b[0m\u001b[1;33m)\u001b[0m\u001b[1;33m\u001b[0m\u001b[1;33m\u001b[0m\u001b[0m\n\u001b[0m",
      "\u001b[1;31mAssertionError\u001b[0m: "
     ]
    }
   ],
   "source": [
    "assert df.columns.tolist()==df2.columns.tolist()"
   ]
  },
  {
   "cell_type": "code",
   "execution_count": 73,
   "id": "92ff2f66",
   "metadata": {},
   "outputs": [
    {
     "ename": "AssertionError",
     "evalue": "",
     "output_type": "error",
     "traceback": [
      "\u001b[1;31m---------------------------------------------------------------------------\u001b[0m",
      "\u001b[1;31mAssertionError\u001b[0m                            Traceback (most recent call last)",
      "\u001b[1;32m<ipython-input-73-fb6d664f9e6e>\u001b[0m in \u001b[0;36m<module>\u001b[1;34m\u001b[0m\n\u001b[1;32m----> 1\u001b[1;33m \u001b[1;32massert\u001b[0m \u001b[0mdf2\u001b[0m\u001b[1;33m.\u001b[0m\u001b[0mcolumns\u001b[0m\u001b[1;33m.\u001b[0m\u001b[0mtolist\u001b[0m\u001b[1;33m(\u001b[0m\u001b[1;33m)\u001b[0m\u001b[1;33m==\u001b[0m\u001b[0mdf3\u001b[0m\u001b[1;33m.\u001b[0m\u001b[0mcolumns\u001b[0m\u001b[1;33m.\u001b[0m\u001b[0mtolist\u001b[0m\u001b[1;33m(\u001b[0m\u001b[1;33m)\u001b[0m\u001b[1;33m\u001b[0m\u001b[1;33m\u001b[0m\u001b[0m\n\u001b[0m",
      "\u001b[1;31mAssertionError\u001b[0m: "
     ]
    }
   ],
   "source": [
    "assert df2.columns.tolist()==df3.columns.tolist()"
   ]
  },
  {
   "cell_type": "code",
   "execution_count": 74,
   "id": "6d9bb1bc",
   "metadata": {},
   "outputs": [
    {
     "ename": "AssertionError",
     "evalue": "",
     "output_type": "error",
     "traceback": [
      "\u001b[1;31m---------------------------------------------------------------------------\u001b[0m",
      "\u001b[1;31mAssertionError\u001b[0m                            Traceback (most recent call last)",
      "\u001b[1;32m<ipython-input-74-7fa5c1ed14ad>\u001b[0m in \u001b[0;36m<module>\u001b[1;34m\u001b[0m\n\u001b[1;32m----> 1\u001b[1;33m \u001b[1;32massert\u001b[0m \u001b[0mdf\u001b[0m\u001b[1;33m.\u001b[0m\u001b[0mcolumns\u001b[0m\u001b[1;33m.\u001b[0m\u001b[0mtolist\u001b[0m\u001b[1;33m(\u001b[0m\u001b[1;33m)\u001b[0m\u001b[1;33m==\u001b[0m\u001b[0mdf3\u001b[0m\u001b[1;33m.\u001b[0m\u001b[0mcolumns\u001b[0m\u001b[1;33m.\u001b[0m\u001b[0mtolist\u001b[0m\u001b[1;33m(\u001b[0m\u001b[1;33m)\u001b[0m\u001b[1;33m\u001b[0m\u001b[1;33m\u001b[0m\u001b[0m\n\u001b[0m",
      "\u001b[1;31mAssertionError\u001b[0m: "
     ]
    }
   ],
   "source": [
    "assert df.columns.tolist()==df3.columns.tolist()"
   ]
  },
  {
   "cell_type": "markdown",
   "id": "5e53e91d",
   "metadata": {},
   "source": [
    "Despite the columns of the three data sets having the same meaning, the names were edited differently"
   ]
  },
  {
   "cell_type": "markdown",
   "id": "dc1bfbf1",
   "metadata": {},
   "source": [
    "#### Is the datetime format in the Date Time column of the three data sets the same?"
   ]
  },
  {
   "cell_type": "code",
   "execution_count": 105,
   "id": "aabf78ea",
   "metadata": {},
   "outputs": [
    {
     "data": {
      "text/plain": [
       "'06:29.0'"
      ]
     },
     "execution_count": 105,
     "metadata": {},
     "output_type": "execute_result"
    }
   ],
   "source": [
    "#first data frame sample to check format\n",
    "df['DATETIME'].iloc[4]"
   ]
  },
  {
   "cell_type": "code",
   "execution_count": 106,
   "id": "6090ff8d",
   "metadata": {},
   "outputs": [
    {
     "data": {
      "text/plain": [
       "'2012-05-07 23:04:58.0'"
      ]
     },
     "execution_count": 106,
     "metadata": {},
     "output_type": "execute_result"
    }
   ],
   "source": [
    "#second data frame sample to check format\n",
    "df2['DATE_TIME'].iloc[4]"
   ]
  },
  {
   "cell_type": "code",
   "execution_count": 107,
   "id": "9ff40e5a",
   "metadata": {},
   "outputs": [
    {
     "data": {
      "text/plain": [
       "'2012-05-08 23:03:16.0'"
      ]
     },
     "execution_count": 107,
     "metadata": {},
     "output_type": "execute_result"
    }
   ],
   "source": [
    "#third data frame sample to check format\n",
    "df3['DATE_TIME'].iloc[4]"
   ]
  },
  {
   "cell_type": "markdown",
   "id": "78a3ffbc",
   "metadata": {},
   "source": [
    "The formats of the second and thirds data sets are the same while the first is different from the two"
   ]
  },
  {
   "cell_type": "markdown",
   "id": "50713be5",
   "metadata": {},
   "source": [
    "#### Are there outliers in the value columns of our data sets?"
   ]
  },
  {
   "cell_type": "markdown",
   "id": "53ada106",
   "metadata": {},
   "source": [
    "We will use the boxplot method to check for outliers"
   ]
  },
  {
   "cell_type": "code",
   "execution_count": 109,
   "id": "1512e17b",
   "metadata": {},
   "outputs": [
    {
     "data": {
      "text/plain": [
       "<AxesSubplot:>"
      ]
     },
     "execution_count": 109,
     "metadata": {},
     "output_type": "execute_result"
    },
    {
     "data": {
      "image/png": "[encoded data removed]",
      "text/plain": [
       "<Figure size 432x288 with 1 Axes>"
      ]
     },
     "metadata": {
      "needs_background": "light"
     },
     "output_type": "display_data"
    }
   ],
   "source": [
    "#first data frame\n",
    "df.boxplot(column='VALUE',grid=False)"
   ]
  },
  {
   "cell_type": "code",
   "execution_count": 110,
   "id": "c8da6956",
   "metadata": {},
   "outputs": [
    {
     "data": {
      "text/plain": [
       "<AxesSubplot:>"
      ]
     },
     "execution_count": 110,
     "metadata": {},
     "output_type": "execute_result"
    },
    {
     "data": {
      "image/png": "[encoded data removed]",
      "text/plain": [
       "<Figure size 432x288 with 1 Axes>"
      ]
     },
     "metadata": {
      "needs_background": "light"
     },
     "output_type": "display_data"
    }
   ],
   "source": [
    "#second data frame\n",
    "df2.boxplot(column='VALUE',grid=False)"
   ]
  },
  {
   "cell_type": "code",
   "execution_count": 111,
   "id": "9a1fd32c",
   "metadata": {},
   "outputs": [
    {
     "data": {
      "text/plain": [
       "<AxesSubplot:>"
      ]
     },
     "execution_count": 111,
     "metadata": {},
     "output_type": "execute_result"
    },
    {
     "data": {
      "image/png": "[encoded data removed]",
      "text/plain": [
       "<Figure size 432x288 with 1 Axes>"
      ]
     },
     "metadata": {
      "needs_background": "light"
     },
     "output_type": "display_data"
    }
   ],
   "source": [
    "#Third data frame\n",
    "df3.boxplot(column='VALUE',grid=False)"
   ]
  },
  {
   "cell_type": "markdown",
   "id": "3360e152",
   "metadata": {},
   "source": [
    "From the boxplots above, we can see that the Dataframes have outliers. We will decide how to handle them in the cleaning phase"
   ]
  },
  {
   "cell_type": "markdown",
   "id": "8a148663",
   "metadata": {},
   "source": [
    "## CELLS GEO UNDERSTANDING"
   ]
  },
  {
   "cell_type": "markdown",
   "id": "0522481c",
   "metadata": {},
   "source": [
    "### a. INITIAL DATA SOURCE\n",
    "The data was sourced from:\n",
    "\n",
    "1. cells_geo_description.xlsx [Link] \n",
    "\n",
    "2. cells_geo.csv [Link]"
   ]
  },
  {
   "cell_type": "markdown",
   "id": "1b46a6e7",
   "metadata": {},
   "source": [
    "### b. DESCRIPTION\n",
    "The Geo dataset was in csv format. Below is a description of the columns in this data set"
   ]
  },
  {
   "cell_type": "code",
   "execution_count": 87,
   "id": "33393b7e",
   "metadata": {},
   "outputs": [],
   "source": [
    "import pandas as pd \n",
    "import numpy as np"
   ]
  },
  {
   "cell_type": "code",
   "execution_count": 90,
   "id": "bf716e82",
   "metadata": {},
   "outputs": [
    {
     "data": {
      "text/html": [
       "<div>\n",
       "<style scoped>\n",
       "    .dataframe tbody tr th:only-of-type {\n",
       "        vertical-align: middle;\n",
       "    }\n",
       "\n",
       "    .dataframe tbody tr th {\n",
       "        vertical-align: top;\n",
       "    }\n",
       "\n",
       "    .dataframe thead th {\n",
       "        text-align: right;\n",
       "    }\n",
       "</style>\n",
       "<table border=\"1\" class=\"dataframe\">\n",
       "  <thead>\n",
       "    <tr style=\"text-align: right;\">\n",
       "      <th></th>\n",
       "      <th>Column name</th>\n",
       "      <th>Description</th>\n",
       "      <th>Format</th>\n",
       "    </tr>\n",
       "  </thead>\n",
       "  <tbody>\n",
       "    <tr>\n",
       "      <th>0</th>\n",
       "      <td>VILLES</td>\n",
       "      <td>City</td>\n",
       "      <td>String</td>\n",
       "    </tr>\n",
       "    <tr>\n",
       "      <th>1</th>\n",
       "      <td>STATUS</td>\n",
       "      <td>In Service or not</td>\n",
       "      <td>String</td>\n",
       "    </tr>\n",
       "    <tr>\n",
       "      <th>2</th>\n",
       "      <td>LOCALISATION</td>\n",
       "      <td>in ABIDJAN or not</td>\n",
       "      <td>String</td>\n",
       "    </tr>\n",
       "    <tr>\n",
       "      <th>3</th>\n",
       "      <td>DECOUPZONE</td>\n",
       "      <td>Geographical Zone</td>\n",
       "      <td>String</td>\n",
       "    </tr>\n",
       "    <tr>\n",
       "      <th>4</th>\n",
       "      <td>ZONENAME</td>\n",
       "      <td>Name of Zone</td>\n",
       "      <td>String</td>\n",
       "    </tr>\n",
       "    <tr>\n",
       "      <th>5</th>\n",
       "      <td>LONGITUDE</td>\n",
       "      <td>Longitude</td>\n",
       "      <td>Float</td>\n",
       "    </tr>\n",
       "    <tr>\n",
       "      <th>6</th>\n",
       "      <td>LATITUDE</td>\n",
       "      <td>Latitude</td>\n",
       "      <td>Float</td>\n",
       "    </tr>\n",
       "    <tr>\n",
       "      <th>7</th>\n",
       "      <td>REGION</td>\n",
       "      <td>Region</td>\n",
       "      <td>String</td>\n",
       "    </tr>\n",
       "    <tr>\n",
       "      <th>8</th>\n",
       "      <td>AREA</td>\n",
       "      <td>Area</td>\n",
       "      <td>String</td>\n",
       "    </tr>\n",
       "    <tr>\n",
       "      <th>9</th>\n",
       "      <td>CELL_ID</td>\n",
       "      <td>ID of the cell</td>\n",
       "      <td>String</td>\n",
       "    </tr>\n",
       "    <tr>\n",
       "      <th>10</th>\n",
       "      <td>SITE_CODE</td>\n",
       "      <td>Site (there are several cells per site, severa...</td>\n",
       "      <td>String</td>\n",
       "    </tr>\n",
       "  </tbody>\n",
       "</table>\n",
       "</div>"
      ],
      "text/plain": [
       "     Column name                                        Description  Format\n",
       "0         VILLES                                               City  String\n",
       "1         STATUS                                  In Service or not  String\n",
       "2   LOCALISATION                                  in ABIDJAN or not  String\n",
       "3     DECOUPZONE                                  Geographical Zone  String\n",
       "4       ZONENAME                                       Name of Zone  String\n",
       "5      LONGITUDE                                          Longitude   Float\n",
       "6       LATITUDE                                           Latitude   Float\n",
       "7         REGION                                             Region  String\n",
       "8           AREA                                               Area  String\n",
       "9        CELL_ID                                     ID of the cell  String\n",
       "10     SITE_CODE  Site (there are several cells per site, severa...  String"
      ]
     },
     "execution_count": 90,
     "metadata": {},
     "output_type": "execute_result"
    }
   ],
   "source": [
    "geo_desc=pd.read_excel('./Data/cells_geo_description.xlsx')\n",
    "geo_desc"
   ]
  },
  {
   "cell_type": "markdown",
   "id": "be13c77c",
   "metadata": {},
   "source": [
    "### c. GEO DATA EXPLORATION AND QUALITY VERIFICATION"
   ]
  },
  {
   "cell_type": "markdown",
   "id": "9263a1e6",
   "metadata": {},
   "source": [
    "#### Read the data"
   ]
  },
  {
   "cell_type": "code",
   "execution_count": 77,
   "id": "1e25ccd5",
   "metadata": {},
   "outputs": [],
   "source": [
    "import pandas as pd \n",
    "#df4 = pd.read_csv('./Data/cells_geo.csv', sep=\";\")\n",
    "df4=pd.read_csv('./Data/cells_geo.csv')"
   ]
  },
  {
   "cell_type": "code",
   "execution_count": 78,
   "id": "5000cf2c",
   "metadata": {},
   "outputs": [
    {
     "data": {
      "text/html": [
       "<div>\n",
       "<style scoped>\n",
       "    .dataframe tbody tr th:only-of-type {\n",
       "        vertical-align: middle;\n",
       "    }\n",
       "\n",
       "    .dataframe tbody tr th {\n",
       "        vertical-align: top;\n",
       "    }\n",
       "\n",
       "    .dataframe thead th {\n",
       "        text-align: right;\n",
       "    }\n",
       "</style>\n",
       "<table border=\"1\" class=\"dataframe\">\n",
       "  <thead>\n",
       "    <tr style=\"text-align: right;\">\n",
       "      <th></th>\n",
       "      <th>;VILLES;STATUS;LOCALISATION;DECOUPZONE;ZONENAME;LONGITUDE;LATITUDE;REGION;AREA;CELL_ID;SITE_CODE</th>\n",
       "    </tr>\n",
       "  </thead>\n",
       "  <tbody>\n",
       "    <tr>\n",
       "      <th>0</th>\n",
       "      <td>0;ADJAME;In Service;ABIDJAN;\"\"\"Abidjan_EST\";AG...</td>\n",
       "    </tr>\n",
       "    <tr>\n",
       "      <th>1</th>\n",
       "      <td>1;ADJAME;In Service;ABIDJAN;\"\"\"Abidjan_EST\";AG...</td>\n",
       "    </tr>\n",
       "    <tr>\n",
       "      <th>2</th>\n",
       "      <td>2;ADJAME;In Service;ABIDJAN;\"\"\"Abidjan_EST\";AG...</td>\n",
       "    </tr>\n",
       "    <tr>\n",
       "      <th>3</th>\n",
       "      <td>3;ASSINIE;In Service;INTERIEUR;Grand-EST;\"ASSI...</td>\n",
       "    </tr>\n",
       "    <tr>\n",
       "      <th>4</th>\n",
       "      <td>4;ASSINIE;In Service;INTERIEUR;Grand-EST;\"ASSI...</td>\n",
       "    </tr>\n",
       "  </tbody>\n",
       "</table>\n",
       "</div>"
      ],
      "text/plain": [
       "  ;VILLES;STATUS;LOCALISATION;DECOUPZONE;ZONENAME;LONGITUDE;LATITUDE;REGION;AREA;CELL_ID;SITE_CODE\n",
       "0  0;ADJAME;In Service;ABIDJAN;\"\"\"Abidjan_EST\";AG...                                              \n",
       "1  1;ADJAME;In Service;ABIDJAN;\"\"\"Abidjan_EST\";AG...                                              \n",
       "2  2;ADJAME;In Service;ABIDJAN;\"\"\"Abidjan_EST\";AG...                                              \n",
       "3  3;ASSINIE;In Service;INTERIEUR;Grand-EST;\"ASSI...                                              \n",
       "4  4;ASSINIE;In Service;INTERIEUR;Grand-EST;\"ASSI...                                              "
      ]
     },
     "execution_count": 78,
     "metadata": {},
     "output_type": "execute_result"
    }
   ],
   "source": [
    "df4.head()"
   ]
  },
  {
   "cell_type": "code",
   "execution_count": 82,
   "id": "65631bce",
   "metadata": {},
   "outputs": [],
   "source": [
    "df4=df4[';VILLES;STATUS;LOCALISATION;DECOUPZONE;ZONENAME;LONGITUDE;LATITUDE;REGION;AREA;CELL_ID;SITE_CODE'].str.split(pat=';',n=11, expand=True)"
   ]
  },
  {
   "cell_type": "code",
   "execution_count": 83,
   "id": "2239ad2f",
   "metadata": {},
   "outputs": [],
   "source": [
    "#drope the extra column created after the split\n",
    "df4.drop([0], axis=1, inplace=True)"
   ]
  },
  {
   "cell_type": "code",
   "execution_count": 84,
   "id": "34f3cd85",
   "metadata": {},
   "outputs": [],
   "source": [
    "#give the column names \n",
    "df4.columns=[\"VILLES\",\"STATUS\",\"LOCALISATION\",\"DECOUPZONE\",\"ZONENAME\",\"LONGITUDE\",\"LATITUDE\",\"REGION\",\"AREA\",\"CELL_ID\",\"SITE_CODE\"]"
   ]
  },
  {
   "cell_type": "code",
   "execution_count": 88,
   "id": "a5f8be4f",
   "metadata": {},
   "outputs": [],
   "source": [
    "#replace the empty string in the data frame with nan values indicating misssing values\n",
    "df4.replace('', np.nan, inplace=True)"
   ]
  },
  {
   "cell_type": "markdown",
   "id": "e1d84474",
   "metadata": {},
   "source": [
    "#### Dimension of Dataset"
   ]
  },
  {
   "cell_type": "code",
   "execution_count": 92,
   "id": "fd508198",
   "metadata": {},
   "outputs": [
    {
     "name": "stdout",
     "output_type": "stream",
     "text": [
      "Dataset is of 2 dimension.\n"
     ]
    }
   ],
   "source": [
    "print(\"Dataset is of\", df4.ndim, \"dimension.\")"
   ]
  },
  {
   "cell_type": "markdown",
   "id": "8efe40cd",
   "metadata": {},
   "source": [
    "#### Rows and column of dataset"
   ]
  },
  {
   "cell_type": "code",
   "execution_count": 91,
   "id": "82fbdcc5",
   "metadata": {},
   "outputs": [
    {
     "data": {
      "text/html": [
       "<div>\n",
       "<style scoped>\n",
       "    .dataframe tbody tr th:only-of-type {\n",
       "        vertical-align: middle;\n",
       "    }\n",
       "\n",
       "    .dataframe tbody tr th {\n",
       "        vertical-align: top;\n",
       "    }\n",
       "\n",
       "    .dataframe thead th {\n",
       "        text-align: right;\n",
       "    }\n",
       "</style>\n",
       "<table border=\"1\" class=\"dataframe\">\n",
       "  <thead>\n",
       "    <tr style=\"text-align: right;\">\n",
       "      <th></th>\n",
       "      <th>VILLES</th>\n",
       "      <th>STATUS</th>\n",
       "      <th>LOCALISATION</th>\n",
       "      <th>DECOUPZONE</th>\n",
       "      <th>ZONENAME</th>\n",
       "      <th>LONGITUDE</th>\n",
       "      <th>LATITUDE</th>\n",
       "      <th>REGION</th>\n",
       "      <th>AREA</th>\n",
       "      <th>CELL_ID</th>\n",
       "      <th>SITE_CODE</th>\n",
       "    </tr>\n",
       "  </thead>\n",
       "  <tbody>\n",
       "    <tr>\n",
       "      <th>0</th>\n",
       "      <td>ADJAME</td>\n",
       "      <td>In Service</td>\n",
       "      <td>ABIDJAN</td>\n",
       "      <td>\"\"\"Abidjan_EST\"</td>\n",
       "      <td>AGBANNEW</td>\n",
       "      <td>-4.00066666666667</td>\n",
       "      <td>5.36819444444444</td>\n",
       "      <td>LAGUNE</td>\n",
       "      <td>NaN</td>\n",
       "      <td>fbb2e75af3</td>\n",
       "      <td>0bb492ef17</td>\n",
       "    </tr>\n",
       "    <tr>\n",
       "      <th>1</th>\n",
       "      <td>ADJAME</td>\n",
       "      <td>In Service</td>\n",
       "      <td>ABIDJAN</td>\n",
       "      <td>\"\"\"Abidjan_EST\"</td>\n",
       "      <td>AGBANNEW</td>\n",
       "      <td>-4.00066666666667</td>\n",
       "      <td>5.36819444444444</td>\n",
       "      <td>LAGUNE</td>\n",
       "      <td>NaN</td>\n",
       "      <td>1502501d78</td>\n",
       "      <td>0bb492ef17</td>\n",
       "    </tr>\n",
       "    <tr>\n",
       "      <th>2</th>\n",
       "      <td>ADJAME</td>\n",
       "      <td>In Service</td>\n",
       "      <td>ABIDJAN</td>\n",
       "      <td>\"\"\"Abidjan_EST\"</td>\n",
       "      <td>AGBANNEW</td>\n",
       "      <td>-4.00066666666667</td>\n",
       "      <td>5.36819444444444</td>\n",
       "      <td>LAGUNE</td>\n",
       "      <td>NaN</td>\n",
       "      <td>0c2e182a0c</td>\n",
       "      <td>0bb492ef17</td>\n",
       "    </tr>\n",
       "    <tr>\n",
       "      <th>3</th>\n",
       "      <td>ASSINIE</td>\n",
       "      <td>In Service</td>\n",
       "      <td>INTERIEUR</td>\n",
       "      <td>Grand-EST</td>\n",
       "      <td>\"ASSINIE\"\"\"</td>\n",
       "      <td>-3.48846666666667</td>\n",
       "      <td>5.15876111111111</td>\n",
       "      <td>SUD COMOE</td>\n",
       "      <td>NaN</td>\n",
       "      <td>69bdfc69fd</td>\n",
       "      <td>8a1e6ce31f</td>\n",
       "    </tr>\n",
       "    <tr>\n",
       "      <th>4</th>\n",
       "      <td>ASSINIE</td>\n",
       "      <td>In Service</td>\n",
       "      <td>INTERIEUR</td>\n",
       "      <td>Grand-EST</td>\n",
       "      <td>\"ASSINIE\"\"\"</td>\n",
       "      <td>-3.48846666666667</td>\n",
       "      <td>5.15876111111111</td>\n",
       "      <td>SUD COMOE</td>\n",
       "      <td>NaN</td>\n",
       "      <td>7a1029d2ab</td>\n",
       "      <td>8a1e6ce31f</td>\n",
       "    </tr>\n",
       "  </tbody>\n",
       "</table>\n",
       "</div>"
      ],
      "text/plain": [
       "    VILLES      STATUS LOCALISATION       DECOUPZONE     ZONENAME  \\\n",
       "0   ADJAME  In Service      ABIDJAN  \"\"\"Abidjan_EST\"     AGBANNEW   \n",
       "1   ADJAME  In Service      ABIDJAN  \"\"\"Abidjan_EST\"     AGBANNEW   \n",
       "2   ADJAME  In Service      ABIDJAN  \"\"\"Abidjan_EST\"     AGBANNEW   \n",
       "3  ASSINIE  In Service    INTERIEUR        Grand-EST  \"ASSINIE\"\"\"   \n",
       "4  ASSINIE  In Service    INTERIEUR        Grand-EST  \"ASSINIE\"\"\"   \n",
       "\n",
       "           LONGITUDE          LATITUDE     REGION AREA     CELL_ID   SITE_CODE  \n",
       "0  -4.00066666666667  5.36819444444444     LAGUNE  NaN  fbb2e75af3  0bb492ef17  \n",
       "1  -4.00066666666667  5.36819444444444     LAGUNE  NaN  1502501d78  0bb492ef17  \n",
       "2  -4.00066666666667  5.36819444444444     LAGUNE  NaN  0c2e182a0c  0bb492ef17  \n",
       "3  -3.48846666666667  5.15876111111111  SUD COMOE  NaN  69bdfc69fd  8a1e6ce31f  \n",
       "4  -3.48846666666667  5.15876111111111  SUD COMOE  NaN  7a1029d2ab  8a1e6ce31f  "
      ]
     },
     "execution_count": 91,
     "metadata": {},
     "output_type": "execute_result"
    }
   ],
   "source": [
    "df4.head()"
   ]
  },
  {
   "cell_type": "markdown",
   "id": "a32c1407",
   "metadata": {},
   "source": [
    "#### Knowing the data types of the columns "
   ]
  },
  {
   "cell_type": "code",
   "execution_count": 93,
   "id": "674d1f05",
   "metadata": {},
   "outputs": [
    {
     "name": "stdout",
     "output_type": "stream",
     "text": [
      "Data Types: \n",
      "VILLES          object\n",
      "STATUS          object\n",
      "LOCALISATION    object\n",
      "DECOUPZONE      object\n",
      "ZONENAME        object\n",
      "LONGITUDE       object\n",
      "LATITUDE        object\n",
      "REGION          object\n",
      "AREA            object\n",
      "CELL_ID         object\n",
      "SITE_CODE       object\n",
      "dtype: object\n"
     ]
    }
   ],
   "source": [
    "print(\"Data Types: \")\n",
    "print(df4. dtypes)"
   ]
  },
  {
   "cell_type": "markdown",
   "id": "55d0cbef",
   "metadata": {},
   "source": [
    "#### Finidng the missing values "
   ]
  },
  {
   "cell_type": "code",
   "execution_count": 94,
   "id": "802685e8",
   "metadata": {},
   "outputs": [
    {
     "data": {
      "text/plain": [
       "VILLES           0\n",
       "STATUS          67\n",
       "LOCALISATION     0\n",
       "DECOUPZONE       0\n",
       "ZONENAME         6\n",
       "LONGITUDE        0\n",
       "LATITUDE         0\n",
       "REGION           0\n",
       "AREA            23\n",
       "CELL_ID          0\n",
       "SITE_CODE        0\n",
       "dtype: int64"
      ]
     },
     "execution_count": 94,
     "metadata": {},
     "output_type": "execute_result"
    }
   ],
   "source": [
    "df4.isnull().sum()"
   ]
  },
  {
   "cell_type": "markdown",
   "id": "01f32f6e",
   "metadata": {},
   "source": [
    "#### Sum total of missing values "
   ]
  },
  {
   "cell_type": "code",
   "execution_count": 95,
   "id": "339ac1d8",
   "metadata": {},
   "outputs": [
    {
     "data": {
      "text/plain": [
       "96"
      ]
     },
     "execution_count": 95,
     "metadata": {},
     "output_type": "execute_result"
    }
   ],
   "source": [
    "df4.isnull().sum().sum()"
   ]
  },
  {
   "cell_type": "markdown",
   "id": "4326cb74",
   "metadata": {},
   "source": [
    "###### The missing values are 67 in status and 23 under area. "
   ]
  },
  {
   "cell_type": "markdown",
   "id": "9c52b32c",
   "metadata": {},
   "source": [
    "#### Checking for duplicates"
   ]
  },
  {
   "cell_type": "code",
   "execution_count": 96,
   "id": "c6add18f",
   "metadata": {},
   "outputs": [
    {
     "data": {
      "text/plain": [
       "0       False\n",
       "1       False\n",
       "2       False\n",
       "3       False\n",
       "4       False\n",
       "        ...  \n",
       "3969    False\n",
       "3970    False\n",
       "3971    False\n",
       "3972    False\n",
       "3973    False\n",
       "Length: 3974, dtype: bool"
      ]
     },
     "execution_count": 96,
     "metadata": {},
     "output_type": "execute_result"
    }
   ],
   "source": [
    "df4.duplicated()"
   ]
  },
  {
   "cell_type": "code",
   "execution_count": 98,
   "id": "a4e65429",
   "metadata": {},
   "outputs": [
    {
     "data": {
      "text/plain": [
       "43"
      ]
     },
     "execution_count": 98,
     "metadata": {},
     "output_type": "execute_result"
    }
   ],
   "source": [
    "df4.duplicated().sum()"
   ]
  },
  {
   "cell_type": "markdown",
   "id": "c42a5864",
   "metadata": {},
   "source": [
    "There were 43 rows that were duplicated in the geo data"
   ]
  },
  {
   "cell_type": "markdown",
   "id": "7d34bb6f",
   "metadata": {},
   "source": [
    "#### DESCRIBING  STATISTICS IN DATASET"
   ]
  },
  {
   "cell_type": "code",
   "execution_count": 99,
   "id": "99cec536",
   "metadata": {},
   "outputs": [
    {
     "data": {
      "text/html": [
       "<div>\n",
       "<style scoped>\n",
       "    .dataframe tbody tr th:only-of-type {\n",
       "        vertical-align: middle;\n",
       "    }\n",
       "\n",
       "    .dataframe tbody tr th {\n",
       "        vertical-align: top;\n",
       "    }\n",
       "\n",
       "    .dataframe thead th {\n",
       "        text-align: right;\n",
       "    }\n",
       "</style>\n",
       "<table border=\"1\" class=\"dataframe\">\n",
       "  <thead>\n",
       "    <tr style=\"text-align: right;\">\n",
       "      <th></th>\n",
       "      <th>VILLES</th>\n",
       "      <th>STATUS</th>\n",
       "      <th>LOCALISATION</th>\n",
       "      <th>DECOUPZONE</th>\n",
       "      <th>ZONENAME</th>\n",
       "      <th>LONGITUDE</th>\n",
       "      <th>LATITUDE</th>\n",
       "      <th>REGION</th>\n",
       "      <th>AREA</th>\n",
       "      <th>CELL_ID</th>\n",
       "      <th>SITE_CODE</th>\n",
       "    </tr>\n",
       "  </thead>\n",
       "  <tbody>\n",
       "    <tr>\n",
       "      <th>count</th>\n",
       "      <td>3974</td>\n",
       "      <td>3907</td>\n",
       "      <td>3974</td>\n",
       "      <td>3974</td>\n",
       "      <td>3968</td>\n",
       "      <td>3974</td>\n",
       "      <td>3974</td>\n",
       "      <td>3974</td>\n",
       "      <td>3951</td>\n",
       "      <td>3974</td>\n",
       "      <td>3974</td>\n",
       "    </tr>\n",
       "    <tr>\n",
       "      <th>unique</th>\n",
       "      <td>504</td>\n",
       "      <td>1</td>\n",
       "      <td>2</td>\n",
       "      <td>15</td>\n",
       "      <td>33</td>\n",
       "      <td>1013</td>\n",
       "      <td>1025</td>\n",
       "      <td>19</td>\n",
       "      <td>6</td>\n",
       "      <td>3916</td>\n",
       "      <td>1029</td>\n",
       "    </tr>\n",
       "    <tr>\n",
       "      <th>top</th>\n",
       "      <td>COCODY</td>\n",
       "      <td>In Service</td>\n",
       "      <td>INTERIEUR</td>\n",
       "      <td>Grand-OUEST</td>\n",
       "      <td>ZONE D - Grand-OUEST</td>\n",
       "      <td>-3.97861111111111</td>\n",
       "      <td>5.34611111111111</td>\n",
       "      <td>LAGUNE</td>\n",
       "      <td>ABIDJAN NORTH</td>\n",
       "      <td>6750e0fb7b</td>\n",
       "      <td>20387d4292</td>\n",
       "    </tr>\n",
       "    <tr>\n",
       "      <th>freq</th>\n",
       "      <td>354</td>\n",
       "      <td>3907</td>\n",
       "      <td>2305</td>\n",
       "      <td>528</td>\n",
       "      <td>527</td>\n",
       "      <td>12</td>\n",
       "      <td>12</td>\n",
       "      <td>1850</td>\n",
       "      <td>1222</td>\n",
       "      <td>39</td>\n",
       "      <td>42</td>\n",
       "    </tr>\n",
       "  </tbody>\n",
       "</table>\n",
       "</div>"
      ],
      "text/plain": [
       "        VILLES      STATUS LOCALISATION   DECOUPZONE              ZONENAME  \\\n",
       "count     3974        3907         3974         3974                  3968   \n",
       "unique     504           1            2           15                    33   \n",
       "top     COCODY  In Service    INTERIEUR  Grand-OUEST  ZONE D - Grand-OUEST   \n",
       "freq       354        3907         2305          528                   527   \n",
       "\n",
       "                LONGITUDE          LATITUDE  REGION           AREA  \\\n",
       "count                3974              3974    3974           3951   \n",
       "unique               1013              1025      19              6   \n",
       "top     -3.97861111111111  5.34611111111111  LAGUNE  ABIDJAN NORTH   \n",
       "freq                   12                12    1850           1222   \n",
       "\n",
       "           CELL_ID   SITE_CODE  \n",
       "count         3974        3974  \n",
       "unique        3916        1029  \n",
       "top     6750e0fb7b  20387d4292  \n",
       "freq            39          42  "
      ]
     },
     "execution_count": 99,
     "metadata": {},
     "output_type": "execute_result"
    }
   ],
   "source": [
    "df4.describe()"
   ]
  },
  {
   "cell_type": "code",
   "execution_count": 100,
   "id": "20ffb0a9",
   "metadata": {},
   "outputs": [
    {
     "data": {
      "text/plain": [
       "INTERIEUR    2305\n",
       "ABIDJAN      1669\n",
       "Name: LOCALISATION, dtype: int64"
      ]
     },
     "execution_count": 100,
     "metadata": {},
     "output_type": "execute_result"
    }
   ],
   "source": [
    "df4['LOCALISATION'].value_counts()"
   ]
  },
  {
   "cell_type": "code",
   "execution_count": null,
   "id": "d5b1830c",
   "metadata": {},
   "outputs": [],
   "source": []
  }
 ],
 "metadata": {
  "kernelspec": {
   "display_name": "Python 3",
   "language": "python",
   "name": "python3"
  },
  "language_info": {
   "codemirror_mode": {
    "name": "ipython",
    "version": 3
   },
   "file_extension": ".py",
   "mimetype": "text/x-python",
   "name": "python",
   "nbconvert_exporter": "python",
   "pygments_lexer": "ipython3",
   "version": "3.8.8"
  }
 },
 "nbformat": 4,
 "nbformat_minor": 5
}
