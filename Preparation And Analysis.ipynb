{
 "cells": [
  {
   "cell_type": "markdown",
   "id": "0118a73a",
   "metadata": {},
   "source": [
    "# MTN COTE D'IVORE  PYTHON MINI-PROJECT"
   ]
  },
  {
   "cell_type": "markdown",
   "id": "89148a0d",
   "metadata": {},
   "source": [
    "<font color='blue'><h1> DATA CLEANING AND ANALYSIS</h1></font>\n",
    "\n",
    "We will load the data sets the same way as in the data understanding section"
   ]
  },
  {
   "cell_type": "code",
   "execution_count": 1,
   "id": "13aa0ada",
   "metadata": {},
   "outputs": [],
   "source": [
    "import pandas as pd\n",
    "import numpy as np"
   ]
  },
  {
   "cell_type": "markdown",
   "id": "e5967580",
   "metadata": {},
   "source": [
    "### LOAD GEO DATA"
   ]
  },
  {
   "cell_type": "code",
   "execution_count": 2,
   "id": "ef3934f3",
   "metadata": {},
   "outputs": [],
   "source": [
    "#Read the data_geo dataset, I first converted the dataset into xls format so as to replace semicolons with columns for easy reading \n",
    "df_geo=pd.read_csv(\"./Data/cells_geo.csv\",na_values=['\"\"\"\"'])"
   ]
  },
  {
   "cell_type": "code",
   "execution_count": 3,
   "id": "9f9c0216",
   "metadata": {},
   "outputs": [
    {
     "data": {
      "text/plain": [
       "0       0;ADJAME;In Service;ABIDJAN;\"\"\"Abidjan_EST\";AG...\n",
       "1       1;ADJAME;In Service;ABIDJAN;\"\"\"Abidjan_EST\";AG...\n",
       "2       2;ADJAME;In Service;ABIDJAN;\"\"\"Abidjan_EST\";AG...\n",
       "3       3;ASSINIE;In Service;INTERIEUR;Grand-EST;\"ASSI...\n",
       "4       4;ASSINIE;In Service;INTERIEUR;Grand-EST;\"ASSI...\n",
       "                              ...                        \n",
       "3969    3969;ZUENOULA;In Service;INTERIEUR;Grand-NORD;...\n",
       "3970    3970;ZUENOULA;In Service;INTERIEUR;Grand-NORD;...\n",
       "3971    3971;ZUENOULA;In Service;INTERIEUR;Grand-NORD;...\n",
       "3972    3972;ZUENOULA;In Service;INTERIEUR;Grand-NORD;...\n",
       "3973    3973;ZUENOULA;In Service;INTERIEUR;Grand-NORD;...\n",
       "Name: ;VILLES;STATUS;LOCALISATION;DECOUPZONE;ZONENAME;LONGITUDE;LATITUDE;REGION;AREA;CELL_ID;SITE_CODE, Length: 3974, dtype: object"
      ]
     },
     "execution_count": 3,
     "metadata": {},
     "output_type": "execute_result"
    }
   ],
   "source": [
    "df_geo[';VILLES;STATUS;LOCALISATION;DECOUPZONE;ZONENAME;LONGITUDE;LATITUDE;REGION;AREA;CELL_ID;SITE_CODE']"
   ]
  },
  {
   "cell_type": "code",
   "execution_count": 4,
   "id": "48b0f119",
   "metadata": {},
   "outputs": [],
   "source": [
    "data_geo=df_geo[';VILLES;STATUS;LOCALISATION;DECOUPZONE;ZONENAME;LONGITUDE;LATITUDE;REGION;AREA;CELL_ID;SITE_CODE'].str.split(pat=';',n=11, expand=True)"
   ]
  },
  {
   "cell_type": "code",
   "execution_count": 5,
   "id": "b29f8914",
   "metadata": {},
   "outputs": [],
   "source": [
    "data_geo.drop([0], axis=1, inplace=True)"
   ]
  },
  {
   "cell_type": "code",
   "execution_count": 6,
   "id": "3ce24abb",
   "metadata": {},
   "outputs": [],
   "source": [
    "data_geo.columns=[\"VILLES\",\"STATUS\",\"LOCALISATION\",\"DECOUPZONE\",\"ZONENAME\",\"LONGITUDE\",\"LATITUDE\",\"REGION\",\"AREA\",\"CELL_ID\",\"SITE_CODE\"]"
   ]
  },
  {
   "cell_type": "code",
   "execution_count": 7,
   "id": "d871e6c4",
   "metadata": {},
   "outputs": [
    {
     "data": {
      "text/html": [
       "<div>\n",
       "<style scoped>\n",
       "    .dataframe tbody tr th:only-of-type {\n",
       "        vertical-align: middle;\n",
       "    }\n",
       "\n",
       "    .dataframe tbody tr th {\n",
       "        vertical-align: top;\n",
       "    }\n",
       "\n",
       "    .dataframe thead th {\n",
       "        text-align: right;\n",
       "    }\n",
       "</style>\n",
       "<table border=\"1\" class=\"dataframe\">\n",
       "  <thead>\n",
       "    <tr style=\"text-align: right;\">\n",
       "      <th></th>\n",
       "      <th>VILLES</th>\n",
       "      <th>STATUS</th>\n",
       "      <th>LOCALISATION</th>\n",
       "      <th>DECOUPZONE</th>\n",
       "      <th>ZONENAME</th>\n",
       "      <th>LONGITUDE</th>\n",
       "      <th>LATITUDE</th>\n",
       "      <th>REGION</th>\n",
       "      <th>AREA</th>\n",
       "      <th>CELL_ID</th>\n",
       "      <th>SITE_CODE</th>\n",
       "    </tr>\n",
       "  </thead>\n",
       "  <tbody>\n",
       "    <tr>\n",
       "      <th>0</th>\n",
       "      <td>ADJAME</td>\n",
       "      <td>In Service</td>\n",
       "      <td>ABIDJAN</td>\n",
       "      <td>\"\"\"Abidjan_EST\"</td>\n",
       "      <td>AGBANNEW</td>\n",
       "      <td>-4.00066666666667</td>\n",
       "      <td>5.36819444444444</td>\n",
       "      <td>LAGUNE</td>\n",
       "      <td></td>\n",
       "      <td>fbb2e75af3</td>\n",
       "      <td>0bb492ef17</td>\n",
       "    </tr>\n",
       "    <tr>\n",
       "      <th>1</th>\n",
       "      <td>ADJAME</td>\n",
       "      <td>In Service</td>\n",
       "      <td>ABIDJAN</td>\n",
       "      <td>\"\"\"Abidjan_EST\"</td>\n",
       "      <td>AGBANNEW</td>\n",
       "      <td>-4.00066666666667</td>\n",
       "      <td>5.36819444444444</td>\n",
       "      <td>LAGUNE</td>\n",
       "      <td></td>\n",
       "      <td>1502501d78</td>\n",
       "      <td>0bb492ef17</td>\n",
       "    </tr>\n",
       "    <tr>\n",
       "      <th>2</th>\n",
       "      <td>ADJAME</td>\n",
       "      <td>In Service</td>\n",
       "      <td>ABIDJAN</td>\n",
       "      <td>\"\"\"Abidjan_EST\"</td>\n",
       "      <td>AGBANNEW</td>\n",
       "      <td>-4.00066666666667</td>\n",
       "      <td>5.36819444444444</td>\n",
       "      <td>LAGUNE</td>\n",
       "      <td></td>\n",
       "      <td>0c2e182a0c</td>\n",
       "      <td>0bb492ef17</td>\n",
       "    </tr>\n",
       "    <tr>\n",
       "      <th>3</th>\n",
       "      <td>ASSINIE</td>\n",
       "      <td>In Service</td>\n",
       "      <td>INTERIEUR</td>\n",
       "      <td>Grand-EST</td>\n",
       "      <td>\"ASSINIE\"\"\"</td>\n",
       "      <td>-3.48846666666667</td>\n",
       "      <td>5.15876111111111</td>\n",
       "      <td>SUD COMOE</td>\n",
       "      <td></td>\n",
       "      <td>69bdfc69fd</td>\n",
       "      <td>8a1e6ce31f</td>\n",
       "    </tr>\n",
       "    <tr>\n",
       "      <th>4</th>\n",
       "      <td>ASSINIE</td>\n",
       "      <td>In Service</td>\n",
       "      <td>INTERIEUR</td>\n",
       "      <td>Grand-EST</td>\n",
       "      <td>\"ASSINIE\"\"\"</td>\n",
       "      <td>-3.48846666666667</td>\n",
       "      <td>5.15876111111111</td>\n",
       "      <td>SUD COMOE</td>\n",
       "      <td></td>\n",
       "      <td>7a1029d2ab</td>\n",
       "      <td>8a1e6ce31f</td>\n",
       "    </tr>\n",
       "  </tbody>\n",
       "</table>\n",
       "</div>"
      ],
      "text/plain": [
       "    VILLES      STATUS LOCALISATION       DECOUPZONE     ZONENAME  \\\n",
       "0   ADJAME  In Service      ABIDJAN  \"\"\"Abidjan_EST\"     AGBANNEW   \n",
       "1   ADJAME  In Service      ABIDJAN  \"\"\"Abidjan_EST\"     AGBANNEW   \n",
       "2   ADJAME  In Service      ABIDJAN  \"\"\"Abidjan_EST\"     AGBANNEW   \n",
       "3  ASSINIE  In Service    INTERIEUR        Grand-EST  \"ASSINIE\"\"\"   \n",
       "4  ASSINIE  In Service    INTERIEUR        Grand-EST  \"ASSINIE\"\"\"   \n",
       "\n",
       "           LONGITUDE          LATITUDE     REGION AREA     CELL_ID   SITE_CODE  \n",
       "0  -4.00066666666667  5.36819444444444     LAGUNE       fbb2e75af3  0bb492ef17  \n",
       "1  -4.00066666666667  5.36819444444444     LAGUNE       1502501d78  0bb492ef17  \n",
       "2  -4.00066666666667  5.36819444444444     LAGUNE       0c2e182a0c  0bb492ef17  \n",
       "3  -3.48846666666667  5.15876111111111  SUD COMOE       69bdfc69fd  8a1e6ce31f  \n",
       "4  -3.48846666666667  5.15876111111111  SUD COMOE       7a1029d2ab  8a1e6ce31f  "
      ]
     },
     "execution_count": 7,
     "metadata": {},
     "output_type": "execute_result"
    }
   ],
   "source": [
    "data_geo.head()"
   ]
  },
  {
   "cell_type": "code",
   "execution_count": 8,
   "id": "3399dac2",
   "metadata": {},
   "outputs": [],
   "source": [
    "#replace the empty white space in columns with nan \n",
    "data_geo.replace('', np.nan, inplace=True)"
   ]
  },
  {
   "cell_type": "code",
   "execution_count": 9,
   "id": "9e663bf9",
   "metadata": {},
   "outputs": [
    {
     "data": {
      "text/html": [
       "<div>\n",
       "<style scoped>\n",
       "    .dataframe tbody tr th:only-of-type {\n",
       "        vertical-align: middle;\n",
       "    }\n",
       "\n",
       "    .dataframe tbody tr th {\n",
       "        vertical-align: top;\n",
       "    }\n",
       "\n",
       "    .dataframe thead th {\n",
       "        text-align: right;\n",
       "    }\n",
       "</style>\n",
       "<table border=\"1\" class=\"dataframe\">\n",
       "  <thead>\n",
       "    <tr style=\"text-align: right;\">\n",
       "      <th></th>\n",
       "      <th>VILLES</th>\n",
       "      <th>STATUS</th>\n",
       "      <th>LOCALISATION</th>\n",
       "      <th>DECOUPZONE</th>\n",
       "      <th>ZONENAME</th>\n",
       "      <th>LONGITUDE</th>\n",
       "      <th>LATITUDE</th>\n",
       "      <th>REGION</th>\n",
       "      <th>AREA</th>\n",
       "      <th>CELL_ID</th>\n",
       "      <th>SITE_CODE</th>\n",
       "    </tr>\n",
       "  </thead>\n",
       "  <tbody>\n",
       "    <tr>\n",
       "      <th>0</th>\n",
       "      <td>ADJAME</td>\n",
       "      <td>In Service</td>\n",
       "      <td>ABIDJAN</td>\n",
       "      <td>\"\"\"Abidjan_EST\"</td>\n",
       "      <td>AGBANNEW</td>\n",
       "      <td>-4.00066666666667</td>\n",
       "      <td>5.36819444444444</td>\n",
       "      <td>LAGUNE</td>\n",
       "      <td>NaN</td>\n",
       "      <td>fbb2e75af3</td>\n",
       "      <td>0bb492ef17</td>\n",
       "    </tr>\n",
       "    <tr>\n",
       "      <th>1</th>\n",
       "      <td>ADJAME</td>\n",
       "      <td>In Service</td>\n",
       "      <td>ABIDJAN</td>\n",
       "      <td>\"\"\"Abidjan_EST\"</td>\n",
       "      <td>AGBANNEW</td>\n",
       "      <td>-4.00066666666667</td>\n",
       "      <td>5.36819444444444</td>\n",
       "      <td>LAGUNE</td>\n",
       "      <td>NaN</td>\n",
       "      <td>1502501d78</td>\n",
       "      <td>0bb492ef17</td>\n",
       "    </tr>\n",
       "    <tr>\n",
       "      <th>2</th>\n",
       "      <td>ADJAME</td>\n",
       "      <td>In Service</td>\n",
       "      <td>ABIDJAN</td>\n",
       "      <td>\"\"\"Abidjan_EST\"</td>\n",
       "      <td>AGBANNEW</td>\n",
       "      <td>-4.00066666666667</td>\n",
       "      <td>5.36819444444444</td>\n",
       "      <td>LAGUNE</td>\n",
       "      <td>NaN</td>\n",
       "      <td>0c2e182a0c</td>\n",
       "      <td>0bb492ef17</td>\n",
       "    </tr>\n",
       "    <tr>\n",
       "      <th>3</th>\n",
       "      <td>ASSINIE</td>\n",
       "      <td>In Service</td>\n",
       "      <td>INTERIEUR</td>\n",
       "      <td>Grand-EST</td>\n",
       "      <td>\"ASSINIE\"\"\"</td>\n",
       "      <td>-3.48846666666667</td>\n",
       "      <td>5.15876111111111</td>\n",
       "      <td>SUD COMOE</td>\n",
       "      <td>NaN</td>\n",
       "      <td>69bdfc69fd</td>\n",
       "      <td>8a1e6ce31f</td>\n",
       "    </tr>\n",
       "    <tr>\n",
       "      <th>4</th>\n",
       "      <td>ASSINIE</td>\n",
       "      <td>In Service</td>\n",
       "      <td>INTERIEUR</td>\n",
       "      <td>Grand-EST</td>\n",
       "      <td>\"ASSINIE\"\"\"</td>\n",
       "      <td>-3.48846666666667</td>\n",
       "      <td>5.15876111111111</td>\n",
       "      <td>SUD COMOE</td>\n",
       "      <td>NaN</td>\n",
       "      <td>7a1029d2ab</td>\n",
       "      <td>8a1e6ce31f</td>\n",
       "    </tr>\n",
       "  </tbody>\n",
       "</table>\n",
       "</div>"
      ],
      "text/plain": [
       "    VILLES      STATUS LOCALISATION       DECOUPZONE     ZONENAME  \\\n",
       "0   ADJAME  In Service      ABIDJAN  \"\"\"Abidjan_EST\"     AGBANNEW   \n",
       "1   ADJAME  In Service      ABIDJAN  \"\"\"Abidjan_EST\"     AGBANNEW   \n",
       "2   ADJAME  In Service      ABIDJAN  \"\"\"Abidjan_EST\"     AGBANNEW   \n",
       "3  ASSINIE  In Service    INTERIEUR        Grand-EST  \"ASSINIE\"\"\"   \n",
       "4  ASSINIE  In Service    INTERIEUR        Grand-EST  \"ASSINIE\"\"\"   \n",
       "\n",
       "           LONGITUDE          LATITUDE     REGION AREA     CELL_ID   SITE_CODE  \n",
       "0  -4.00066666666667  5.36819444444444     LAGUNE  NaN  fbb2e75af3  0bb492ef17  \n",
       "1  -4.00066666666667  5.36819444444444     LAGUNE  NaN  1502501d78  0bb492ef17  \n",
       "2  -4.00066666666667  5.36819444444444     LAGUNE  NaN  0c2e182a0c  0bb492ef17  \n",
       "3  -3.48846666666667  5.15876111111111  SUD COMOE  NaN  69bdfc69fd  8a1e6ce31f  \n",
       "4  -3.48846666666667  5.15876111111111  SUD COMOE  NaN  7a1029d2ab  8a1e6ce31f  "
      ]
     },
     "execution_count": 9,
     "metadata": {},
     "output_type": "execute_result"
    }
   ],
   "source": [
    "data_geo.head()"
   ]
  },
  {
   "cell_type": "code",
   "execution_count": 10,
   "id": "072dfeff",
   "metadata": {},
   "outputs": [
    {
     "ename": "NameError",
     "evalue": "name 'df_geo_new' is not defined",
     "output_type": "error",
     "traceback": [
      "\u001b[1;31m---------------------------------------------------------------------------\u001b[0m",
      "\u001b[1;31mNameError\u001b[0m                                 Traceback (most recent call last)",
      "\u001b[1;32m<ipython-input-10-ca16802c3eb2>\u001b[0m in \u001b[0;36m<module>\u001b[1;34m\u001b[0m\n\u001b[1;32m----> 1\u001b[1;33m \u001b[0mdata_geo\u001b[0m\u001b[1;33m=\u001b[0m\u001b[0mdf_geo_new\u001b[0m\u001b[1;33m.\u001b[0m\u001b[0mcopy\u001b[0m\u001b[1;33m(\u001b[0m\u001b[1;33m)\u001b[0m\u001b[1;33m\u001b[0m\u001b[1;33m\u001b[0m\u001b[0m\n\u001b[0m",
      "\u001b[1;31mNameError\u001b[0m: name 'df_geo_new' is not defined"
     ]
    }
   ],
   "source": [
    "data_geo=df_geo_new.copy()"
   ]
  },
  {
   "cell_type": "markdown",
   "id": "1325de4b",
   "metadata": {},
   "source": [
    "### LOAD THE TELCOM DATA SETS"
   ]
  },
  {
   "cell_type": "code",
   "execution_count": 11,
   "id": "81342113",
   "metadata": {},
   "outputs": [
    {
     "name": "stdout",
     "output_type": "stream",
     "text": [
      "(5001, 10)\n"
     ]
    },
    {
     "data": {
      "text/html": [
       "<div>\n",
       "<style scoped>\n",
       "    .dataframe tbody tr th:only-of-type {\n",
       "        vertical-align: middle;\n",
       "    }\n",
       "\n",
       "    .dataframe tbody tr th {\n",
       "        vertical-align: top;\n",
       "    }\n",
       "\n",
       "    .dataframe thead th {\n",
       "        text-align: right;\n",
       "    }\n",
       "</style>\n",
       "<table border=\"1\" class=\"dataframe\">\n",
       "  <thead>\n",
       "    <tr style=\"text-align: right;\">\n",
       "      <th></th>\n",
       "      <th>PRODUTC</th>\n",
       "      <th>VALUE</th>\n",
       "      <th>DATETIME</th>\n",
       "      <th>CELL_ON_SITE</th>\n",
       "      <th>DW_A_NUMBER_INT</th>\n",
       "      <th>DW_B_NUMBER_INT</th>\n",
       "      <th>COUNTRY_A</th>\n",
       "      <th>COUNTRY_B</th>\n",
       "      <th>CELL_ID</th>\n",
       "      <th>SITE_ID</th>\n",
       "    </tr>\n",
       "  </thead>\n",
       "  <tbody>\n",
       "    <tr>\n",
       "      <th>0</th>\n",
       "      <td>Voice</td>\n",
       "      <td>0</td>\n",
       "      <td>04:37.0</td>\n",
       "      <td>1</td>\n",
       "      <td>49fae048b547780</td>\n",
       "      <td>1a49f8b0ded9de6</td>\n",
       "      <td>19e2e</td>\n",
       "      <td>19e2e</td>\n",
       "      <td>/TJNe+Mmtu</td>\n",
       "      <td>/TJNe+Mmtu</td>\n",
       "    </tr>\n",
       "    <tr>\n",
       "      <th>1</th>\n",
       "      <td>sms</td>\n",
       "      <td>0</td>\n",
       "      <td>05:25.0</td>\n",
       "      <td>0</td>\n",
       "      <td>7a54a6eaee19e65</td>\n",
       "      <td>93343ba6e41af95</td>\n",
       "      <td>19e2e</td>\n",
       "      <td>19e2e</td>\n",
       "      <td>/+cKZKIp41</td>\n",
       "      <td>/+cKZKIp41</td>\n",
       "    </tr>\n",
       "    <tr>\n",
       "      <th>2</th>\n",
       "      <td>sms</td>\n",
       "      <td>25</td>\n",
       "      <td>05:41.0</td>\n",
       "      <td>0</td>\n",
       "      <td>6008887b0207d82</td>\n",
       "      <td>7aacc9709ce0a20</td>\n",
       "      <td>19e2e</td>\n",
       "      <td>19e2e</td>\n",
       "      <td>/u0FSD+ahi</td>\n",
       "      <td>/u0FSD+ahi</td>\n",
       "    </tr>\n",
       "  </tbody>\n",
       "</table>\n",
       "</div>"
      ],
      "text/plain": [
       "  PRODUTC  VALUE DATETIME CELL_ON_SITE  DW_A_NUMBER_INT  DW_B_NUMBER_INT  \\\n",
       "0   Voice      0  04:37.0            1  49fae048b547780  1a49f8b0ded9de6   \n",
       "1     sms      0  05:25.0            0  7a54a6eaee19e65  93343ba6e41af95   \n",
       "2     sms     25  05:41.0            0  6008887b0207d82  7aacc9709ce0a20   \n",
       "\n",
       "  COUNTRY_A COUNTRY_B     CELL_ID     SITE_ID  \n",
       "0     19e2e     19e2e  /TJNe+Mmtu  /TJNe+Mmtu  \n",
       "1     19e2e     19e2e  /+cKZKIp41  /+cKZKIp41  \n",
       "2     19e2e     19e2e  /u0FSD+ahi  /u0FSD+ahi  "
      ]
     },
     "execution_count": 11,
     "metadata": {},
     "output_type": "execute_result"
    }
   ],
   "source": [
    "#Read the first dataset of the Telecom dataset using pandas\n",
    "data_telecom_1=pd.read_csv(\"./Data/Telcom_dataset.csv\") \n",
    "print(data_telecom_1.shape)\n",
    "#print out the first 5 rows\n",
    "data_telecom_1.head(3)"
   ]
  },
  {
   "cell_type": "code",
   "execution_count": 12,
   "id": "522d455e",
   "metadata": {},
   "outputs": [
    {
     "name": "stdout",
     "output_type": "stream",
     "text": [
      "(5001, 10)\n"
     ]
    },
    {
     "data": {
      "text/html": [
       "<div>\n",
       "<style scoped>\n",
       "    .dataframe tbody tr th:only-of-type {\n",
       "        vertical-align: middle;\n",
       "    }\n",
       "\n",
       "    .dataframe tbody tr th {\n",
       "        vertical-align: top;\n",
       "    }\n",
       "\n",
       "    .dataframe thead th {\n",
       "        text-align: right;\n",
       "    }\n",
       "</style>\n",
       "<table border=\"1\" class=\"dataframe\">\n",
       "  <thead>\n",
       "    <tr style=\"text-align: right;\">\n",
       "      <th></th>\n",
       "      <th>PRODUCT</th>\n",
       "      <th>VALUE</th>\n",
       "      <th>DATE_TIME</th>\n",
       "      <th>CELL_ON_SITE</th>\n",
       "      <th>DW_A_NUMBER</th>\n",
       "      <th>DW_B_NUMBER</th>\n",
       "      <th>COUNTRY_A</th>\n",
       "      <th>COUNTRY_B</th>\n",
       "      <th>CELL_ID</th>\n",
       "      <th>SITE_ID</th>\n",
       "    </tr>\n",
       "  </thead>\n",
       "  <tbody>\n",
       "    <tr>\n",
       "      <th>0</th>\n",
       "      <td>sms</td>\n",
       "      <td>0</td>\n",
       "      <td>2012-05-07 23:02:06.0</td>\n",
       "      <td>2</td>\n",
       "      <td>32255675c3b6fe3</td>\n",
       "      <td>1aa7ae01386e9fb</td>\n",
       "      <td>19e2e</td>\n",
       "      <td>19e2e</td>\n",
       "      <td>+854AcBQT2</td>\n",
       "      <td>+854AcBQT2</td>\n",
       "    </tr>\n",
       "    <tr>\n",
       "      <th>1</th>\n",
       "      <td>Voice</td>\n",
       "      <td>0</td>\n",
       "      <td>2012-05-07 23:03:44.0</td>\n",
       "      <td>1</td>\n",
       "      <td>ff16d6ac74c1c64</td>\n",
       "      <td>87d87309c15a8c9</td>\n",
       "      <td>19e2e</td>\n",
       "      <td>19e2e</td>\n",
       "      <td>+854AcBQT2</td>\n",
       "      <td>+854AcBQT2</td>\n",
       "    </tr>\n",
       "    <tr>\n",
       "      <th>2</th>\n",
       "      <td>sms</td>\n",
       "      <td>0</td>\n",
       "      <td>2012-05-07 23:04:06.0</td>\n",
       "      <td>0</td>\n",
       "      <td>98d9f2fb5ff624b</td>\n",
       "      <td>93343ba6e41af95</td>\n",
       "      <td>19e2e</td>\n",
       "      <td>19e2e</td>\n",
       "      <td>+laSrk7g6q</td>\n",
       "      <td>+laSrk7g6q</td>\n",
       "    </tr>\n",
       "  </tbody>\n",
       "</table>\n",
       "</div>"
      ],
      "text/plain": [
       "  PRODUCT  VALUE              DATE_TIME CELL_ON_SITE      DW_A_NUMBER  \\\n",
       "0     sms      0  2012-05-07 23:02:06.0            2  32255675c3b6fe3   \n",
       "1   Voice      0  2012-05-07 23:03:44.0            1  ff16d6ac74c1c64   \n",
       "2     sms      0  2012-05-07 23:04:06.0            0  98d9f2fb5ff624b   \n",
       "\n",
       "       DW_B_NUMBER COUNTRY_A COUNTRY_B     CELL_ID     SITE_ID  \n",
       "0  1aa7ae01386e9fb     19e2e     19e2e  +854AcBQT2  +854AcBQT2  \n",
       "1  87d87309c15a8c9     19e2e     19e2e  +854AcBQT2  +854AcBQT2  \n",
       "2  93343ba6e41af95     19e2e     19e2e  +laSrk7g6q  +laSrk7g6q  "
      ]
     },
     "execution_count": 12,
     "metadata": {},
     "output_type": "execute_result"
    }
   ],
   "source": [
    "#Read the second file of the Telecom dataset using pandas\n",
    "data_telecom_2=pd.read_csv(\"./Data/Telcom_dataset2.csv\")\n",
    "print(data_telecom_2.shape)\n",
    "#print out the first 5 rows\n",
    "data_telecom_2.head(3)"
   ]
  },
  {
   "cell_type": "code",
   "execution_count": 13,
   "id": "e3137cc2",
   "metadata": {},
   "outputs": [
    {
     "name": "stdout",
     "output_type": "stream",
     "text": [
      "(5001, 10)\n"
     ]
    },
    {
     "data": {
      "text/html": [
       "<div>\n",
       "<style scoped>\n",
       "    .dataframe tbody tr th:only-of-type {\n",
       "        vertical-align: middle;\n",
       "    }\n",
       "\n",
       "    .dataframe tbody tr th {\n",
       "        vertical-align: top;\n",
       "    }\n",
       "\n",
       "    .dataframe thead th {\n",
       "        text-align: right;\n",
       "    }\n",
       "</style>\n",
       "<table border=\"1\" class=\"dataframe\">\n",
       "  <thead>\n",
       "    <tr style=\"text-align: right;\">\n",
       "      <th></th>\n",
       "      <th>PRODUCT</th>\n",
       "      <th>VALUE</th>\n",
       "      <th>DATE_TIME</th>\n",
       "      <th>CELL_ON_SITE</th>\n",
       "      <th>DW_A_NUMBER_INT</th>\n",
       "      <th>DW_B_NUMBER_INT</th>\n",
       "      <th>COUNTRY_A</th>\n",
       "      <th>COUNTRY_B</th>\n",
       "      <th>CELLID</th>\n",
       "      <th>SIET_ID</th>\n",
       "    </tr>\n",
       "  </thead>\n",
       "  <tbody>\n",
       "    <tr>\n",
       "      <th>0</th>\n",
       "      <td>Voice</td>\n",
       "      <td>61</td>\n",
       "      <td>2012-05-08 23:01:28.0</td>\n",
       "      <td>2</td>\n",
       "      <td>966f68353622feb</td>\n",
       "      <td>ffd53a3bb2db6f1</td>\n",
       "      <td>19e2e</td>\n",
       "      <td>19e2e</td>\n",
       "      <td>+38u2u/rfx</td>\n",
       "      <td>+38u2u/rfx</td>\n",
       "    </tr>\n",
       "    <tr>\n",
       "      <th>1</th>\n",
       "      <td>sms</td>\n",
       "      <td>0</td>\n",
       "      <td>2012-05-08 23:01:31.0</td>\n",
       "      <td>1</td>\n",
       "      <td>a0a597384c612d7</td>\n",
       "      <td>cf3b218f1dde792</td>\n",
       "      <td>19e2e</td>\n",
       "      <td>19e2e</td>\n",
       "      <td>+Fs4mTvdKx</td>\n",
       "      <td>+Fs4mTvdKx</td>\n",
       "    </tr>\n",
       "    <tr>\n",
       "      <th>2</th>\n",
       "      <td>Voice</td>\n",
       "      <td>10</td>\n",
       "      <td>2012-05-08 23:02:59.0</td>\n",
       "      <td>1</td>\n",
       "      <td>5441a9a58c97132</td>\n",
       "      <td>52f8b299515b9b7</td>\n",
       "      <td>19e2e</td>\n",
       "      <td>19e2e</td>\n",
       "      <td>+ZaaZozy/+</td>\n",
       "      <td>+ZaaZozy/+</td>\n",
       "    </tr>\n",
       "  </tbody>\n",
       "</table>\n",
       "</div>"
      ],
      "text/plain": [
       "  PRODUCT  VALUE              DATE_TIME CELL_ON_SITE  DW_A_NUMBER_INT  \\\n",
       "0   Voice     61  2012-05-08 23:01:28.0            2  966f68353622feb   \n",
       "1     sms      0  2012-05-08 23:01:31.0            1  a0a597384c612d7   \n",
       "2   Voice     10  2012-05-08 23:02:59.0            1  5441a9a58c97132   \n",
       "\n",
       "   DW_B_NUMBER_INT COUNTRY_A COUNTRY_B      CELLID     SIET_ID  \n",
       "0  ffd53a3bb2db6f1     19e2e     19e2e  +38u2u/rfx  +38u2u/rfx  \n",
       "1  cf3b218f1dde792     19e2e     19e2e  +Fs4mTvdKx  +Fs4mTvdKx  \n",
       "2  52f8b299515b9b7     19e2e     19e2e  +ZaaZozy/+  +ZaaZozy/+  "
      ]
     },
     "execution_count": 13,
     "metadata": {},
     "output_type": "execute_result"
    }
   ],
   "source": [
    "#Read the second file of the Telecom dataset using pandas\n",
    "data_telecom_3=pd.read_csv(\"./Data/Telcom_dataset3.csv\")\n",
    "print(data_telecom_3.shape)\n",
    "#print out the first 5 rows\n",
    "data_telecom_3.head(3)"
   ]
  },
  {
   "cell_type": "code",
   "execution_count": null,
   "id": "e3d2133b",
   "metadata": {},
   "outputs": [],
   "source": []
  },
  {
   "cell_type": "markdown",
   "id": "09fa5445",
   "metadata": {},
   "source": [
    " <font color='red'><h1>2. DATA CLEANING</h1></font>"
   ]
  },
  {
   "cell_type": "markdown",
   "id": "9f41a410",
   "metadata": {},
   "source": [
    "#### We will begin our cleaning process by outlining the various cleaning methods we plan on using. This are:\n",
    "\n",
    "##### 1. Remove duplicates from our Datasets\n",
    "\n",
    "##### 2. Handle Missing Data: we will handle by droping and also keep a copies where we replaced missing data\n",
    "\n",
    "##### 3. Remove outliers for quantitative variables: we will use the IQR and also the Z-score method\n",
    "\n",
    "##### 4. Give our Telcom Data sets column names that match"
   ]
  },
  {
   "cell_type": "markdown",
   "id": "386b95ce",
   "metadata": {},
   "source": [
    "<font color='green'><h3>A. GEO DATA CLEANING</h3></font>"
   ]
  },
  {
   "cell_type": "code",
   "execution_count": 14,
   "id": "8462cb66",
   "metadata": {},
   "outputs": [],
   "source": [
    "#we make a copy of the data for the purpose of cleaning\n",
    "data_geo_clean=data_geo.copy()"
   ]
  },
  {
   "cell_type": "markdown",
   "id": "e6827e8e",
   "metadata": {},
   "source": [
    "#### We begin by removing duplicates"
   ]
  },
  {
   "cell_type": "code",
   "execution_count": 15,
   "id": "ff162979",
   "metadata": {},
   "outputs": [],
   "source": [
    "data_geo_clean.drop_duplicates(inplace=True,ignore_index=True)"
   ]
  },
  {
   "cell_type": "code",
   "execution_count": 16,
   "id": "41625e84",
   "metadata": {},
   "outputs": [
    {
     "data": {
      "text/plain": [
       "(3931, 11)"
      ]
     },
     "execution_count": 16,
     "metadata": {},
     "output_type": "execute_result"
    }
   ],
   "source": [
    "data_geo_clean.shape"
   ]
  },
  {
   "cell_type": "markdown",
   "id": "956df00b",
   "metadata": {},
   "source": [
    "#### Next we will handle missing data in the two ways above"
   ]
  },
  {
   "cell_type": "markdown",
   "id": "aaba3000",
   "metadata": {},
   "source": [
    "1. Droping the NaN "
   ]
  },
  {
   "cell_type": "code",
   "execution_count": 17,
   "id": "9ce7c9db",
   "metadata": {},
   "outputs": [],
   "source": [
    "# we make a copy of the data geo\n",
    "geo_dropped=data_geo_clean.copy()"
   ]
  },
  {
   "cell_type": "code",
   "execution_count": 18,
   "id": "bc863bd8",
   "metadata": {},
   "outputs": [],
   "source": [
    "geo_dropped.dropna(subset=[\"STATUS\",\"ZONENAME\",\"AREA\"], inplace=True)"
   ]
  },
  {
   "cell_type": "code",
   "execution_count": 19,
   "id": "295c28d9",
   "metadata": {},
   "outputs": [
    {
     "data": {
      "text/plain": [
       "(3863, 11)"
      ]
     },
     "execution_count": 19,
     "metadata": {},
     "output_type": "execute_result"
    }
   ],
   "source": [
    "geo_dropped.shape"
   ]
  },
  {
   "cell_type": "markdown",
   "id": "4561b903",
   "metadata": {},
   "source": [
    "2. Replacing NaN in various columns"
   ]
  },
  {
   "cell_type": "code",
   "execution_count": 20,
   "id": "7bc984bb",
   "metadata": {},
   "outputs": [],
   "source": [
    "#make a copy to use for replacing NaN"
   ]
  },
  {
   "cell_type": "code",
   "execution_count": 21,
   "id": "44ff9641",
   "metadata": {},
   "outputs": [],
   "source": [
    "geo_replaced=data_geo_clean.copy()"
   ]
  },
  {
   "cell_type": "code",
   "execution_count": 22,
   "id": "d4eef13e",
   "metadata": {},
   "outputs": [],
   "source": [
    "#replace nan values in status column with 'Not defined'\n",
    "geo_replaced['STATUS'].fillna('Not defined', inplace=True)"
   ]
  },
  {
   "cell_type": "code",
   "execution_count": 23,
   "id": "15b32fa0",
   "metadata": {},
   "outputs": [],
   "source": [
    "#replace nan values in Zonename column with 'other zone'\n",
    "geo_replaced['ZONENAME'].fillna('other_zone', inplace=True)"
   ]
  },
  {
   "cell_type": "code",
   "execution_count": 24,
   "id": "7844f5d9",
   "metadata": {},
   "outputs": [],
   "source": [
    "#replace nan values in Area column with 'other_area'\n",
    "geo_replaced['AREA'].fillna('other_area', inplace=True)"
   ]
  },
  {
   "cell_type": "code",
   "execution_count": 25,
   "id": "fdbef8e5",
   "metadata": {},
   "outputs": [
    {
     "data": {
      "text/plain": [
       "(3931, 11)"
      ]
     },
     "execution_count": 25,
     "metadata": {},
     "output_type": "execute_result"
    }
   ],
   "source": [
    "geo_replaced.shape"
   ]
  },
  {
   "cell_type": "markdown",
   "id": "4ba3d439",
   "metadata": {},
   "source": [
    "For Analysis and joining purposes we will use the replaced version of the dataset, to avoid losing rows that might be important during answering questions in the analysis"
   ]
  },
  {
   "cell_type": "markdown",
   "id": "8a0924df",
   "metadata": {},
   "source": [
    "<font color='green'><h3>A. TELCOM DATA CLEANING</h3></font>"
   ]
  },
  {
   "cell_type": "code",
   "execution_count": 26,
   "id": "3cab53a1",
   "metadata": {},
   "outputs": [],
   "source": [
    "#We start by making copies of the data sets to be cleaned\n",
    "\n",
    "data_telcom_clean_1=data_telecom_1.copy()\n",
    "data_telcom_clean_2=data_telecom_2.copy()\n",
    "data_telcom_clean_3=data_telecom_3.copy()"
   ]
  },
  {
   "cell_type": "markdown",
   "id": "e182d0b0",
   "metadata": {},
   "source": [
    "#### We begin the cleaning by renaming the columns of the data sets so as to have a standard naming"
   ]
  },
  {
   "cell_type": "code",
   "execution_count": 27,
   "id": "6ca8fd23",
   "metadata": {},
   "outputs": [],
   "source": [
    "#declare the variable that contains a list of names to use as column names\n",
    "names=[\"PRODUCT\",\"VALUE\",\"DATE_TIME\",\"CELL_ON_SITE\",\"DW_A_NUMBER\",\"DW_B_NUMBER\",\"COUNTRY_A\",\"COUNTRY_B\",\"CELL_ID\",\"SITE_ID\"]"
   ]
  },
  {
   "cell_type": "code",
   "execution_count": 28,
   "id": "e4b5efb1",
   "metadata": {},
   "outputs": [],
   "source": [
    "#set the 3 dats set's column names to names variable\n",
    "data_telcom_clean_1.columns=names\n",
    "data_telcom_clean_2.columns=names\n",
    "data_telcom_clean_3.columns=names"
   ]
  },
  {
   "cell_type": "code",
   "execution_count": 29,
   "id": "e67ad622",
   "metadata": {},
   "outputs": [],
   "source": [
    "#let us check if the column names of the 3 telcom data sets are the same\n",
    "assert list(data_telcom_clean_1.columns)==list(data_telcom_clean_2.columns)"
   ]
  },
  {
   "cell_type": "code",
   "execution_count": 30,
   "id": "decad5d6",
   "metadata": {},
   "outputs": [],
   "source": [
    "assert list(data_telcom_clean_2.columns)==list(data_telcom_clean_3.columns)"
   ]
  },
  {
   "cell_type": "markdown",
   "id": "7c4aaed2",
   "metadata": {},
   "source": [
    "#### Next, we remove duplicates from our 3 data sets"
   ]
  },
  {
   "cell_type": "code",
   "execution_count": 31,
   "id": "4e658808",
   "metadata": {},
   "outputs": [],
   "source": [
    "data_telcom_clean_1.drop_duplicates(inplace=True,ignore_index=True)\n",
    "data_telcom_clean_2.drop_duplicates(inplace=True,ignore_index=True)\n",
    "data_telcom_clean_3.drop_duplicates(inplace=True,ignore_index=True)"
   ]
  },
  {
   "cell_type": "markdown",
   "id": "e5cf940c",
   "metadata": {},
   "source": [
    "#### Next we will handle missing data in the two ways as above"
   ]
  },
  {
   "cell_type": "markdown",
   "id": "ee987ace",
   "metadata": {},
   "source": [
    "1. Droping the NaN "
   ]
  },
  {
   "cell_type": "code",
   "execution_count": 32,
   "id": "fa3fa1e4",
   "metadata": {},
   "outputs": [],
   "source": [
    "#we first make copies of the data sets\n",
    "telcom_dropped_1=data_telcom_clean_1.copy()\n",
    "telcom_dropped_2=data_telcom_clean_2.copy()\n",
    "telcom_dropped_3=data_telcom_clean_3.copy()"
   ]
  },
  {
   "cell_type": "code",
   "execution_count": 33,
   "id": "b2de3caf",
   "metadata": {},
   "outputs": [],
   "source": [
    "#dropping NaN from the 3 data sets\n",
    "telcom_dropped_1.dropna(subset=['SITE_ID'], inplace=True)\n",
    "telcom_dropped_2.dropna(subset=['SITE_ID'], inplace=True)\n",
    "telcom_dropped_1.dropna(subset=['SITE_ID'], inplace=True)"
   ]
  },
  {
   "cell_type": "code",
   "execution_count": 34,
   "id": "1f00abec",
   "metadata": {},
   "outputs": [
    {
     "name": "stdout",
     "output_type": "stream",
     "text": [
      "(4215, 10)\n",
      "(4263, 10)\n",
      "(4908, 10)\n"
     ]
    }
   ],
   "source": [
    "#let us view the shapes of the data sets after dropping NaN's\n",
    "print(telcom_dropped_1.shape)\n",
    "print(telcom_dropped_2.shape)\n",
    "print(telcom_dropped_3.shape)"
   ]
  },
  {
   "cell_type": "markdown",
   "id": "328e3c78",
   "metadata": {},
   "source": [
    "2. Replacing NaN in various columns"
   ]
  },
  {
   "cell_type": "code",
   "execution_count": 35,
   "id": "63e2e083",
   "metadata": {},
   "outputs": [],
   "source": [
    "#we first make copies of the data sets\n",
    "telcom_replaced_1=data_telcom_clean_1.copy()\n",
    "telcom_replaced_2=data_telcom_clean_2.copy()\n",
    "telcom_replaced_3=data_telcom_clean_3.copy()"
   ]
  },
  {
   "cell_type": "code",
   "execution_count": 36,
   "id": "9c37c311",
   "metadata": {},
   "outputs": [
    {
     "data": {
      "text/plain": [
       "Index(['PRODUCT', 'VALUE', 'DATE_TIME', 'CELL_ON_SITE', 'DW_A_NUMBER',\n",
       "       'DW_B_NUMBER', 'COUNTRY_A', 'COUNTRY_B', 'CELL_ID', 'SITE_ID'],\n",
       "      dtype='object')"
      ]
     },
     "execution_count": 36,
     "metadata": {},
     "output_type": "execute_result"
    }
   ],
   "source": [
    "telcom_replaced_3.columns"
   ]
  },
  {
   "cell_type": "code",
   "execution_count": 37,
   "id": "809cec21",
   "metadata": {},
   "outputs": [],
   "source": [
    "telcom_replaced_1['SITE_ID'].fillna('Not defined', inplace=True)\n",
    "telcom_replaced_2['SITE_ID'].fillna('Not defined', inplace=True)\n",
    "telcom_replaced_3['SITE_ID'].fillna('Not defined', inplace=True)"
   ]
  },
  {
   "cell_type": "code",
   "execution_count": 38,
   "id": "dc21157a",
   "metadata": {},
   "outputs": [
    {
     "name": "stdout",
     "output_type": "stream",
     "text": [
      "(4919, 10)\n",
      "(4923, 10)\n",
      "(4908, 10)\n"
     ]
    }
   ],
   "source": [
    "#let us see if the shape of the replaced data sets is the same as the original data set after dropping duplicates\n",
    "print(telcom_replaced_1.shape)\n",
    "print(telcom_replaced_2.shape)\n",
    "print(telcom_replaced_3.shape)"
   ]
  },
  {
   "cell_type": "code",
   "execution_count": 39,
   "id": "dad87647",
   "metadata": {},
   "outputs": [
    {
     "name": "stdout",
     "output_type": "stream",
     "text": [
      "(4919, 10)\n",
      "(4923, 10)\n",
      "(4908, 10)\n"
     ]
    }
   ],
   "source": [
    "print(data_telcom_clean_1.shape)\n",
    "print(data_telcom_clean_2.shape)\n",
    "print(data_telcom_clean_3.shape)"
   ]
  },
  {
   "cell_type": "markdown",
   "id": "b0b2054a",
   "metadata": {},
   "source": [
    "For Analysis and joining purposes we will use the replaced version of the Telcom datasets, to avoid losing rows that might be important during answering questions in the analysis"
   ]
  },
  {
   "cell_type": "markdown",
   "id": "e2d3cf61",
   "metadata": {},
   "source": [
    "#### In the first Data set, we can observe that the DATE_TIME column is entered in the form of time only.We will change the format of the DATE_TIME string so as to match with the other 2 data sets"
   ]
  },
  {
   "cell_type": "code",
   "execution_count": 40,
   "id": "eb8f3d2e",
   "metadata": {},
   "outputs": [
    {
     "data": {
      "text/html": [
       "<div>\n",
       "<style scoped>\n",
       "    .dataframe tbody tr th:only-of-type {\n",
       "        vertical-align: middle;\n",
       "    }\n",
       "\n",
       "    .dataframe tbody tr th {\n",
       "        vertical-align: top;\n",
       "    }\n",
       "\n",
       "    .dataframe thead th {\n",
       "        text-align: right;\n",
       "    }\n",
       "</style>\n",
       "<table border=\"1\" class=\"dataframe\">\n",
       "  <thead>\n",
       "    <tr style=\"text-align: right;\">\n",
       "      <th></th>\n",
       "      <th>PRODUCT</th>\n",
       "      <th>VALUE</th>\n",
       "      <th>DATE_TIME</th>\n",
       "      <th>CELL_ON_SITE</th>\n",
       "      <th>DW_A_NUMBER</th>\n",
       "      <th>DW_B_NUMBER</th>\n",
       "      <th>COUNTRY_A</th>\n",
       "      <th>COUNTRY_B</th>\n",
       "      <th>CELL_ID</th>\n",
       "      <th>SITE_ID</th>\n",
       "    </tr>\n",
       "  </thead>\n",
       "  <tbody>\n",
       "    <tr>\n",
       "      <th>0</th>\n",
       "      <td>Voice</td>\n",
       "      <td>0</td>\n",
       "      <td>2012-05-06 00:04:37.0</td>\n",
       "      <td>1</td>\n",
       "      <td>49fae048b547780</td>\n",
       "      <td>1a49f8b0ded9de6</td>\n",
       "      <td>19e2e</td>\n",
       "      <td>19e2e</td>\n",
       "      <td>/TJNe+Mmtu</td>\n",
       "      <td>/TJNe+Mmtu</td>\n",
       "    </tr>\n",
       "    <tr>\n",
       "      <th>1</th>\n",
       "      <td>sms</td>\n",
       "      <td>0</td>\n",
       "      <td>2012-05-06 00:05:25.0</td>\n",
       "      <td>0</td>\n",
       "      <td>7a54a6eaee19e65</td>\n",
       "      <td>93343ba6e41af95</td>\n",
       "      <td>19e2e</td>\n",
       "      <td>19e2e</td>\n",
       "      <td>/+cKZKIp41</td>\n",
       "      <td>/+cKZKIp41</td>\n",
       "    </tr>\n",
       "    <tr>\n",
       "      <th>2</th>\n",
       "      <td>sms</td>\n",
       "      <td>25</td>\n",
       "      <td>2012-05-06 00:05:41.0</td>\n",
       "      <td>0</td>\n",
       "      <td>6008887b0207d82</td>\n",
       "      <td>7aacc9709ce0a20</td>\n",
       "      <td>19e2e</td>\n",
       "      <td>19e2e</td>\n",
       "      <td>/u0FSD+ahi</td>\n",
       "      <td>/u0FSD+ahi</td>\n",
       "    </tr>\n",
       "    <tr>\n",
       "      <th>3</th>\n",
       "      <td>Voice</td>\n",
       "      <td>56</td>\n",
       "      <td>2012-05-06 00:05:42.0</td>\n",
       "      <td>1</td>\n",
       "      <td>7370032e20f4e96</td>\n",
       "      <td>6af4a60e74c91d3</td>\n",
       "      <td>19e2e</td>\n",
       "      <td>19e2e</td>\n",
       "      <td>#NAME?</td>\n",
       "      <td>#NAME?</td>\n",
       "    </tr>\n",
       "    <tr>\n",
       "      <th>4</th>\n",
       "      <td>Voice</td>\n",
       "      <td>14</td>\n",
       "      <td>2012-05-06 00:06:29.0</td>\n",
       "      <td>1</td>\n",
       "      <td>966ba4656e38e62</td>\n",
       "      <td>02aa736ee555d5c</td>\n",
       "      <td>19e2e</td>\n",
       "      <td>19e2e</td>\n",
       "      <td>051KhYDCpv</td>\n",
       "      <td>051KhYDCpv</td>\n",
       "    </tr>\n",
       "  </tbody>\n",
       "</table>\n",
       "</div>"
      ],
      "text/plain": [
       "  PRODUCT  VALUE              DATE_TIME CELL_ON_SITE      DW_A_NUMBER  \\\n",
       "0   Voice      0  2012-05-06 00:04:37.0            1  49fae048b547780   \n",
       "1     sms      0  2012-05-06 00:05:25.0            0  7a54a6eaee19e65   \n",
       "2     sms     25  2012-05-06 00:05:41.0            0  6008887b0207d82   \n",
       "3   Voice     56  2012-05-06 00:05:42.0            1  7370032e20f4e96   \n",
       "4   Voice     14  2012-05-06 00:06:29.0            1  966ba4656e38e62   \n",
       "\n",
       "       DW_B_NUMBER COUNTRY_A COUNTRY_B     CELL_ID     SITE_ID  \n",
       "0  1a49f8b0ded9de6     19e2e     19e2e  /TJNe+Mmtu  /TJNe+Mmtu  \n",
       "1  93343ba6e41af95     19e2e     19e2e  /+cKZKIp41  /+cKZKIp41  \n",
       "2  7aacc9709ce0a20     19e2e     19e2e  /u0FSD+ahi  /u0FSD+ahi  \n",
       "3  6af4a60e74c91d3     19e2e     19e2e      #NAME?      #NAME?  \n",
       "4  02aa736ee555d5c     19e2e     19e2e  051KhYDCpv  051KhYDCpv  "
      ]
     },
     "execution_count": 40,
     "metadata": {},
     "output_type": "execute_result"
    }
   ],
   "source": [
    "# we will add the string 2012-05-06 to every elemen in the DATE_TIME column of data_telecom_1\n",
    "telcom_replaced_1['DATE_TIME']=telcom_replaced_1['DATE_TIME'].apply(lambda x: \"2012-05-06\"+\" \"+\"00\"+\":\"+x)\n",
    "telcom_replaced_1.head()"
   ]
  },
  {
   "cell_type": "markdown",
   "id": "9d2b76a3",
   "metadata": {},
   "source": [
    "#### Now let us join the 3 telcom data sets using the pandas concat method"
   ]
  },
  {
   "cell_type": "code",
   "execution_count": 41,
   "id": "adcfbd29",
   "metadata": {},
   "outputs": [],
   "source": [
    "Telcom_df=pd.concat([telcom_replaced_1,telcom_replaced_2,telcom_replaced_3], ignore_index=True)"
   ]
  },
  {
   "cell_type": "code",
   "execution_count": 42,
   "id": "8c972ecd",
   "metadata": {},
   "outputs": [
    {
     "data": {
      "text/html": [
       "<div>\n",
       "<style scoped>\n",
       "    .dataframe tbody tr th:only-of-type {\n",
       "        vertical-align: middle;\n",
       "    }\n",
       "\n",
       "    .dataframe tbody tr th {\n",
       "        vertical-align: top;\n",
       "    }\n",
       "\n",
       "    .dataframe thead th {\n",
       "        text-align: right;\n",
       "    }\n",
       "</style>\n",
       "<table border=\"1\" class=\"dataframe\">\n",
       "  <thead>\n",
       "    <tr style=\"text-align: right;\">\n",
       "      <th></th>\n",
       "      <th>PRODUCT</th>\n",
       "      <th>VALUE</th>\n",
       "      <th>DATE_TIME</th>\n",
       "      <th>CELL_ON_SITE</th>\n",
       "      <th>DW_A_NUMBER</th>\n",
       "      <th>DW_B_NUMBER</th>\n",
       "      <th>COUNTRY_A</th>\n",
       "      <th>COUNTRY_B</th>\n",
       "      <th>CELL_ID</th>\n",
       "      <th>SITE_ID</th>\n",
       "    </tr>\n",
       "  </thead>\n",
       "  <tbody>\n",
       "    <tr>\n",
       "      <th>0</th>\n",
       "      <td>Voice</td>\n",
       "      <td>0</td>\n",
       "      <td>2012-05-06 00:04:37.0</td>\n",
       "      <td>1</td>\n",
       "      <td>49fae048b547780</td>\n",
       "      <td>1a49f8b0ded9de6</td>\n",
       "      <td>19e2e</td>\n",
       "      <td>19e2e</td>\n",
       "      <td>/TJNe+Mmtu</td>\n",
       "      <td>/TJNe+Mmtu</td>\n",
       "    </tr>\n",
       "    <tr>\n",
       "      <th>1</th>\n",
       "      <td>sms</td>\n",
       "      <td>0</td>\n",
       "      <td>2012-05-06 00:05:25.0</td>\n",
       "      <td>0</td>\n",
       "      <td>7a54a6eaee19e65</td>\n",
       "      <td>93343ba6e41af95</td>\n",
       "      <td>19e2e</td>\n",
       "      <td>19e2e</td>\n",
       "      <td>/+cKZKIp41</td>\n",
       "      <td>/+cKZKIp41</td>\n",
       "    </tr>\n",
       "    <tr>\n",
       "      <th>2</th>\n",
       "      <td>sms</td>\n",
       "      <td>25</td>\n",
       "      <td>2012-05-06 00:05:41.0</td>\n",
       "      <td>0</td>\n",
       "      <td>6008887b0207d82</td>\n",
       "      <td>7aacc9709ce0a20</td>\n",
       "      <td>19e2e</td>\n",
       "      <td>19e2e</td>\n",
       "      <td>/u0FSD+ahi</td>\n",
       "      <td>/u0FSD+ahi</td>\n",
       "    </tr>\n",
       "    <tr>\n",
       "      <th>3</th>\n",
       "      <td>Voice</td>\n",
       "      <td>56</td>\n",
       "      <td>2012-05-06 00:05:42.0</td>\n",
       "      <td>1</td>\n",
       "      <td>7370032e20f4e96</td>\n",
       "      <td>6af4a60e74c91d3</td>\n",
       "      <td>19e2e</td>\n",
       "      <td>19e2e</td>\n",
       "      <td>#NAME?</td>\n",
       "      <td>#NAME?</td>\n",
       "    </tr>\n",
       "    <tr>\n",
       "      <th>4</th>\n",
       "      <td>Voice</td>\n",
       "      <td>14</td>\n",
       "      <td>2012-05-06 00:06:29.0</td>\n",
       "      <td>1</td>\n",
       "      <td>966ba4656e38e62</td>\n",
       "      <td>02aa736ee555d5c</td>\n",
       "      <td>19e2e</td>\n",
       "      <td>19e2e</td>\n",
       "      <td>051KhYDCpv</td>\n",
       "      <td>051KhYDCpv</td>\n",
       "    </tr>\n",
       "  </tbody>\n",
       "</table>\n",
       "</div>"
      ],
      "text/plain": [
       "  PRODUCT  VALUE              DATE_TIME CELL_ON_SITE      DW_A_NUMBER  \\\n",
       "0   Voice      0  2012-05-06 00:04:37.0            1  49fae048b547780   \n",
       "1     sms      0  2012-05-06 00:05:25.0            0  7a54a6eaee19e65   \n",
       "2     sms     25  2012-05-06 00:05:41.0            0  6008887b0207d82   \n",
       "3   Voice     56  2012-05-06 00:05:42.0            1  7370032e20f4e96   \n",
       "4   Voice     14  2012-05-06 00:06:29.0            1  966ba4656e38e62   \n",
       "\n",
       "       DW_B_NUMBER COUNTRY_A COUNTRY_B     CELL_ID     SITE_ID  \n",
       "0  1a49f8b0ded9de6     19e2e     19e2e  /TJNe+Mmtu  /TJNe+Mmtu  \n",
       "1  93343ba6e41af95     19e2e     19e2e  /+cKZKIp41  /+cKZKIp41  \n",
       "2  7aacc9709ce0a20     19e2e     19e2e  /u0FSD+ahi  /u0FSD+ahi  \n",
       "3  6af4a60e74c91d3     19e2e     19e2e      #NAME?      #NAME?  \n",
       "4  02aa736ee555d5c     19e2e     19e2e  051KhYDCpv  051KhYDCpv  "
      ]
     },
     "execution_count": 42,
     "metadata": {},
     "output_type": "execute_result"
    }
   ],
   "source": [
    "Telcom_df.head()"
   ]
  },
  {
   "cell_type": "code",
   "execution_count": 43,
   "id": "a94b6079",
   "metadata": {},
   "outputs": [
    {
     "data": {
      "text/html": [
       "<div>\n",
       "<style scoped>\n",
       "    .dataframe tbody tr th:only-of-type {\n",
       "        vertical-align: middle;\n",
       "    }\n",
       "\n",
       "    .dataframe tbody tr th {\n",
       "        vertical-align: top;\n",
       "    }\n",
       "\n",
       "    .dataframe thead th {\n",
       "        text-align: right;\n",
       "    }\n",
       "</style>\n",
       "<table border=\"1\" class=\"dataframe\">\n",
       "  <thead>\n",
       "    <tr style=\"text-align: right;\">\n",
       "      <th></th>\n",
       "      <th>PRODUCT</th>\n",
       "      <th>VALUE</th>\n",
       "      <th>DATE_TIME</th>\n",
       "      <th>CELL_ON_SITE</th>\n",
       "      <th>DW_A_NUMBER</th>\n",
       "      <th>DW_B_NUMBER</th>\n",
       "      <th>COUNTRY_A</th>\n",
       "      <th>COUNTRY_B</th>\n",
       "      <th>CELL_ID</th>\n",
       "      <th>SITE_ID</th>\n",
       "    </tr>\n",
       "  </thead>\n",
       "  <tbody>\n",
       "    <tr>\n",
       "      <th>14745</th>\n",
       "      <td>Voice</td>\n",
       "      <td>10</td>\n",
       "      <td>2012-05-09 00:01:43.0</td>\n",
       "      <td>0</td>\n",
       "      <td>2f834987f0c1825</td>\n",
       "      <td>accc8e5c1164343</td>\n",
       "      <td>19e2e</td>\n",
       "      <td>OTHER</td>\n",
       "      <td>6467daa1db</td>\n",
       "      <td>8a96bae9c1</td>\n",
       "    </tr>\n",
       "    <tr>\n",
       "      <th>14746</th>\n",
       "      <td>Voice</td>\n",
       "      <td>0</td>\n",
       "      <td>2012-05-09 00:01:43.0</td>\n",
       "      <td>3</td>\n",
       "      <td>467333ade2b4b9c</td>\n",
       "      <td>0ab2acd804d01fe</td>\n",
       "      <td>19e2e</td>\n",
       "      <td>19e2e</td>\n",
       "      <td>2aa04dcab7</td>\n",
       "      <td>f7d63a29e5</td>\n",
       "    </tr>\n",
       "    <tr>\n",
       "      <th>14747</th>\n",
       "      <td>Voice</td>\n",
       "      <td>62</td>\n",
       "      <td>2012-05-09 00:01:43.0</td>\n",
       "      <td>1</td>\n",
       "      <td>e077a6b74c5053c</td>\n",
       "      <td>4c8098eb6ea1a41</td>\n",
       "      <td>19e2e</td>\n",
       "      <td>19e2e</td>\n",
       "      <td>7f1f2f889f</td>\n",
       "      <td>b4ddb9e93c</td>\n",
       "    </tr>\n",
       "    <tr>\n",
       "      <th>14748</th>\n",
       "      <td>Voice</td>\n",
       "      <td>30</td>\n",
       "      <td>2012-05-09 00:01:43.0</td>\n",
       "      <td>2</td>\n",
       "      <td>672ce74c418aa7a</td>\n",
       "      <td>f9ff5af59cf0d68</td>\n",
       "      <td>19e2e</td>\n",
       "      <td>19e2e</td>\n",
       "      <td>98ed726da2</td>\n",
       "      <td>b4130b54ab</td>\n",
       "    </tr>\n",
       "    <tr>\n",
       "      <th>14749</th>\n",
       "      <td>Voice</td>\n",
       "      <td>60</td>\n",
       "      <td>2012-05-09 00:01:43.0</td>\n",
       "      <td>2</td>\n",
       "      <td>6edeb4c55714650</td>\n",
       "      <td>7e60838216482a7</td>\n",
       "      <td>19e2e</td>\n",
       "      <td>19e2e</td>\n",
       "      <td>1c11a2fcbb</td>\n",
       "      <td>6d70dae094</td>\n",
       "    </tr>\n",
       "  </tbody>\n",
       "</table>\n",
       "</div>"
      ],
      "text/plain": [
       "      PRODUCT  VALUE              DATE_TIME CELL_ON_SITE      DW_A_NUMBER  \\\n",
       "14745   Voice     10  2012-05-09 00:01:43.0            0  2f834987f0c1825   \n",
       "14746   Voice      0  2012-05-09 00:01:43.0            3  467333ade2b4b9c   \n",
       "14747   Voice     62  2012-05-09 00:01:43.0            1  e077a6b74c5053c   \n",
       "14748   Voice     30  2012-05-09 00:01:43.0            2  672ce74c418aa7a   \n",
       "14749   Voice     60  2012-05-09 00:01:43.0            2  6edeb4c55714650   \n",
       "\n",
       "           DW_B_NUMBER COUNTRY_A COUNTRY_B     CELL_ID     SITE_ID  \n",
       "14745  accc8e5c1164343     19e2e     OTHER  6467daa1db  8a96bae9c1  \n",
       "14746  0ab2acd804d01fe     19e2e     19e2e  2aa04dcab7  f7d63a29e5  \n",
       "14747  4c8098eb6ea1a41     19e2e     19e2e  7f1f2f889f  b4ddb9e93c  \n",
       "14748  f9ff5af59cf0d68     19e2e     19e2e  98ed726da2  b4130b54ab  \n",
       "14749  7e60838216482a7     19e2e     19e2e  1c11a2fcbb  6d70dae094  "
      ]
     },
     "execution_count": 43,
     "metadata": {},
     "output_type": "execute_result"
    }
   ],
   "source": [
    "Telcom_df.tail()"
   ]
  },
  {
   "cell_type": "code",
   "execution_count": 44,
   "id": "7fdf87f2",
   "metadata": {},
   "outputs": [
    {
     "data": {
      "text/plain": [
       "'2012-05-08 23:37:51.0'"
      ]
     },
     "execution_count": 44,
     "metadata": {},
     "output_type": "execute_result"
    }
   ],
   "source": [
    "Telcom_df['DATE_TIME'].iloc[10097]"
   ]
  },
  {
   "cell_type": "code",
   "execution_count": 45,
   "id": "d3e4745b",
   "metadata": {},
   "outputs": [
    {
     "name": "stdout",
     "output_type": "stream",
     "text": [
      "<class 'pandas.core.frame.DataFrame'>\n",
      "RangeIndex: 14750 entries, 0 to 14749\n",
      "Data columns (total 10 columns):\n",
      " #   Column        Non-Null Count  Dtype \n",
      "---  ------        --------------  ----- \n",
      " 0   PRODUCT       14750 non-null  object\n",
      " 1   VALUE         14750 non-null  int64 \n",
      " 2   DATE_TIME     14750 non-null  object\n",
      " 3   CELL_ON_SITE  14750 non-null  object\n",
      " 4   DW_A_NUMBER   14750 non-null  object\n",
      " 5   DW_B_NUMBER   14750 non-null  object\n",
      " 6   COUNTRY_A     14750 non-null  object\n",
      " 7   COUNTRY_B     14750 non-null  object\n",
      " 8   CELL_ID       14750 non-null  object\n",
      " 9   SITE_ID       14750 non-null  object\n",
      "dtypes: int64(1), object(9)\n",
      "memory usage: 1.1+ MB\n"
     ]
    }
   ],
   "source": [
    "Telcom_df.info()"
   ]
  },
  {
   "cell_type": "code",
   "execution_count": 46,
   "id": "dc2a1527",
   "metadata": {},
   "outputs": [
    {
     "data": {
      "text/plain": [
       "(14750, 10)"
      ]
     },
     "execution_count": 46,
     "metadata": {},
     "output_type": "execute_result"
    }
   ],
   "source": [
    "Telcom_df.shape"
   ]
  },
  {
   "cell_type": "markdown",
   "id": "81f58efb",
   "metadata": {},
   "source": [
    "3.Handling Outliers"
   ]
  },
  {
   "cell_type": "markdown",
   "id": "8dce9777",
   "metadata": {},
   "source": [
    "We will handle outliers using two methods i.e IQR and the Z-score Method.. "
   ]
  },
  {
   "cell_type": "code",
   "execution_count": 47,
   "id": "7a46334b",
   "metadata": {},
   "outputs": [
    {
     "data": {
      "text/html": [
       "<div>\n",
       "<style scoped>\n",
       "    .dataframe tbody tr th:only-of-type {\n",
       "        vertical-align: middle;\n",
       "    }\n",
       "\n",
       "    .dataframe tbody tr th {\n",
       "        vertical-align: top;\n",
       "    }\n",
       "\n",
       "    .dataframe thead th {\n",
       "        text-align: right;\n",
       "    }\n",
       "</style>\n",
       "<table border=\"1\" class=\"dataframe\">\n",
       "  <thead>\n",
       "    <tr style=\"text-align: right;\">\n",
       "      <th></th>\n",
       "      <th>VALUE</th>\n",
       "    </tr>\n",
       "  </thead>\n",
       "  <tbody>\n",
       "    <tr>\n",
       "      <th>count</th>\n",
       "      <td>14750.000000</td>\n",
       "    </tr>\n",
       "    <tr>\n",
       "      <th>mean</th>\n",
       "      <td>25.517153</td>\n",
       "    </tr>\n",
       "    <tr>\n",
       "      <th>std</th>\n",
       "      <td>153.573705</td>\n",
       "    </tr>\n",
       "    <tr>\n",
       "      <th>min</th>\n",
       "      <td>0.000000</td>\n",
       "    </tr>\n",
       "    <tr>\n",
       "      <th>25%</th>\n",
       "      <td>0.000000</td>\n",
       "    </tr>\n",
       "    <tr>\n",
       "      <th>50%</th>\n",
       "      <td>0.000000</td>\n",
       "    </tr>\n",
       "    <tr>\n",
       "      <th>75%</th>\n",
       "      <td>25.000000</td>\n",
       "    </tr>\n",
       "    <tr>\n",
       "      <th>max</th>\n",
       "      <td>12900.000000</td>\n",
       "    </tr>\n",
       "  </tbody>\n",
       "</table>\n",
       "</div>"
      ],
      "text/plain": [
       "              VALUE\n",
       "count  14750.000000\n",
       "mean      25.517153\n",
       "std      153.573705\n",
       "min        0.000000\n",
       "25%        0.000000\n",
       "50%        0.000000\n",
       "75%       25.000000\n",
       "max    12900.000000"
      ]
     },
     "execution_count": 47,
     "metadata": {},
     "output_type": "execute_result"
    }
   ],
   "source": [
    "#This will give us a summary of quantitative columns in the data set. This will enable us to decide which columns to handle outliers for\n",
    "Telcom_df.describe()"
   ]
  },
  {
   "cell_type": "markdown",
   "id": "b3186615",
   "metadata": {},
   "source": [
    "From the above the value column is the only quantitave column. Let us handle outliers for the value column"
   ]
  },
  {
   "cell_type": "markdown",
   "id": "62fd28e6",
   "metadata": {},
   "source": [
    "#### 1. IQR METHOD"
   ]
  },
  {
   "cell_type": "markdown",
   "id": "4ab759e9",
   "metadata": {},
   "source": [
    "Let us establish the lower and upper bound for our outliers range:\n",
    "\n",
    "THE IQR METHOD\n",
    "\n",
    "lower_bound = q1 -(1.5 * iqr)\n",
    "\n",
    "upper_bound = q3 +(1.5 * iqr) "
   ]
  },
  {
   "cell_type": "code",
   "execution_count": 48,
   "id": "4c0b3bde",
   "metadata": {},
   "outputs": [
    {
     "name": "stdout",
     "output_type": "stream",
     "text": [
      "-37.5\n",
      "62.5\n"
     ]
    }
   ],
   "source": [
    "#LOWER AND UPPER BOUND FOR THE MERGED DATA\n",
    "iqr=25.00-0.00\n",
    "lower=0.00-(1.5*iqr)\n",
    "upper=25.00+(1.5*iqr)\n",
    "\n",
    "print(lower)\n",
    "print(upper)"
   ]
  },
  {
   "cell_type": "markdown",
   "id": "df34cf66",
   "metadata": {},
   "source": [
    "Therefore anything above 62.5 in our value column is an outlier and should be removed. The q1(lower quartile) and the q3(upper quartile) values are from the describe method. (25% and 75%)"
   ]
  },
  {
   "cell_type": "code",
   "execution_count": 49,
   "id": "dbbb1e9d",
   "metadata": {},
   "outputs": [],
   "source": [
    "def iqr_method(data, var):\n",
    "    q1=data[[var]].describe().loc['25%',var]\n",
    "    q3=data[[var]].describe().loc['75%',var]\n",
    "    iqr=q3-q1\n",
    "    #upper bound\n",
    "    upper=q3+iqr*1.5\n",
    "    upper_idx=data[data[var]>=upper][var].index.tolist()\n",
    "    #lower bound\n",
    "    lower=q1-iqr*1.5\n",
    "    lower_idx=data[data[var]<=lower][var].index.tolist()\n",
    "    outlier_list=lower_idx+upper_idx\n",
    "    data_new=data.copy()\n",
    "    data_new.drop(outlier_list, inplace=True)\n",
    "    return data_new"
   ]
  },
  {
   "cell_type": "code",
   "execution_count": 50,
   "id": "df792783",
   "metadata": {},
   "outputs": [],
   "source": [
    "Telcom_iqr=iqr_method(Telcom_df, 'VALUE')"
   ]
  },
  {
   "cell_type": "code",
   "execution_count": 51,
   "id": "f551ee5f",
   "metadata": {},
   "outputs": [
    {
     "name": "stdout",
     "output_type": "stream",
     "text": [
      "shape of dataframe before removing outliers is (14750, 10)\n",
      "\n",
      "shape of dataframe after removing outliers is (13539, 10)\n"
     ]
    }
   ],
   "source": [
    "print(\"shape of dataframe before removing outliers is {}\\n\".format(Telcom_df.shape))\n",
    "print(\"shape of dataframe after removing outliers is {}\".format(Telcom_iqr.shape))"
   ]
  },
  {
   "cell_type": "markdown",
   "id": "73839846",
   "metadata": {},
   "source": [
    "#### 2.     Z-SCORE METHOD"
   ]
  },
  {
   "cell_type": "code",
   "execution_count": 52,
   "id": "e84c233e",
   "metadata": {},
   "outputs": [],
   "source": [
    "def z_score(data, var):\n",
    "    threshold=3\n",
    "    mean=data[var].mean()\n",
    "    std=data[var].std()\n",
    "    data['score']=data[var].apply(lambda x: abs((x-mean)/std))\n",
    "    data_new=data.copy()\n",
    "    data_new_filt=data_new[data_new['score']<=threshold]\n",
    "    data_new_filt.drop(['score'], axis=1, inplace=True)\n",
    "    return data_new_filt"
   ]
  },
  {
   "cell_type": "code",
   "execution_count": 53,
   "id": "a6650fe0",
   "metadata": {},
   "outputs": [
    {
     "name": "stderr",
     "output_type": "stream",
     "text": [
      "C:\\Users\\25470\\anaconda3\\lib\\site-packages\\pandas\\core\\frame.py:4308: SettingWithCopyWarning: \n",
      "A value is trying to be set on a copy of a slice from a DataFrame\n",
      "\n",
      "See the caveats in the documentation: https://pandas.pydata.org/pandas-docs/stable/user_guide/indexing.html#returning-a-view-versus-a-copy\n",
      "  return super().drop(\n"
     ]
    }
   ],
   "source": [
    "Telcom_Z=z_score(Telcom_df, 'VALUE')"
   ]
  },
  {
   "cell_type": "code",
   "execution_count": 54,
   "id": "a1f50130",
   "metadata": {},
   "outputs": [
    {
     "name": "stdout",
     "output_type": "stream",
     "text": [
      "shape of dataframe before removing outliers is (14750, 11)\n",
      "\n",
      "shape of dataframe after removing outliers is (14685, 10)\n"
     ]
    }
   ],
   "source": [
    "print(\"shape of dataframe before removing outliers is {}\\n\".format(Telcom_df.shape))\n",
    "print(\"shape of dataframe after removing outliers is {}\".format(Telcom_Z.shape))"
   ]
  },
  {
   "cell_type": "markdown",
   "id": "2e81e5c5",
   "metadata": {},
   "source": [
    " Since the IQR upper bound is relatively small with respect to our data, we will use the Z-score method to handle our outliers"
   ]
  },
  {
   "cell_type": "code",
   "execution_count": 55,
   "id": "abf1e6dc",
   "metadata": {},
   "outputs": [],
   "source": [
    "\n",
    "Telcom_df_new=Telcom_Z.copy()"
   ]
  },
  {
   "cell_type": "code",
   "execution_count": 56,
   "id": "9943c503",
   "metadata": {},
   "outputs": [
    {
     "data": {
      "text/html": [
       "<div>\n",
       "<style scoped>\n",
       "    .dataframe tbody tr th:only-of-type {\n",
       "        vertical-align: middle;\n",
       "    }\n",
       "\n",
       "    .dataframe tbody tr th {\n",
       "        vertical-align: top;\n",
       "    }\n",
       "\n",
       "    .dataframe thead th {\n",
       "        text-align: right;\n",
       "    }\n",
       "</style>\n",
       "<table border=\"1\" class=\"dataframe\">\n",
       "  <thead>\n",
       "    <tr style=\"text-align: right;\">\n",
       "      <th></th>\n",
       "      <th>PRODUCT</th>\n",
       "      <th>VALUE</th>\n",
       "      <th>DATE_TIME</th>\n",
       "      <th>CELL_ON_SITE</th>\n",
       "      <th>DW_A_NUMBER</th>\n",
       "      <th>DW_B_NUMBER</th>\n",
       "      <th>COUNTRY_A</th>\n",
       "      <th>COUNTRY_B</th>\n",
       "      <th>CELL_ID</th>\n",
       "      <th>SITE_ID</th>\n",
       "    </tr>\n",
       "  </thead>\n",
       "  <tbody>\n",
       "    <tr>\n",
       "      <th>0</th>\n",
       "      <td>Voice</td>\n",
       "      <td>0</td>\n",
       "      <td>2012-05-06 00:04:37.0</td>\n",
       "      <td>1</td>\n",
       "      <td>49fae048b547780</td>\n",
       "      <td>1a49f8b0ded9de6</td>\n",
       "      <td>19e2e</td>\n",
       "      <td>19e2e</td>\n",
       "      <td>/TJNe+Mmtu</td>\n",
       "      <td>/TJNe+Mmtu</td>\n",
       "    </tr>\n",
       "    <tr>\n",
       "      <th>1</th>\n",
       "      <td>sms</td>\n",
       "      <td>0</td>\n",
       "      <td>2012-05-06 00:05:25.0</td>\n",
       "      <td>0</td>\n",
       "      <td>7a54a6eaee19e65</td>\n",
       "      <td>93343ba6e41af95</td>\n",
       "      <td>19e2e</td>\n",
       "      <td>19e2e</td>\n",
       "      <td>/+cKZKIp41</td>\n",
       "      <td>/+cKZKIp41</td>\n",
       "    </tr>\n",
       "    <tr>\n",
       "      <th>2</th>\n",
       "      <td>sms</td>\n",
       "      <td>25</td>\n",
       "      <td>2012-05-06 00:05:41.0</td>\n",
       "      <td>0</td>\n",
       "      <td>6008887b0207d82</td>\n",
       "      <td>7aacc9709ce0a20</td>\n",
       "      <td>19e2e</td>\n",
       "      <td>19e2e</td>\n",
       "      <td>/u0FSD+ahi</td>\n",
       "      <td>/u0FSD+ahi</td>\n",
       "    </tr>\n",
       "    <tr>\n",
       "      <th>3</th>\n",
       "      <td>Voice</td>\n",
       "      <td>56</td>\n",
       "      <td>2012-05-06 00:05:42.0</td>\n",
       "      <td>1</td>\n",
       "      <td>7370032e20f4e96</td>\n",
       "      <td>6af4a60e74c91d3</td>\n",
       "      <td>19e2e</td>\n",
       "      <td>19e2e</td>\n",
       "      <td>#NAME?</td>\n",
       "      <td>#NAME?</td>\n",
       "    </tr>\n",
       "    <tr>\n",
       "      <th>4</th>\n",
       "      <td>Voice</td>\n",
       "      <td>14</td>\n",
       "      <td>2012-05-06 00:06:29.0</td>\n",
       "      <td>1</td>\n",
       "      <td>966ba4656e38e62</td>\n",
       "      <td>02aa736ee555d5c</td>\n",
       "      <td>19e2e</td>\n",
       "      <td>19e2e</td>\n",
       "      <td>051KhYDCpv</td>\n",
       "      <td>051KhYDCpv</td>\n",
       "    </tr>\n",
       "  </tbody>\n",
       "</table>\n",
       "</div>"
      ],
      "text/plain": [
       "  PRODUCT  VALUE              DATE_TIME CELL_ON_SITE      DW_A_NUMBER  \\\n",
       "0   Voice      0  2012-05-06 00:04:37.0            1  49fae048b547780   \n",
       "1     sms      0  2012-05-06 00:05:25.0            0  7a54a6eaee19e65   \n",
       "2     sms     25  2012-05-06 00:05:41.0            0  6008887b0207d82   \n",
       "3   Voice     56  2012-05-06 00:05:42.0            1  7370032e20f4e96   \n",
       "4   Voice     14  2012-05-06 00:06:29.0            1  966ba4656e38e62   \n",
       "\n",
       "       DW_B_NUMBER COUNTRY_A COUNTRY_B     CELL_ID     SITE_ID  \n",
       "0  1a49f8b0ded9de6     19e2e     19e2e  /TJNe+Mmtu  /TJNe+Mmtu  \n",
       "1  93343ba6e41af95     19e2e     19e2e  /+cKZKIp41  /+cKZKIp41  \n",
       "2  7aacc9709ce0a20     19e2e     19e2e  /u0FSD+ahi  /u0FSD+ahi  \n",
       "3  6af4a60e74c91d3     19e2e     19e2e      #NAME?      #NAME?  \n",
       "4  02aa736ee555d5c     19e2e     19e2e  051KhYDCpv  051KhYDCpv  "
      ]
     },
     "execution_count": 56,
     "metadata": {},
     "output_type": "execute_result"
    }
   ],
   "source": [
    "Telcom_df_new.head()"
   ]
  },
  {
   "cell_type": "code",
   "execution_count": 57,
   "id": "1b688825",
   "metadata": {},
   "outputs": [
    {
     "data": {
      "text/html": [
       "<div>\n",
       "<style scoped>\n",
       "    .dataframe tbody tr th:only-of-type {\n",
       "        vertical-align: middle;\n",
       "    }\n",
       "\n",
       "    .dataframe tbody tr th {\n",
       "        vertical-align: top;\n",
       "    }\n",
       "\n",
       "    .dataframe thead th {\n",
       "        text-align: right;\n",
       "    }\n",
       "</style>\n",
       "<table border=\"1\" class=\"dataframe\">\n",
       "  <thead>\n",
       "    <tr style=\"text-align: right;\">\n",
       "      <th></th>\n",
       "      <th>VALUE</th>\n",
       "    </tr>\n",
       "  </thead>\n",
       "  <tbody>\n",
       "    <tr>\n",
       "      <th>count</th>\n",
       "      <td>14685.000000</td>\n",
       "    </tr>\n",
       "    <tr>\n",
       "      <th>mean</th>\n",
       "      <td>19.822812</td>\n",
       "    </tr>\n",
       "    <tr>\n",
       "      <th>std</th>\n",
       "      <td>46.449689</td>\n",
       "    </tr>\n",
       "    <tr>\n",
       "      <th>min</th>\n",
       "      <td>0.000000</td>\n",
       "    </tr>\n",
       "    <tr>\n",
       "      <th>25%</th>\n",
       "      <td>0.000000</td>\n",
       "    </tr>\n",
       "    <tr>\n",
       "      <th>50%</th>\n",
       "      <td>0.000000</td>\n",
       "    </tr>\n",
       "    <tr>\n",
       "      <th>75%</th>\n",
       "      <td>25.000000</td>\n",
       "    </tr>\n",
       "    <tr>\n",
       "      <th>max</th>\n",
       "      <td>484.000000</td>\n",
       "    </tr>\n",
       "  </tbody>\n",
       "</table>\n",
       "</div>"
      ],
      "text/plain": [
       "              VALUE\n",
       "count  14685.000000\n",
       "mean      19.822812\n",
       "std       46.449689\n",
       "min        0.000000\n",
       "25%        0.000000\n",
       "50%        0.000000\n",
       "75%       25.000000\n",
       "max      484.000000"
      ]
     },
     "execution_count": 57,
     "metadata": {},
     "output_type": "execute_result"
    }
   ],
   "source": [
    "Telcom_df_new.describe()"
   ]
  },
  {
   "cell_type": "code",
   "execution_count": 58,
   "id": "a5ac8da6",
   "metadata": {},
   "outputs": [
    {
     "data": {
      "text/plain": [
       "(14685, 10)"
      ]
     },
     "execution_count": 58,
     "metadata": {},
     "output_type": "execute_result"
    }
   ],
   "source": [
    "Telcom_df_new.shape"
   ]
  },
  {
   "cell_type": "code",
   "execution_count": 59,
   "id": "170833c9",
   "metadata": {},
   "outputs": [
    {
     "data": {
      "text/html": [
       "<div>\n",
       "<style scoped>\n",
       "    .dataframe tbody tr th:only-of-type {\n",
       "        vertical-align: middle;\n",
       "    }\n",
       "\n",
       "    .dataframe tbody tr th {\n",
       "        vertical-align: top;\n",
       "    }\n",
       "\n",
       "    .dataframe thead th {\n",
       "        text-align: right;\n",
       "    }\n",
       "</style>\n",
       "<table border=\"1\" class=\"dataframe\">\n",
       "  <thead>\n",
       "    <tr style=\"text-align: right;\">\n",
       "      <th></th>\n",
       "      <th>PRODUCT</th>\n",
       "      <th>VALUE</th>\n",
       "      <th>DATE_TIME</th>\n",
       "      <th>CELL_ON_SITE</th>\n",
       "      <th>DW_A_NUMBER</th>\n",
       "      <th>DW_B_NUMBER</th>\n",
       "      <th>COUNTRY_A</th>\n",
       "      <th>COUNTRY_B</th>\n",
       "      <th>CELL_ID</th>\n",
       "      <th>SITE_ID</th>\n",
       "    </tr>\n",
       "  </thead>\n",
       "  <tbody>\n",
       "    <tr>\n",
       "      <th>14745</th>\n",
       "      <td>Voice</td>\n",
       "      <td>10</td>\n",
       "      <td>2012-05-09 00:01:43.0</td>\n",
       "      <td>0</td>\n",
       "      <td>2f834987f0c1825</td>\n",
       "      <td>accc8e5c1164343</td>\n",
       "      <td>19e2e</td>\n",
       "      <td>OTHER</td>\n",
       "      <td>6467daa1db</td>\n",
       "      <td>8a96bae9c1</td>\n",
       "    </tr>\n",
       "    <tr>\n",
       "      <th>14746</th>\n",
       "      <td>Voice</td>\n",
       "      <td>0</td>\n",
       "      <td>2012-05-09 00:01:43.0</td>\n",
       "      <td>3</td>\n",
       "      <td>467333ade2b4b9c</td>\n",
       "      <td>0ab2acd804d01fe</td>\n",
       "      <td>19e2e</td>\n",
       "      <td>19e2e</td>\n",
       "      <td>2aa04dcab7</td>\n",
       "      <td>f7d63a29e5</td>\n",
       "    </tr>\n",
       "    <tr>\n",
       "      <th>14747</th>\n",
       "      <td>Voice</td>\n",
       "      <td>62</td>\n",
       "      <td>2012-05-09 00:01:43.0</td>\n",
       "      <td>1</td>\n",
       "      <td>e077a6b74c5053c</td>\n",
       "      <td>4c8098eb6ea1a41</td>\n",
       "      <td>19e2e</td>\n",
       "      <td>19e2e</td>\n",
       "      <td>7f1f2f889f</td>\n",
       "      <td>b4ddb9e93c</td>\n",
       "    </tr>\n",
       "    <tr>\n",
       "      <th>14748</th>\n",
       "      <td>Voice</td>\n",
       "      <td>30</td>\n",
       "      <td>2012-05-09 00:01:43.0</td>\n",
       "      <td>2</td>\n",
       "      <td>672ce74c418aa7a</td>\n",
       "      <td>f9ff5af59cf0d68</td>\n",
       "      <td>19e2e</td>\n",
       "      <td>19e2e</td>\n",
       "      <td>98ed726da2</td>\n",
       "      <td>b4130b54ab</td>\n",
       "    </tr>\n",
       "    <tr>\n",
       "      <th>14749</th>\n",
       "      <td>Voice</td>\n",
       "      <td>60</td>\n",
       "      <td>2012-05-09 00:01:43.0</td>\n",
       "      <td>2</td>\n",
       "      <td>6edeb4c55714650</td>\n",
       "      <td>7e60838216482a7</td>\n",
       "      <td>19e2e</td>\n",
       "      <td>19e2e</td>\n",
       "      <td>1c11a2fcbb</td>\n",
       "      <td>6d70dae094</td>\n",
       "    </tr>\n",
       "  </tbody>\n",
       "</table>\n",
       "</div>"
      ],
      "text/plain": [
       "      PRODUCT  VALUE              DATE_TIME CELL_ON_SITE      DW_A_NUMBER  \\\n",
       "14745   Voice     10  2012-05-09 00:01:43.0            0  2f834987f0c1825   \n",
       "14746   Voice      0  2012-05-09 00:01:43.0            3  467333ade2b4b9c   \n",
       "14747   Voice     62  2012-05-09 00:01:43.0            1  e077a6b74c5053c   \n",
       "14748   Voice     30  2012-05-09 00:01:43.0            2  672ce74c418aa7a   \n",
       "14749   Voice     60  2012-05-09 00:01:43.0            2  6edeb4c55714650   \n",
       "\n",
       "           DW_B_NUMBER COUNTRY_A COUNTRY_B     CELL_ID     SITE_ID  \n",
       "14745  accc8e5c1164343     19e2e     OTHER  6467daa1db  8a96bae9c1  \n",
       "14746  0ab2acd804d01fe     19e2e     19e2e  2aa04dcab7  f7d63a29e5  \n",
       "14747  4c8098eb6ea1a41     19e2e     19e2e  7f1f2f889f  b4ddb9e93c  \n",
       "14748  f9ff5af59cf0d68     19e2e     19e2e  98ed726da2  b4130b54ab  \n",
       "14749  7e60838216482a7     19e2e     19e2e  1c11a2fcbb  6d70dae094  "
      ]
     },
     "execution_count": 59,
     "metadata": {},
     "output_type": "execute_result"
    }
   ],
   "source": [
    "Telcom_df_new.tail()"
   ]
  },
  {
   "cell_type": "code",
   "execution_count": 60,
   "id": "344b822e",
   "metadata": {},
   "outputs": [
    {
     "data": {
      "text/plain": [
       "'2012-05-08 23:40:51.0'"
      ]
     },
     "execution_count": 60,
     "metadata": {},
     "output_type": "execute_result"
    }
   ],
   "source": [
    "Telcom_df_new['DATE_TIME'].iloc[10097]"
   ]
  },
  {
   "cell_type": "markdown",
   "id": "89dcafa4",
   "metadata": {},
   "source": [
    "<font color='red'><h1>3. GEO DATA AND TELCOM DATA PREPARATION</h1></font>"
   ]
  },
  {
   "cell_type": "markdown",
   "id": "eae8e46f",
   "metadata": {},
   "source": [
    "#### MERGING GEO DATA WITH THE TELCOM DATA"
   ]
  },
  {
   "cell_type": "markdown",
   "id": "501a180a",
   "metadata": {},
   "source": [
    "The two datasets have a column in common(Site).This column will be used to merge the data sets and enable us to work with one data set."
   ]
  },
  {
   "cell_type": "code",
   "execution_count": 61,
   "id": "06239ac2",
   "metadata": {},
   "outputs": [],
   "source": [
    "#let us now merge the geo data and the telcom_df_new data on site_code column\n",
    "data_merged=Telcom_df_new.merge(geo_replaced, how='left',left_on='SITE_ID', right_on='SITE_CODE')"
   ]
  },
  {
   "cell_type": "code",
   "execution_count": 62,
   "id": "6bd4d46e",
   "metadata": {},
   "outputs": [
    {
     "data": {
      "text/html": [
       "<div>\n",
       "<style scoped>\n",
       "    .dataframe tbody tr th:only-of-type {\n",
       "        vertical-align: middle;\n",
       "    }\n",
       "\n",
       "    .dataframe tbody tr th {\n",
       "        vertical-align: top;\n",
       "    }\n",
       "\n",
       "    .dataframe thead th {\n",
       "        text-align: right;\n",
       "    }\n",
       "</style>\n",
       "<table border=\"1\" class=\"dataframe\">\n",
       "  <thead>\n",
       "    <tr style=\"text-align: right;\">\n",
       "      <th></th>\n",
       "      <th>PRODUCT</th>\n",
       "      <th>VALUE</th>\n",
       "      <th>DATE_TIME</th>\n",
       "      <th>CELL_ON_SITE</th>\n",
       "      <th>DW_A_NUMBER</th>\n",
       "      <th>DW_B_NUMBER</th>\n",
       "      <th>COUNTRY_A</th>\n",
       "      <th>COUNTRY_B</th>\n",
       "      <th>CELL_ID_x</th>\n",
       "      <th>SITE_ID</th>\n",
       "      <th>...</th>\n",
       "      <th>STATUS</th>\n",
       "      <th>LOCALISATION</th>\n",
       "      <th>DECOUPZONE</th>\n",
       "      <th>ZONENAME</th>\n",
       "      <th>LONGITUDE</th>\n",
       "      <th>LATITUDE</th>\n",
       "      <th>REGION</th>\n",
       "      <th>AREA</th>\n",
       "      <th>CELL_ID_y</th>\n",
       "      <th>SITE_CODE</th>\n",
       "    </tr>\n",
       "  </thead>\n",
       "  <tbody>\n",
       "    <tr>\n",
       "      <th>0</th>\n",
       "      <td>Voice</td>\n",
       "      <td>0</td>\n",
       "      <td>2012-05-06 00:04:37.0</td>\n",
       "      <td>1</td>\n",
       "      <td>49fae048b547780</td>\n",
       "      <td>1a49f8b0ded9de6</td>\n",
       "      <td>19e2e</td>\n",
       "      <td>19e2e</td>\n",
       "      <td>/TJNe+Mmtu</td>\n",
       "      <td>/TJNe+Mmtu</td>\n",
       "      <td>...</td>\n",
       "      <td>NaN</td>\n",
       "      <td>NaN</td>\n",
       "      <td>NaN</td>\n",
       "      <td>NaN</td>\n",
       "      <td>NaN</td>\n",
       "      <td>NaN</td>\n",
       "      <td>NaN</td>\n",
       "      <td>NaN</td>\n",
       "      <td>NaN</td>\n",
       "      <td>NaN</td>\n",
       "    </tr>\n",
       "    <tr>\n",
       "      <th>1</th>\n",
       "      <td>sms</td>\n",
       "      <td>0</td>\n",
       "      <td>2012-05-06 00:05:25.0</td>\n",
       "      <td>0</td>\n",
       "      <td>7a54a6eaee19e65</td>\n",
       "      <td>93343ba6e41af95</td>\n",
       "      <td>19e2e</td>\n",
       "      <td>19e2e</td>\n",
       "      <td>/+cKZKIp41</td>\n",
       "      <td>/+cKZKIp41</td>\n",
       "      <td>...</td>\n",
       "      <td>NaN</td>\n",
       "      <td>NaN</td>\n",
       "      <td>NaN</td>\n",
       "      <td>NaN</td>\n",
       "      <td>NaN</td>\n",
       "      <td>NaN</td>\n",
       "      <td>NaN</td>\n",
       "      <td>NaN</td>\n",
       "      <td>NaN</td>\n",
       "      <td>NaN</td>\n",
       "    </tr>\n",
       "  </tbody>\n",
       "</table>\n",
       "<p>2 rows × 21 columns</p>\n",
       "</div>"
      ],
      "text/plain": [
       "  PRODUCT  VALUE              DATE_TIME CELL_ON_SITE      DW_A_NUMBER  \\\n",
       "0   Voice      0  2012-05-06 00:04:37.0            1  49fae048b547780   \n",
       "1     sms      0  2012-05-06 00:05:25.0            0  7a54a6eaee19e65   \n",
       "\n",
       "       DW_B_NUMBER COUNTRY_A COUNTRY_B   CELL_ID_x     SITE_ID  ... STATUS  \\\n",
       "0  1a49f8b0ded9de6     19e2e     19e2e  /TJNe+Mmtu  /TJNe+Mmtu  ...    NaN   \n",
       "1  93343ba6e41af95     19e2e     19e2e  /+cKZKIp41  /+cKZKIp41  ...    NaN   \n",
       "\n",
       "  LOCALISATION DECOUPZONE ZONENAME LONGITUDE LATITUDE REGION AREA CELL_ID_y  \\\n",
       "0          NaN        NaN      NaN       NaN      NaN    NaN  NaN       NaN   \n",
       "1          NaN        NaN      NaN       NaN      NaN    NaN  NaN       NaN   \n",
       "\n",
       "  SITE_CODE  \n",
       "0       NaN  \n",
       "1       NaN  \n",
       "\n",
       "[2 rows x 21 columns]"
      ]
     },
     "execution_count": 62,
     "metadata": {},
     "output_type": "execute_result"
    }
   ],
   "source": [
    "data_merged.head(2)"
   ]
  },
  {
   "cell_type": "code",
   "execution_count": 67,
   "id": "00a40e55",
   "metadata": {},
   "outputs": [
    {
     "data": {
      "text/plain": [
       "'2012-05-08 23:36:45.0'"
      ]
     },
     "execution_count": 67,
     "metadata": {},
     "output_type": "execute_result"
    }
   ],
   "source": [
    "data_merged['DATE_TIME'].iloc[35097]"
   ]
  },
  {
   "cell_type": "markdown",
   "id": "d4d39a0a",
   "metadata": {},
   "source": [
    "#### Check out the number of localisations after merge is done "
   ]
  },
  {
   "cell_type": "code",
   "execution_count": 68,
   "id": "ac04e728",
   "metadata": {},
   "outputs": [
    {
     "data": {
      "text/plain": [
       "ABIDJAN      30867\n",
       "INTERIEUR    18585\n",
       "Name: LOCALISATION, dtype: int64"
      ]
     },
     "execution_count": 68,
     "metadata": {},
     "output_type": "execute_result"
    }
   ],
   "source": [
    "data_merged['LOCALISATION'].value_counts()"
   ]
  },
  {
   "cell_type": "markdown",
   "id": "be420f21",
   "metadata": {},
   "source": [
    "For the analysis, we will work with the data merged"
   ]
  },
  {
   "cell_type": "code",
   "execution_count": 69,
   "id": "e69c673a",
   "metadata": {},
   "outputs": [
    {
     "data": {
      "text/html": [
       "<div>\n",
       "<style scoped>\n",
       "    .dataframe tbody tr th:only-of-type {\n",
       "        vertical-align: middle;\n",
       "    }\n",
       "\n",
       "    .dataframe tbody tr th {\n",
       "        vertical-align: top;\n",
       "    }\n",
       "\n",
       "    .dataframe thead th {\n",
       "        text-align: right;\n",
       "    }\n",
       "</style>\n",
       "<table border=\"1\" class=\"dataframe\">\n",
       "  <thead>\n",
       "    <tr style=\"text-align: right;\">\n",
       "      <th></th>\n",
       "      <th>PRODUCT</th>\n",
       "      <th>VALUE</th>\n",
       "      <th>DATE_TIME</th>\n",
       "      <th>CELL_ON_SITE</th>\n",
       "      <th>DW_A_NUMBER</th>\n",
       "      <th>DW_B_NUMBER</th>\n",
       "      <th>COUNTRY_A</th>\n",
       "      <th>COUNTRY_B</th>\n",
       "      <th>CELL_ID_x</th>\n",
       "      <th>SITE_ID</th>\n",
       "      <th>...</th>\n",
       "      <th>STATUS</th>\n",
       "      <th>LOCALISATION</th>\n",
       "      <th>DECOUPZONE</th>\n",
       "      <th>ZONENAME</th>\n",
       "      <th>LONGITUDE</th>\n",
       "      <th>LATITUDE</th>\n",
       "      <th>REGION</th>\n",
       "      <th>AREA</th>\n",
       "      <th>CELL_ID_y</th>\n",
       "      <th>SITE_CODE</th>\n",
       "    </tr>\n",
       "  </thead>\n",
       "  <tbody>\n",
       "    <tr>\n",
       "      <th>53950</th>\n",
       "      <td>Voice</td>\n",
       "      <td>60</td>\n",
       "      <td>2012-05-09 00:01:43.0</td>\n",
       "      <td>2</td>\n",
       "      <td>6edeb4c55714650</td>\n",
       "      <td>7e60838216482a7</td>\n",
       "      <td>19e2e</td>\n",
       "      <td>19e2e</td>\n",
       "      <td>1c11a2fcbb</td>\n",
       "      <td>6d70dae094</td>\n",
       "      <td>...</td>\n",
       "      <td>In Service</td>\n",
       "      <td>ABIDJAN</td>\n",
       "      <td>Abidjan_OUEST</td>\n",
       "      <td>ZONE C - Abidjan_OUEST</td>\n",
       "      <td>-4.0355</td>\n",
       "      <td>5.35752777777778</td>\n",
       "      <td>LAGUNE</td>\n",
       "      <td>ABIDJAN NORTH</td>\n",
       "      <td>ed1b508bc9</td>\n",
       "      <td>6d70dae094</td>\n",
       "    </tr>\n",
       "    <tr>\n",
       "      <th>53951</th>\n",
       "      <td>Voice</td>\n",
       "      <td>60</td>\n",
       "      <td>2012-05-09 00:01:43.0</td>\n",
       "      <td>2</td>\n",
       "      <td>6edeb4c55714650</td>\n",
       "      <td>7e60838216482a7</td>\n",
       "      <td>19e2e</td>\n",
       "      <td>19e2e</td>\n",
       "      <td>1c11a2fcbb</td>\n",
       "      <td>6d70dae094</td>\n",
       "      <td>...</td>\n",
       "      <td>In Service</td>\n",
       "      <td>ABIDJAN</td>\n",
       "      <td>Abidjan_OUEST</td>\n",
       "      <td>ZONE C - Abidjan_OUEST</td>\n",
       "      <td>-4.0355</td>\n",
       "      <td>5.35752777777778</td>\n",
       "      <td>LAGUNE</td>\n",
       "      <td>ABIDJAN NORTH</td>\n",
       "      <td>3795ad5cbd</td>\n",
       "      <td>6d70dae094</td>\n",
       "    </tr>\n",
       "    <tr>\n",
       "      <th>53952</th>\n",
       "      <td>Voice</td>\n",
       "      <td>60</td>\n",
       "      <td>2012-05-09 00:01:43.0</td>\n",
       "      <td>2</td>\n",
       "      <td>6edeb4c55714650</td>\n",
       "      <td>7e60838216482a7</td>\n",
       "      <td>19e2e</td>\n",
       "      <td>19e2e</td>\n",
       "      <td>1c11a2fcbb</td>\n",
       "      <td>6d70dae094</td>\n",
       "      <td>...</td>\n",
       "      <td>In Service</td>\n",
       "      <td>ABIDJAN</td>\n",
       "      <td>Abidjan_OUEST</td>\n",
       "      <td>ZONE C - Abidjan_OUEST</td>\n",
       "      <td>-4.0355</td>\n",
       "      <td>5.35752777777778</td>\n",
       "      <td>LAGUNE</td>\n",
       "      <td>ABIDJAN NORTH</td>\n",
       "      <td>09a60b0991</td>\n",
       "      <td>6d70dae094</td>\n",
       "    </tr>\n",
       "    <tr>\n",
       "      <th>53953</th>\n",
       "      <td>Voice</td>\n",
       "      <td>60</td>\n",
       "      <td>2012-05-09 00:01:43.0</td>\n",
       "      <td>2</td>\n",
       "      <td>6edeb4c55714650</td>\n",
       "      <td>7e60838216482a7</td>\n",
       "      <td>19e2e</td>\n",
       "      <td>19e2e</td>\n",
       "      <td>1c11a2fcbb</td>\n",
       "      <td>6d70dae094</td>\n",
       "      <td>...</td>\n",
       "      <td>In Service</td>\n",
       "      <td>ABIDJAN</td>\n",
       "      <td>Abidjan_OUEST</td>\n",
       "      <td>ZONE C - Abidjan_OUEST</td>\n",
       "      <td>-4.0355</td>\n",
       "      <td>5.35752777777778</td>\n",
       "      <td>LAGUNE</td>\n",
       "      <td>ABIDJAN NORTH</td>\n",
       "      <td>a1b0a4671d</td>\n",
       "      <td>6d70dae094</td>\n",
       "    </tr>\n",
       "    <tr>\n",
       "      <th>53954</th>\n",
       "      <td>Voice</td>\n",
       "      <td>60</td>\n",
       "      <td>2012-05-09 00:01:43.0</td>\n",
       "      <td>2</td>\n",
       "      <td>6edeb4c55714650</td>\n",
       "      <td>7e60838216482a7</td>\n",
       "      <td>19e2e</td>\n",
       "      <td>19e2e</td>\n",
       "      <td>1c11a2fcbb</td>\n",
       "      <td>6d70dae094</td>\n",
       "      <td>...</td>\n",
       "      <td>In Service</td>\n",
       "      <td>ABIDJAN</td>\n",
       "      <td>Abidjan_OUEST</td>\n",
       "      <td>ZONE C - Abidjan_OUEST</td>\n",
       "      <td>-4.0355</td>\n",
       "      <td>5.35752777777778</td>\n",
       "      <td>LAGUNE</td>\n",
       "      <td>ABIDJAN NORTH</td>\n",
       "      <td>979062ae01</td>\n",
       "      <td>6d70dae094</td>\n",
       "    </tr>\n",
       "  </tbody>\n",
       "</table>\n",
       "<p>5 rows × 21 columns</p>\n",
       "</div>"
      ],
      "text/plain": [
       "      PRODUCT  VALUE              DATE_TIME CELL_ON_SITE      DW_A_NUMBER  \\\n",
       "53950   Voice     60  2012-05-09 00:01:43.0            2  6edeb4c55714650   \n",
       "53951   Voice     60  2012-05-09 00:01:43.0            2  6edeb4c55714650   \n",
       "53952   Voice     60  2012-05-09 00:01:43.0            2  6edeb4c55714650   \n",
       "53953   Voice     60  2012-05-09 00:01:43.0            2  6edeb4c55714650   \n",
       "53954   Voice     60  2012-05-09 00:01:43.0            2  6edeb4c55714650   \n",
       "\n",
       "           DW_B_NUMBER COUNTRY_A COUNTRY_B   CELL_ID_x     SITE_ID  ...  \\\n",
       "53950  7e60838216482a7     19e2e     19e2e  1c11a2fcbb  6d70dae094  ...   \n",
       "53951  7e60838216482a7     19e2e     19e2e  1c11a2fcbb  6d70dae094  ...   \n",
       "53952  7e60838216482a7     19e2e     19e2e  1c11a2fcbb  6d70dae094  ...   \n",
       "53953  7e60838216482a7     19e2e     19e2e  1c11a2fcbb  6d70dae094  ...   \n",
       "53954  7e60838216482a7     19e2e     19e2e  1c11a2fcbb  6d70dae094  ...   \n",
       "\n",
       "           STATUS LOCALISATION     DECOUPZONE                ZONENAME  \\\n",
       "53950  In Service      ABIDJAN  Abidjan_OUEST  ZONE C - Abidjan_OUEST   \n",
       "53951  In Service      ABIDJAN  Abidjan_OUEST  ZONE C - Abidjan_OUEST   \n",
       "53952  In Service      ABIDJAN  Abidjan_OUEST  ZONE C - Abidjan_OUEST   \n",
       "53953  In Service      ABIDJAN  Abidjan_OUEST  ZONE C - Abidjan_OUEST   \n",
       "53954  In Service      ABIDJAN  Abidjan_OUEST  ZONE C - Abidjan_OUEST   \n",
       "\n",
       "      LONGITUDE          LATITUDE  REGION           AREA   CELL_ID_y  \\\n",
       "53950   -4.0355  5.35752777777778  LAGUNE  ABIDJAN NORTH  ed1b508bc9   \n",
       "53951   -4.0355  5.35752777777778  LAGUNE  ABIDJAN NORTH  3795ad5cbd   \n",
       "53952   -4.0355  5.35752777777778  LAGUNE  ABIDJAN NORTH  09a60b0991   \n",
       "53953   -4.0355  5.35752777777778  LAGUNE  ABIDJAN NORTH  a1b0a4671d   \n",
       "53954   -4.0355  5.35752777777778  LAGUNE  ABIDJAN NORTH  979062ae01   \n",
       "\n",
       "        SITE_CODE  \n",
       "53950  6d70dae094  \n",
       "53951  6d70dae094  \n",
       "53952  6d70dae094  \n",
       "53953  6d70dae094  \n",
       "53954  6d70dae094  \n",
       "\n",
       "[5 rows x 21 columns]"
      ]
     },
     "execution_count": 69,
     "metadata": {},
     "output_type": "execute_result"
    }
   ],
   "source": [
    "data_merged.tail()"
   ]
  },
  {
   "cell_type": "markdown",
   "id": "0fceec07",
   "metadata": {},
   "source": [
    "<font color='red'><H1> 4. ANALYSIS AND RECOMMENDATION</H1></font>"
   ]
  },
  {
   "cell_type": "markdown",
   "id": "c8149384",
   "metadata": {},
   "source": [
    "In our analysis, we will be answering questions and using subsets of the data_merged_z dataset, to answer questions.This will enable us to keep the original cleaned data without having to drop columns permanently."
   ]
  },
  {
   "cell_type": "markdown",
   "id": "4df744b4",
   "metadata": {},
   "source": [
    "#### 1. What telcom products MTN offers?"
   ]
  },
  {
   "cell_type": "code",
   "execution_count": 70,
   "id": "7a5f8b96",
   "metadata": {},
   "outputs": [
    {
     "data": {
      "text/html": [
       "<div>\n",
       "<style scoped>\n",
       "    .dataframe tbody tr th:only-of-type {\n",
       "        vertical-align: middle;\n",
       "    }\n",
       "\n",
       "    .dataframe tbody tr th {\n",
       "        vertical-align: top;\n",
       "    }\n",
       "\n",
       "    .dataframe thead th {\n",
       "        text-align: right;\n",
       "    }\n",
       "</style>\n",
       "<table border=\"1\" class=\"dataframe\">\n",
       "  <thead>\n",
       "    <tr style=\"text-align: right;\">\n",
       "      <th></th>\n",
       "      <th>PRODUCT</th>\n",
       "      <th>VALUE</th>\n",
       "      <th>DATE_TIME</th>\n",
       "      <th>CELL_ON_SITE</th>\n",
       "      <th>DW_A_NUMBER</th>\n",
       "      <th>DW_B_NUMBER</th>\n",
       "      <th>COUNTRY_A</th>\n",
       "      <th>COUNTRY_B</th>\n",
       "      <th>CELL_ID_x</th>\n",
       "      <th>SITE_ID</th>\n",
       "      <th>...</th>\n",
       "      <th>STATUS</th>\n",
       "      <th>LOCALISATION</th>\n",
       "      <th>DECOUPZONE</th>\n",
       "      <th>ZONENAME</th>\n",
       "      <th>LONGITUDE</th>\n",
       "      <th>LATITUDE</th>\n",
       "      <th>REGION</th>\n",
       "      <th>AREA</th>\n",
       "      <th>CELL_ID_y</th>\n",
       "      <th>SITE_CODE</th>\n",
       "    </tr>\n",
       "  </thead>\n",
       "  <tbody>\n",
       "    <tr>\n",
       "      <th>0</th>\n",
       "      <td>Voice</td>\n",
       "      <td>0</td>\n",
       "      <td>2012-05-06 00:04:37.0</td>\n",
       "      <td>1</td>\n",
       "      <td>49fae048b547780</td>\n",
       "      <td>1a49f8b0ded9de6</td>\n",
       "      <td>19e2e</td>\n",
       "      <td>19e2e</td>\n",
       "      <td>/TJNe+Mmtu</td>\n",
       "      <td>/TJNe+Mmtu</td>\n",
       "      <td>...</td>\n",
       "      <td>NaN</td>\n",
       "      <td>NaN</td>\n",
       "      <td>NaN</td>\n",
       "      <td>NaN</td>\n",
       "      <td>NaN</td>\n",
       "      <td>NaN</td>\n",
       "      <td>NaN</td>\n",
       "      <td>NaN</td>\n",
       "      <td>NaN</td>\n",
       "      <td>NaN</td>\n",
       "    </tr>\n",
       "    <tr>\n",
       "      <th>1</th>\n",
       "      <td>sms</td>\n",
       "      <td>0</td>\n",
       "      <td>2012-05-06 00:05:25.0</td>\n",
       "      <td>0</td>\n",
       "      <td>7a54a6eaee19e65</td>\n",
       "      <td>93343ba6e41af95</td>\n",
       "      <td>19e2e</td>\n",
       "      <td>19e2e</td>\n",
       "      <td>/+cKZKIp41</td>\n",
       "      <td>/+cKZKIp41</td>\n",
       "      <td>...</td>\n",
       "      <td>NaN</td>\n",
       "      <td>NaN</td>\n",
       "      <td>NaN</td>\n",
       "      <td>NaN</td>\n",
       "      <td>NaN</td>\n",
       "      <td>NaN</td>\n",
       "      <td>NaN</td>\n",
       "      <td>NaN</td>\n",
       "      <td>NaN</td>\n",
       "      <td>NaN</td>\n",
       "    </tr>\n",
       "    <tr>\n",
       "      <th>2</th>\n",
       "      <td>sms</td>\n",
       "      <td>25</td>\n",
       "      <td>2012-05-06 00:05:41.0</td>\n",
       "      <td>0</td>\n",
       "      <td>6008887b0207d82</td>\n",
       "      <td>7aacc9709ce0a20</td>\n",
       "      <td>19e2e</td>\n",
       "      <td>19e2e</td>\n",
       "      <td>/u0FSD+ahi</td>\n",
       "      <td>/u0FSD+ahi</td>\n",
       "      <td>...</td>\n",
       "      <td>NaN</td>\n",
       "      <td>NaN</td>\n",
       "      <td>NaN</td>\n",
       "      <td>NaN</td>\n",
       "      <td>NaN</td>\n",
       "      <td>NaN</td>\n",
       "      <td>NaN</td>\n",
       "      <td>NaN</td>\n",
       "      <td>NaN</td>\n",
       "      <td>NaN</td>\n",
       "    </tr>\n",
       "    <tr>\n",
       "      <th>3</th>\n",
       "      <td>Voice</td>\n",
       "      <td>56</td>\n",
       "      <td>2012-05-06 00:05:42.0</td>\n",
       "      <td>1</td>\n",
       "      <td>7370032e20f4e96</td>\n",
       "      <td>6af4a60e74c91d3</td>\n",
       "      <td>19e2e</td>\n",
       "      <td>19e2e</td>\n",
       "      <td>#NAME?</td>\n",
       "      <td>#NAME?</td>\n",
       "      <td>...</td>\n",
       "      <td>NaN</td>\n",
       "      <td>NaN</td>\n",
       "      <td>NaN</td>\n",
       "      <td>NaN</td>\n",
       "      <td>NaN</td>\n",
       "      <td>NaN</td>\n",
       "      <td>NaN</td>\n",
       "      <td>NaN</td>\n",
       "      <td>NaN</td>\n",
       "      <td>NaN</td>\n",
       "    </tr>\n",
       "    <tr>\n",
       "      <th>4</th>\n",
       "      <td>Voice</td>\n",
       "      <td>14</td>\n",
       "      <td>2012-05-06 00:06:29.0</td>\n",
       "      <td>1</td>\n",
       "      <td>966ba4656e38e62</td>\n",
       "      <td>02aa736ee555d5c</td>\n",
       "      <td>19e2e</td>\n",
       "      <td>19e2e</td>\n",
       "      <td>051KhYDCpv</td>\n",
       "      <td>051KhYDCpv</td>\n",
       "      <td>...</td>\n",
       "      <td>NaN</td>\n",
       "      <td>NaN</td>\n",
       "      <td>NaN</td>\n",
       "      <td>NaN</td>\n",
       "      <td>NaN</td>\n",
       "      <td>NaN</td>\n",
       "      <td>NaN</td>\n",
       "      <td>NaN</td>\n",
       "      <td>NaN</td>\n",
       "      <td>NaN</td>\n",
       "    </tr>\n",
       "  </tbody>\n",
       "</table>\n",
       "<p>5 rows × 21 columns</p>\n",
       "</div>"
      ],
      "text/plain": [
       "  PRODUCT  VALUE              DATE_TIME CELL_ON_SITE      DW_A_NUMBER  \\\n",
       "0   Voice      0  2012-05-06 00:04:37.0            1  49fae048b547780   \n",
       "1     sms      0  2012-05-06 00:05:25.0            0  7a54a6eaee19e65   \n",
       "2     sms     25  2012-05-06 00:05:41.0            0  6008887b0207d82   \n",
       "3   Voice     56  2012-05-06 00:05:42.0            1  7370032e20f4e96   \n",
       "4   Voice     14  2012-05-06 00:06:29.0            1  966ba4656e38e62   \n",
       "\n",
       "       DW_B_NUMBER COUNTRY_A COUNTRY_B   CELL_ID_x     SITE_ID  ... STATUS  \\\n",
       "0  1a49f8b0ded9de6     19e2e     19e2e  /TJNe+Mmtu  /TJNe+Mmtu  ...    NaN   \n",
       "1  93343ba6e41af95     19e2e     19e2e  /+cKZKIp41  /+cKZKIp41  ...    NaN   \n",
       "2  7aacc9709ce0a20     19e2e     19e2e  /u0FSD+ahi  /u0FSD+ahi  ...    NaN   \n",
       "3  6af4a60e74c91d3     19e2e     19e2e      #NAME?      #NAME?  ...    NaN   \n",
       "4  02aa736ee555d5c     19e2e     19e2e  051KhYDCpv  051KhYDCpv  ...    NaN   \n",
       "\n",
       "  LOCALISATION DECOUPZONE ZONENAME LONGITUDE LATITUDE REGION AREA CELL_ID_y  \\\n",
       "0          NaN        NaN      NaN       NaN      NaN    NaN  NaN       NaN   \n",
       "1          NaN        NaN      NaN       NaN      NaN    NaN  NaN       NaN   \n",
       "2          NaN        NaN      NaN       NaN      NaN    NaN  NaN       NaN   \n",
       "3          NaN        NaN      NaN       NaN      NaN    NaN  NaN       NaN   \n",
       "4          NaN        NaN      NaN       NaN      NaN    NaN  NaN       NaN   \n",
       "\n",
       "  SITE_CODE  \n",
       "0       NaN  \n",
       "1       NaN  \n",
       "2       NaN  \n",
       "3       NaN  \n",
       "4       NaN  \n",
       "\n",
       "[5 rows x 21 columns]"
      ]
     },
     "execution_count": 70,
     "metadata": {},
     "output_type": "execute_result"
    }
   ],
   "source": [
    "Analyze_data=data_merged.copy()\n",
    "Analyze_data.head()"
   ]
  },
  {
   "cell_type": "code",
   "execution_count": 71,
   "id": "9483d95d",
   "metadata": {},
   "outputs": [
    {
     "data": {
      "text/plain": [
       "sms      55.0%\n",
       "Voice    40.0%\n",
       "data      4.0%\n",
       "Name: PRODUCT, dtype: object"
      ]
     },
     "execution_count": 71,
     "metadata": {},
     "output_type": "execute_result"
    }
   ],
   "source": [
    "Analyze_data['PRODUCT'].value_counts(normalize=True).mul(100).round().astype(str)+'%'"
   ]
  },
  {
   "cell_type": "markdown",
   "id": "5243ff8d",
   "metadata": {},
   "source": [
    "#### Findings"
   ]
  },
  {
   "cell_type": "markdown",
   "id": "e61e2f5b",
   "metadata": {},
   "source": [
    "There is low usage for the data product. i.e 4%"
   ]
  },
  {
   "cell_type": "markdown",
   "id": "4225bb3c",
   "metadata": {},
   "source": [
    "#### Evaluation"
   ]
  },
  {
   "cell_type": "markdown",
   "id": "9be1dea9",
   "metadata": {},
   "source": [
    "MTN to consider Infrastructure development for Data product support. With a proper infrastructure usage could increase"
   ]
  },
  {
   "cell_type": "markdown",
   "id": "ff093b30",
   "metadata": {},
   "source": [
    "#### 2. How is telcom MTN products distribution in Localization?"
   ]
  },
  {
   "cell_type": "code",
   "execution_count": 72,
   "id": "ead81362",
   "metadata": {},
   "outputs": [
    {
     "data": {
      "text/plain": [
       "ABIDJAN      62.0%\n",
       "INTERIEUR    38.0%\n",
       "Name: LOCALISATION, dtype: object"
      ]
     },
     "execution_count": 72,
     "metadata": {},
     "output_type": "execute_result"
    }
   ],
   "source": [
    "Analyze_data['LOCALISATION'].value_counts(normalize=True).mul(100).round().astype(str)+'%'"
   ]
  },
  {
   "cell_type": "markdown",
   "id": "388b5aa7",
   "metadata": {},
   "source": [
    "###### Abidjan  products distribution"
   ]
  },
  {
   "cell_type": "code",
   "execution_count": 73,
   "id": "c10d0592",
   "metadata": {},
   "outputs": [],
   "source": [
    "loc_prod = Analyze_data[['PRODUCT','LOCALISATION']]"
   ]
  },
  {
   "cell_type": "code",
   "execution_count": 74,
   "id": "03d485e0",
   "metadata": {},
   "outputs": [],
   "source": [
    "abijan_prds = loc_prod[(loc_prod['LOCALISATION']=='ABIDJAN') & (loc_prod['PRODUCT'])]"
   ]
  },
  {
   "cell_type": "code",
   "execution_count": 75,
   "id": "f83d2f46",
   "metadata": {},
   "outputs": [
    {
     "data": {
      "text/plain": [
       "sms      63.0%\n",
       "Voice    37.0%\n",
       "Name: PRODUCT, dtype: object"
      ]
     },
     "execution_count": 75,
     "metadata": {},
     "output_type": "execute_result"
    }
   ],
   "source": [
    "abijan_prds['PRODUCT'].value_counts(normalize=True).mul(100).round().astype(str)+'%'"
   ]
  },
  {
   "cell_type": "markdown",
   "id": "1d0af1b6",
   "metadata": {},
   "source": [
    "###### Interieur products distribution"
   ]
  },
  {
   "cell_type": "code",
   "execution_count": 76,
   "id": "534eff48",
   "metadata": {},
   "outputs": [
    {
     "data": {
      "text/plain": [
       "sms      50.0%\n",
       "Voice    50.0%\n",
       "Name: PRODUCT, dtype: object"
      ]
     },
     "execution_count": 76,
     "metadata": {},
     "output_type": "execute_result"
    }
   ],
   "source": [
    "inter_prds = loc_prod[(loc_prod['LOCALISATION']=='INTERIEUR') & (loc_prod['PRODUCT'])]\n",
    "inter_prds['PRODUCT'].value_counts(normalize=True).mul(100).round().astype(str).add('%')"
   ]
  },
  {
   "cell_type": "markdown",
   "id": "d91e66c8",
   "metadata": {},
   "source": [
    "The Sms product in Abidjan takes up 63% of the total usage of products for the 3 days while  Voice product takes up 37%. On the other hand outside Abidjan i.e Interieur, there is an equal usage of the two products in the three days"
   ]
  },
  {
   "cell_type": "markdown",
   "id": "c6018535",
   "metadata": {},
   "source": [
    "#### Findings"
   ]
  },
  {
   "cell_type": "markdown",
   "id": "25ffd4d6",
   "metadata": {},
   "source": [
    "There is a higher tendency of people living within Abidjan to use sms product. Possible reasons:\n",
    "\n",
    "1. Abidjan being the capital city is noisy and very busy hence people avoid using calls\n",
    "\n",
    "2. Population in most capital cities is mostly dense, hence people there prefer using sms since it's more private\n"
   ]
  },
  {
   "cell_type": "markdown",
   "id": "c2d52401",
   "metadata": {},
   "source": [
    "#### Recommendation\n",
    "\n",
    "1. Focus on the upgrade of sms infrastructure more within Abidjan\n",
    "\n",
    "2. When doing the upgrade avoid disrupting sms product within Abidjan"
   ]
  },
  {
   "cell_type": "markdown",
   "id": "be2db7c1",
   "metadata": {},
   "source": [
    "#### 3. MTN products in admin regions within Ivory Coast?"
   ]
  },
  {
   "cell_type": "code",
   "execution_count": 118,
   "id": "a204d1bb",
   "metadata": {},
   "outputs": [
    {
     "data": {
      "text/plain": [
       "REGION\n",
       "LAGUNE               32369\n",
       "LACS                  2405\n",
       "BAS SASSANDRA         2312\n",
       "HAUT SASSANDRA        2274\n",
       "VALLEE DU BANDAMA     1551\n",
       "SUD BANDAMA           1515\n",
       "SAVANE                 971\n",
       "FROMAGER               898\n",
       "WORODOUGOU             792\n",
       "18 MONTAGNES           762\n",
       "MARAHOUE               618\n",
       "AGNEBY                 578\n",
       "NZI COMOE              558\n",
       "MOYEN CAVALLY          525\n",
       "DENGUELE               389\n",
       "ZANZAN                 324\n",
       "MOYEN COMOE            315\n",
       "SUD COMOE              197\n",
       "BAFING                  99\n",
       "Name: PRODUCT, dtype: int64"
      ]
     },
     "execution_count": 118,
     "metadata": {},
     "output_type": "execute_result"
    }
   ],
   "source": [
    "Analyze_data.groupby('REGION')['PRODUCT'].count().sort_values(ascending=False)"
   ]
  },
  {
   "cell_type": "markdown",
   "id": "7157d8ae",
   "metadata": {},
   "source": [
    "LAGUNE was the region with the highest use of MTN products with BAFING having the least"
   ]
  },
  {
   "cell_type": "markdown",
   "id": "b92e4367",
   "metadata": {},
   "source": [
    "#### 4. Which were the most and least used products in cities for the three days?¶\n"
   ]
  },
  {
   "cell_type": "code",
   "execution_count": 80,
   "id": "0595c5a2",
   "metadata": {},
   "outputs": [
    {
     "data": {
      "text/html": [
       "<div>\n",
       "<style scoped>\n",
       "    .dataframe tbody tr th:only-of-type {\n",
       "        vertical-align: middle;\n",
       "    }\n",
       "\n",
       "    .dataframe tbody tr th {\n",
       "        vertical-align: top;\n",
       "    }\n",
       "\n",
       "    .dataframe thead th {\n",
       "        text-align: right;\n",
       "    }\n",
       "</style>\n",
       "<table border=\"1\" class=\"dataframe\">\n",
       "  <thead>\n",
       "    <tr style=\"text-align: right;\">\n",
       "      <th>AREA</th>\n",
       "      <th>ABIDJAN NORTH</th>\n",
       "      <th>ABIDJAN SOUTH</th>\n",
       "      <th>CENTRE NORTH</th>\n",
       "      <th>EAST</th>\n",
       "      <th>NORTH WEST</th>\n",
       "      <th>SOUTH WEST</th>\n",
       "      <th>other_area</th>\n",
       "    </tr>\n",
       "    <tr>\n",
       "      <th>LOCALISATION</th>\n",
       "      <th></th>\n",
       "      <th></th>\n",
       "      <th></th>\n",
       "      <th></th>\n",
       "      <th></th>\n",
       "      <th></th>\n",
       "      <th></th>\n",
       "    </tr>\n",
       "  </thead>\n",
       "  <tbody>\n",
       "    <tr>\n",
       "      <th>ABIDJAN</th>\n",
       "      <td>46.0%</td>\n",
       "      <td>16.0%</td>\n",
       "      <td>0.0%</td>\n",
       "      <td>0.0%</td>\n",
       "      <td>0.0%</td>\n",
       "      <td>0.0%</td>\n",
       "      <td>1.0%</td>\n",
       "    </tr>\n",
       "    <tr>\n",
       "      <th>INTERIEUR</th>\n",
       "      <td>2.0%</td>\n",
       "      <td>1.0%</td>\n",
       "      <td>12.0%</td>\n",
       "      <td>3.0%</td>\n",
       "      <td>10.0%</td>\n",
       "      <td>10.0%</td>\n",
       "      <td>0.0%</td>\n",
       "    </tr>\n",
       "  </tbody>\n",
       "</table>\n",
       "</div>"
      ],
      "text/plain": [
       "AREA         ABIDJAN NORTH ABIDJAN SOUTH CENTRE NORTH  EAST NORTH WEST  \\\n",
       "LOCALISATION                                                             \n",
       "ABIDJAN              46.0%         16.0%         0.0%  0.0%       0.0%   \n",
       "INTERIEUR             2.0%          1.0%        12.0%  3.0%      10.0%   \n",
       "\n",
       "AREA         SOUTH WEST other_area  \n",
       "LOCALISATION                        \n",
       "ABIDJAN            0.0%       1.0%  \n",
       "INTERIEUR         10.0%       0.0%  "
      ]
     },
     "execution_count": 80,
     "metadata": {},
     "output_type": "execute_result"
    }
   ],
   "source": [
    "reg = Analyze_data[['LOCALISATION','AREA','PRODUCT']]\n",
    "pd.crosstab(reg['LOCALISATION'], reg['AREA'], normalize=True).mul(100).round().astype(str)+'%'"
   ]
  },
  {
   "cell_type": "code",
   "execution_count": 81,
   "id": "ffc44868",
   "metadata": {},
   "outputs": [
    {
     "data": {
      "text/plain": [
       "sms      55.0%\n",
       "Voice    40.0%\n",
       "data      4.0%\n",
       "Name: PRODUCT, dtype: object"
      ]
     },
     "execution_count": 81,
     "metadata": {},
     "output_type": "execute_result"
    }
   ],
   "source": [
    "towns = Analyze_data[['VILLES', 'PRODUCT']]\n",
    "towns.PRODUCT.value_counts(normalize=True).mul(100).round().astype(str).add('%')"
   ]
  },
  {
   "cell_type": "markdown",
   "id": "a2992c4f",
   "metadata": {},
   "source": [
    "#### Findings\n",
    "\n",
    "Sms was the most used product in the 3 days taking 55% of the product usage. Data was the least used product in the 3 days"
   ]
  },
  {
   "cell_type": "markdown",
   "id": "c0d4f795",
   "metadata": {},
   "source": [
    "Data infrasrtucture upgrade is necessary while sms Infrastructure upgrade should be the quickest to be done since most people tend to prefer sms than the other 2 products."
   ]
  },
  {
   "cell_type": "markdown",
   "id": "d9ea6bbc",
   "metadata": {},
   "source": [
    "#### 5.What  Time were MTN Products Most used Within and Outside Abidjan?"
   ]
  },
  {
   "cell_type": "code",
   "execution_count": 82,
   "id": "dba63919",
   "metadata": {},
   "outputs": [
    {
     "data": {
      "text/plain": [
       "0        2012-05-06 00:04:37.0\n",
       "1        2012-05-06 00:05:25.0\n",
       "2        2012-05-06 00:05:41.0\n",
       "3        2012-05-06 00:05:42.0\n",
       "4        2012-05-06 00:06:29.0\n",
       "                 ...          \n",
       "53950    2012-05-09 00:01:43.0\n",
       "53951    2012-05-09 00:01:43.0\n",
       "53952    2012-05-09 00:01:43.0\n",
       "53953    2012-05-09 00:01:43.0\n",
       "53954    2012-05-09 00:01:43.0\n",
       "Name: DATE_TIME, Length: 53955, dtype: object"
      ]
     },
     "execution_count": 82,
     "metadata": {},
     "output_type": "execute_result"
    }
   ],
   "source": [
    " Analyze_data.DATE_TIME"
   ]
  },
  {
   "cell_type": "code",
   "execution_count": 83,
   "id": "9dba3a18",
   "metadata": {},
   "outputs": [],
   "source": [
    "#Split data and time\n",
    "date = Analyze_data['DATE_TIME'].str.split(' ',expand=True)\n",
    "date.rename(columns={0:'Date', 1:'Time'}, inplace=True)"
   ]
  },
  {
   "cell_type": "code",
   "execution_count": 84,
   "id": "a021adb8",
   "metadata": {},
   "outputs": [
    {
     "data": {
      "text/plain": [
       "2012-05-09    18513\n",
       "2012-05-06    17522\n",
       "2012-05-08    17156\n",
       "2012-05-07      764\n",
       "Name: Date, dtype: int64"
      ]
     },
     "execution_count": 84,
     "metadata": {},
     "output_type": "execute_result"
    }
   ],
   "source": [
    "date['Date'].value_counts()"
   ]
  },
  {
   "cell_type": "code",
   "execution_count": 85,
   "id": "91d45e7b",
   "metadata": {},
   "outputs": [
    {
     "data": {
      "text/plain": [
       "00:00:05.0    790\n",
       "00:01:14.0    681\n",
       "00:00:10.0    651\n",
       "00:00:07.0    623\n",
       "00:00:09.0    616\n",
       "             ... \n",
       "23:45:26.0      1\n",
       "23:53:36.0      1\n",
       "23:27:30.0      1\n",
       "00:50:59.0      1\n",
       "00:44:18.0      1\n",
       "Name: Time, Length: 1800, dtype: int64"
      ]
     },
     "execution_count": 85,
     "metadata": {},
     "output_type": "execute_result"
    }
   ],
   "source": [
    "date['Time'].value_counts()"
   ]
  },
  {
   "cell_type": "code",
   "execution_count": 86,
   "id": "06b69c6e",
   "metadata": {},
   "outputs": [],
   "source": [
    "#Adding the columns for Date and Time on to the database\n",
    "Analyze_data['Date'] = date['Date']\n"
   ]
  },
  {
   "cell_type": "code",
   "execution_count": 87,
   "id": "9fc118c6",
   "metadata": {},
   "outputs": [],
   "source": [
    "Analyze_data['Time'] = pd.to_datetime(date['Time']).dt.strftime('%I:%M %p')"
   ]
  },
  {
   "cell_type": "code",
   "execution_count": 91,
   "id": "3bf66e26",
   "metadata": {},
   "outputs": [
    {
     "data": {
      "text/plain": [
       "0        12:04 AM\n",
       "1        12:05 AM\n",
       "2        12:05 AM\n",
       "3        12:05 AM\n",
       "4        12:06 AM\n",
       "           ...   \n",
       "53950    12:01 AM\n",
       "53951    12:01 AM\n",
       "53952    12:01 AM\n",
       "53953    12:01 AM\n",
       "53954    12:01 AM\n",
       "Name: Time, Length: 53955, dtype: object"
      ]
     },
     "execution_count": 91,
     "metadata": {},
     "output_type": "execute_result"
    }
   ],
   "source": [
    "Analyze_data['Time']"
   ]
  },
  {
   "cell_type": "code",
   "execution_count": 93,
   "id": "adb0d4fd",
   "metadata": {},
   "outputs": [
    {
     "data": {
      "text/plain": [
       "Index(['PRODUCT', 'VALUE', 'DATE_TIME', 'CELL_ON_SITE', 'DW_A_NUMBER',\n",
       "       'DW_B_NUMBER', 'COUNTRY_A', 'COUNTRY_B', 'CELL_ID_x', 'SITE_ID',\n",
       "       'VILLES', 'STATUS', 'LOCALISATION', 'DECOUPZONE', 'ZONENAME',\n",
       "       'LONGITUDE', 'LATITUDE', 'REGION', 'AREA', 'CELL_ID_y', 'SITE_CODE',\n",
       "       'Date', 'Time'],\n",
       "      dtype='object')"
      ]
     },
     "execution_count": 93,
     "metadata": {},
     "output_type": "execute_result"
    }
   ],
   "source": [
    "Analyze_data.columns"
   ]
  },
  {
   "cell_type": "code",
   "execution_count": 98,
   "id": "e453d6ad",
   "metadata": {},
   "outputs": [],
   "source": [
    "Analyze_data.sort_values(by=['Date','Time'], axis=0, inplace=True)"
   ]
  },
  {
   "cell_type": "code",
   "execution_count": 99,
   "id": "d3d3df4b",
   "metadata": {},
   "outputs": [],
   "source": [
    "#Determining which cities were the most used in business and home hours\n",
    "#Day 1 Date 2012-05-06\n",
    "day1 = Analyze_data[(Analyze_data['Date']=='2012-05-06') & (Analyze_data['Time']) & (Analyze_data['LOCALISATION'])]"
   ]
  },
  {
   "cell_type": "code",
   "execution_count": 100,
   "id": "4b7b5c17",
   "metadata": {},
   "outputs": [
    {
     "data": {
      "text/html": [
       "<div>\n",
       "<style scoped>\n",
       "    .dataframe tbody tr th:only-of-type {\n",
       "        vertical-align: middle;\n",
       "    }\n",
       "\n",
       "    .dataframe tbody tr th {\n",
       "        vertical-align: top;\n",
       "    }\n",
       "\n",
       "    .dataframe thead th {\n",
       "        text-align: right;\n",
       "    }\n",
       "</style>\n",
       "<table border=\"1\" class=\"dataframe\">\n",
       "  <thead>\n",
       "    <tr style=\"text-align: right;\">\n",
       "      <th>Time</th>\n",
       "      <th>12:00 AM</th>\n",
       "      <th>12:01 AM</th>\n",
       "    </tr>\n",
       "    <tr>\n",
       "      <th>LOCALISATION</th>\n",
       "      <th></th>\n",
       "      <th></th>\n",
       "    </tr>\n",
       "  </thead>\n",
       "  <tbody>\n",
       "    <tr>\n",
       "      <th>ABIDJAN</th>\n",
       "      <td>30.0%</td>\n",
       "      <td>27.0%</td>\n",
       "    </tr>\n",
       "    <tr>\n",
       "      <th>INTERIEUR</th>\n",
       "      <td>22.0%</td>\n",
       "      <td>20.0%</td>\n",
       "    </tr>\n",
       "  </tbody>\n",
       "</table>\n",
       "</div>"
      ],
      "text/plain": [
       "Time         12:00 AM 12:01 AM\n",
       "LOCALISATION                  \n",
       "ABIDJAN         30.0%    27.0%\n",
       "INTERIEUR       22.0%    20.0%"
      ]
     },
     "execution_count": 100,
     "metadata": {},
     "output_type": "execute_result"
    }
   ],
   "source": [
    "#Day 1 Date 2012-05-06\n",
    "day1_use = pd.crosstab(day1.LOCALISATION, day1.Time, normalize=True).mul(100).round().astype(str)+'%'\n",
    "day1_use"
   ]
  },
  {
   "cell_type": "code",
   "execution_count": 101,
   "id": "395edd20",
   "metadata": {},
   "outputs": [
    {
     "data": {
      "text/plain": [
       "<AxesSubplot:xlabel='Time', ylabel='LOCALISATION'>"
      ]
     },
     "execution_count": 101,
     "metadata": {},
     "output_type": "execute_result"
    },
    {
     "data": {
      "image/png": "[encoded data removed]",
      "text/plain": [
       "<Figure size 1080x504 with 2 Axes>"
      ]
     },
     "metadata": {
      "needs_background": "light"
     },
     "output_type": "display_data"
    }
   ],
   "source": [
    "import seaborn as sns\n",
    "import matplotlib.pyplot as plt\n",
    "plt.figure(figsize=(15,7))\n",
    "sns.heatmap(pd.crosstab(day1.LOCALISATION, day1.Time), cmap=\"YlGnBu\")"
   ]
  },
  {
   "cell_type": "code",
   "execution_count": 102,
   "id": "14682581",
   "metadata": {},
   "outputs": [],
   "source": [
    "#Day 2 Date 2012-05-08\n",
    "day2 = Analyze_data[(Analyze_data['Date']=='2012-05-08') & (Analyze_data['Time']) & (Analyze_data['LOCALISATION'])]"
   ]
  },
  {
   "cell_type": "code",
   "execution_count": 103,
   "id": "c13a92a3",
   "metadata": {},
   "outputs": [
    {
     "data": {
      "text/html": [
       "<div>\n",
       "<style scoped>\n",
       "    .dataframe tbody tr th:only-of-type {\n",
       "        vertical-align: middle;\n",
       "    }\n",
       "\n",
       "    .dataframe tbody tr th {\n",
       "        vertical-align: top;\n",
       "    }\n",
       "\n",
       "    .dataframe thead th {\n",
       "        text-align: right;\n",
       "    }\n",
       "</style>\n",
       "<table border=\"1\" class=\"dataframe\">\n",
       "  <thead>\n",
       "    <tr style=\"text-align: right;\">\n",
       "      <th>Time</th>\n",
       "      <th>12:00 AM</th>\n",
       "      <th>12:01 AM</th>\n",
       "    </tr>\n",
       "    <tr>\n",
       "      <th>LOCALISATION</th>\n",
       "      <th></th>\n",
       "      <th></th>\n",
       "    </tr>\n",
       "  </thead>\n",
       "  <tbody>\n",
       "    <tr>\n",
       "      <th>ABIDJAN</th>\n",
       "      <td>34.0%</td>\n",
       "      <td>29.0%</td>\n",
       "    </tr>\n",
       "    <tr>\n",
       "      <th>INTERIEUR</th>\n",
       "      <td>20.0%</td>\n",
       "      <td>17.0%</td>\n",
       "    </tr>\n",
       "  </tbody>\n",
       "</table>\n",
       "</div>"
      ],
      "text/plain": [
       "Time         12:00 AM 12:01 AM\n",
       "LOCALISATION                  \n",
       "ABIDJAN         34.0%    29.0%\n",
       "INTERIEUR       20.0%    17.0%"
      ]
     },
     "execution_count": 103,
     "metadata": {},
     "output_type": "execute_result"
    }
   ],
   "source": [
    "day2_use = pd.crosstab(day2.LOCALISATION, day2.Time, normalize=True).mul(100).round().astype(str)+'%'\n",
    "day2_use"
   ]
  },
  {
   "cell_type": "code",
   "execution_count": 104,
   "id": "8be30495",
   "metadata": {},
   "outputs": [
    {
     "data": {
      "text/plain": [
       "<AxesSubplot:xlabel='Time', ylabel='LOCALISATION'>"
      ]
     },
     "execution_count": 104,
     "metadata": {},
     "output_type": "execute_result"
    },
    {
     "data": {
      "image/png": "[encoded data removed]",
      "text/plain": [
       "<Figure size 1080x504 with 2 Axes>"
      ]
     },
     "metadata": {
      "needs_background": "light"
     },
     "output_type": "display_data"
    }
   ],
   "source": [
    "plt.figure(figsize=(15,7))\n",
    "sns.heatmap(pd.crosstab(day2.LOCALISATION, day2.Time))"
   ]
  },
  {
   "cell_type": "code",
   "execution_count": 105,
   "id": "2fdbcb79",
   "metadata": {},
   "outputs": [],
   "source": [
    "#Day 3 Date 2012-05-09\n",
    "day3 = Analyze_data[(Analyze_data['Date']=='2012-05-09') & (Analyze_data['Time']) & (Analyze_data['LOCALISATION'])]"
   ]
  },
  {
   "cell_type": "code",
   "execution_count": 106,
   "id": "b3b8ad5f",
   "metadata": {},
   "outputs": [
    {
     "data": {
      "text/html": [
       "<div>\n",
       "<style scoped>\n",
       "    .dataframe tbody tr th:only-of-type {\n",
       "        vertical-align: middle;\n",
       "    }\n",
       "\n",
       "    .dataframe tbody tr th {\n",
       "        vertical-align: top;\n",
       "    }\n",
       "\n",
       "    .dataframe thead th {\n",
       "        text-align: right;\n",
       "    }\n",
       "</style>\n",
       "<table border=\"1\" class=\"dataframe\">\n",
       "  <thead>\n",
       "    <tr style=\"text-align: right;\">\n",
       "      <th>Time</th>\n",
       "      <th>12:00 AM</th>\n",
       "      <th>12:01 AM</th>\n",
       "    </tr>\n",
       "    <tr>\n",
       "      <th>LOCALISATION</th>\n",
       "      <th></th>\n",
       "      <th></th>\n",
       "    </tr>\n",
       "  </thead>\n",
       "  <tbody>\n",
       "    <tr>\n",
       "      <th>ABIDJAN</th>\n",
       "      <td>40.0%</td>\n",
       "      <td>25.0%</td>\n",
       "    </tr>\n",
       "    <tr>\n",
       "      <th>INTERIEUR</th>\n",
       "      <td>22.0%</td>\n",
       "      <td>13.0%</td>\n",
       "    </tr>\n",
       "  </tbody>\n",
       "</table>\n",
       "</div>"
      ],
      "text/plain": [
       "Time         12:00 AM 12:01 AM\n",
       "LOCALISATION                  \n",
       "ABIDJAN         40.0%    25.0%\n",
       "INTERIEUR       22.0%    13.0%"
      ]
     },
     "execution_count": 106,
     "metadata": {},
     "output_type": "execute_result"
    }
   ],
   "source": [
    "day3_use = pd.crosstab(day3.LOCALISATION, day3.Time, normalize=True).mul(100).round().astype(str)+'%'\n",
    "day3_use"
   ]
  },
  {
   "cell_type": "code",
   "execution_count": 107,
   "id": "ad64bfde",
   "metadata": {},
   "outputs": [
    {
     "data": {
      "text/plain": [
       "<AxesSubplot:xlabel='Time', ylabel='LOCALISATION'>"
      ]
     },
     "execution_count": 107,
     "metadata": {},
     "output_type": "execute_result"
    },
    {
     "data": {
      "image/png": "[encoded data removed]",
      "text/plain": [
       "<Figure size 1080x504 with 2 Axes>"
      ]
     },
     "metadata": {
      "needs_background": "light"
     },
     "output_type": "display_data"
    }
   ],
   "source": [
    "plt.figure(figsize=(15,7))\n",
    "sns.heatmap(pd.crosstab(day2.LOCALISATION, day2.Time), cmap=\"Greens\")"
   ]
  },
  {
   "cell_type": "markdown",
   "id": "2fbba442",
   "metadata": {},
   "source": [
    "#### Findings"
   ]
  },
  {
   "cell_type": "markdown",
   "id": "ae274282",
   "metadata": {},
   "source": [
    "In the 3 days we can see that a higher proportion of the products were used within Abidjan compared to outside Abidjan.The following could have caused this:\n",
    "\n",
    "1. Abidjan is the capital, therefore it is posssible that within Abidjan people sleep late due to a possible 24hr economy in the region\n",
    "\n",
    "In the 3 days we also observe that product usage decreased one minute past 12AM, this could be because from 12 AM people are sleeping and there is a reduced communication."
   ]
  },
  {
   "cell_type": "markdown",
   "id": "a99a06c8",
   "metadata": {},
   "source": [
    "#### Recommendation"
   ]
  },
  {
   "cell_type": "markdown",
   "id": "8c7fbb2b",
   "metadata": {},
   "source": [
    "Upgrade of MTN infrastructure should be done past midnight since product usage is low in the 3 days.This will avoid service interference to the users of MTN products"
   ]
  },
  {
   "cell_type": "markdown",
   "id": "0bbb5c25",
   "metadata": {},
   "source": [
    "#### 6. What time can MTN upgrade their infrastructure?"
   ]
  },
  {
   "cell_type": "markdown",
   "id": "d4711bb1",
   "metadata": {},
   "source": [
    "What is the status of the products interms of being inservice or not?"
   ]
  },
  {
   "cell_type": "code",
   "execution_count": null,
   "id": "6d1a997d",
   "metadata": {},
   "outputs": [],
   "source": [
    "Analyze_data['STATUS'].value_counts()"
   ]
  },
  {
   "cell_type": "code",
   "execution_count": null,
   "id": "314ee250",
   "metadata": {},
   "outputs": [],
   "source": [
    "service_status = Analyze_data[['PRODUCT','LOCALISATION','AREA','STATUS','Date']]"
   ]
  },
  {
   "cell_type": "code",
   "execution_count": null,
   "id": "bdd101b5",
   "metadata": {},
   "outputs": [],
   "source": [
    "status = pd.crosstab(service_status.PRODUCT,\n",
    "            [service_status.STATUS,\n",
    "            service_status.Date],normalize=True).mul(100).round().astype(str)+'%'\n",
    "status"
   ]
  },
  {
   "cell_type": "markdown",
   "id": "c55f6517",
   "metadata": {},
   "source": [
    "#### Findings"
   ]
  },
  {
   "cell_type": "markdown",
   "id": "cc533cc4",
   "metadata": {},
   "source": [
    "Based on the results from services status on weekends(6th) we had a 16% usage of voice and sms products where status is \"In Service\".On weekdays(8th and 9th) the percentage usage for sms's was higher than weekend with 18% and 24% usage respectively."
   ]
  },
  {
   "cell_type": "markdown",
   "id": "8a941304",
   "metadata": {},
   "source": [
    "#### Recommendation"
   ]
  },
  {
   "cell_type": "markdown",
   "id": "46aa744f",
   "metadata": {},
   "source": [
    "Infrastructure upgrade of voice product should be done on weekdays where we have a lower usage of while upgrade for sms product should be done on a weekend."
   ]
  },
  {
   "cell_type": "code",
   "execution_count": null,
   "id": "cefb14c8",
   "metadata": {},
   "outputs": [],
   "source": []
  }
 ],
 "metadata": {
  "kernelspec": {
   "display_name": "Python 3",
   "language": "python",
   "name": "python3"
  },
  "language_info": {
   "codemirror_mode": {
    "name": "ipython",
    "version": 3
   },
   "file_extension": ".py",
   "mimetype": "text/x-python",
   "name": "python",
   "nbconvert_exporter": "python",
   "pygments_lexer": "ipython3",
   "version": "3.8.8"
  }
 },
 "nbformat": 4,
 "nbformat_minor": 5
}
